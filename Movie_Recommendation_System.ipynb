{
  "nbformat": 4,
  "nbformat_minor": 0,
  "metadata": {
    "colab": {
      "provenance": []
    },
    "kernelspec": {
      "name": "python3",
      "display_name": "Python 3"
    },
    "language_info": {
      "name": "python"
    }
  },
  "cells": [
    {
      "cell_type": "markdown",
      "source": [
        "# **Title of the Project**: Movie Recommendation System Using Collaborative and Content-Based Filtering."
      ],
      "metadata": {
        "id": "gRcLVeUbG73L"
      }
    },
    {
      "cell_type": "markdown",
      "source": [
        "## **Objective:**\n",
        "To develop a basic movie recommendation system that suggests movies similar to a user's chosen movie using collaborative and content-based filtering techniques. The system aims to predict and filter movie preferences based on user behavior and item characteristics to enhance user experience by providing personalized movie recommendations."
      ],
      "metadata": {
        "id": "6aarel8NH0ln"
      }
    },
    {
      "cell_type": "code",
      "source": [],
      "metadata": {
        "id": "pNKtQrheuBe8"
      },
      "execution_count": null,
      "outputs": []
    },
    {
      "cell_type": "markdown",
      "source": [
        "## **Data Source:**\n",
        "I have collected the movie datasets from the YBI Foundation GitHub repository. The datasets can be accessed from the [Link](https://github.com/YBI-Foundation/Dataset/blob/main/Movies%20Recommendation.csv)."
      ],
      "metadata": {
        "id": "jjGQMa1dIoJt"
      }
    },
    {
      "cell_type": "markdown",
      "source": [
        "# Import Library"
      ],
      "metadata": {
        "id": "Cv4SNR1nNp2N"
      }
    },
    {
      "cell_type": "code",
      "execution_count": null,
      "metadata": {
        "id": "D94QCEAr_r_e"
      },
      "outputs": [],
      "source": [
        "import pandas as pd"
      ]
    },
    {
      "cell_type": "code",
      "source": [
        "import numpy as np"
      ],
      "metadata": {
        "id": "MGxdH_sjORf5"
      },
      "execution_count": null,
      "outputs": []
    },
    {
      "cell_type": "markdown",
      "source": [
        "# Import Data"
      ],
      "metadata": {
        "id": "R6Mg_3GdOX61"
      }
    },
    {
      "cell_type": "code",
      "source": [
        "df= pd.read_csv('https://github.com/YBI-Foundation/Dataset/raw/main/Movies%20Recommendation.csv')"
      ],
      "metadata": {
        "id": "uLPKzQgoOfnb"
      },
      "execution_count": null,
      "outputs": []
    },
    {
      "cell_type": "markdown",
      "source": [
        "# Describe Data"
      ],
      "metadata": {
        "id": "98WFM6qz71_S"
      }
    },
    {
      "cell_type": "code",
      "source": [
        "df.head()"
      ],
      "metadata": {
        "colab": {
          "base_uri": "https://localhost:8080/",
          "height": 654
        },
        "id": "psw63apFW1Oq",
        "outputId": "3976d50a-0f89-47ce-aeab-da0cc79a2bad"
      },
      "execution_count": null,
      "outputs": [
        {
          "output_type": "execute_result",
          "data": {
            "text/plain": [
              "   Movie_ID      Movie_Title                       Movie_Genre Movie_Language  \\\n",
              "0         1       Four Rooms                      Crime Comedy             en   \n",
              "1         2        Star Wars  Adventure Action Science Fiction             en   \n",
              "2         3     Finding Nemo                  Animation Family             en   \n",
              "3         4     Forrest Gump              Comedy Drama Romance             en   \n",
              "4         5  American Beauty                             Drama             en   \n",
              "\n",
              "   Movie_Budget  Movie_Popularity Movie_Release_Date  Movie_Revenue  \\\n",
              "0       4000000         22.876230         09-12-1995        4300000   \n",
              "1      11000000        126.393695         25-05-1977      775398007   \n",
              "2      94000000         85.688789         30-05-2003      940335536   \n",
              "3      55000000        138.133331         06-07-1994      677945399   \n",
              "4      15000000         80.878605         15-09-1999      356296601   \n",
              "\n",
              "   Movie_Runtime  Movie_Vote  ...  \\\n",
              "0           98.0         6.5  ...   \n",
              "1          121.0         8.1  ...   \n",
              "2          100.0         7.6  ...   \n",
              "3          142.0         8.2  ...   \n",
              "4          122.0         7.9  ...   \n",
              "\n",
              "                                      Movie_Homepage  \\\n",
              "0                                                NaN   \n",
              "1  http://www.starwars.com/films/star-wars-episod...   \n",
              "2              http://movies.disney.com/finding-nemo   \n",
              "3                                                NaN   \n",
              "4                      http://www.dreamworks.com/ab/   \n",
              "\n",
              "                                      Movie_Keywords  \\\n",
              "0          hotel new year's eve witch bet hotel room   \n",
              "1        android galaxy hermit death star lightsaber   \n",
              "2  father son relationship harbor underwater fish...   \n",
              "3  vietnam veteran hippie mentally disabled runni...   \n",
              "4  male nudity female nudity adultery midlife cri...   \n",
              "\n",
              "                                      Movie_Overview  \\\n",
              "0  It's Ted the Bellhop's first night on the job....   \n",
              "1  Princess Leia is captured and held hostage by ...   \n",
              "2  Nemo, an adventurous young clownfish, is unexp...   \n",
              "3  A man with a low IQ has accomplished great thi...   \n",
              "4  Lester Burnham, a depressed suburban father in...   \n",
              "\n",
              "                              Movie_Production_House  \\\n",
              "0  [{\"name\": \"Miramax Films\", \"id\": 14}, {\"name\":...   \n",
              "1  [{\"name\": \"Lucasfilm\", \"id\": 1}, {\"name\": \"Twe...   \n",
              "2     [{\"name\": \"Pixar Animation Studios\", \"id\": 3}]   \n",
              "3          [{\"name\": \"Paramount Pictures\", \"id\": 4}]   \n",
              "4  [{\"name\": \"DreamWorks SKG\", \"id\": 27}, {\"name\"...   \n",
              "\n",
              "                            Movie_Production_Country  \\\n",
              "0  [{\"iso_3166_1\": \"US\", \"name\": \"United States o...   \n",
              "1  [{\"iso_3166_1\": \"US\", \"name\": \"United States o...   \n",
              "2  [{\"iso_3166_1\": \"US\", \"name\": \"United States o...   \n",
              "3  [{\"iso_3166_1\": \"US\", \"name\": \"United States o...   \n",
              "4  [{\"iso_3166_1\": \"US\", \"name\": \"United States o...   \n",
              "\n",
              "                      Movie_Spoken_Language  \\\n",
              "0  [{\"iso_639_1\": \"en\", \"name\": \"English\"}]   \n",
              "1  [{\"iso_639_1\": \"en\", \"name\": \"English\"}]   \n",
              "2  [{\"iso_639_1\": \"en\", \"name\": \"English\"}]   \n",
              "3  [{\"iso_639_1\": \"en\", \"name\": \"English\"}]   \n",
              "4  [{\"iso_639_1\": \"en\", \"name\": \"English\"}]   \n",
              "\n",
              "                                       Movie_Tagline  \\\n",
              "0  Twelve outrageous guests. Four scandalous requ...   \n",
              "1       A long time ago in a galaxy far, far away...   \n",
              "2  There are 3.7 trillion fish in the ocean, they...   \n",
              "3  The world will never be the same, once you've ...   \n",
              "4                                       Look closer.   \n",
              "\n",
              "                                          Movie_Cast  \\\n",
              "0  Tim Roth Antonio Banderas Jennifer Beals Madon...   \n",
              "1  Mark Hamill Harrison Ford Carrie Fisher Peter ...   \n",
              "2  Albert Brooks Ellen DeGeneres Alexander Gould ...   \n",
              "3  Tom Hanks Robin Wright Gary Sinise Mykelti Wil...   \n",
              "4  Kevin Spacey Annette Bening Thora Birch Wes Be...   \n",
              "\n",
              "                                          Movie_Crew   Movie_Director  \n",
              "0  [{'name': 'Allison Anders', 'gender': 1, 'depa...   Allison Anders  \n",
              "1  [{'name': 'George Lucas', 'gender': 2, 'depart...     George Lucas  \n",
              "2  [{'name': 'Andrew Stanton', 'gender': 2, 'depa...   Andrew Stanton  \n",
              "3  [{'name': 'Alan Silvestri', 'gender': 2, 'depa...  Robert Zemeckis  \n",
              "4  [{'name': 'Thomas Newman', 'gender': 2, 'depar...       Sam Mendes  \n",
              "\n",
              "[5 rows x 21 columns]"
            ],
            "text/html": [
              "\n",
              "  <div id=\"df-03d4d250-50e7-46bc-be5d-2a9d69a0b373\" class=\"colab-df-container\">\n",
              "    <div>\n",
              "<style scoped>\n",
              "    .dataframe tbody tr th:only-of-type {\n",
              "        vertical-align: middle;\n",
              "    }\n",
              "\n",
              "    .dataframe tbody tr th {\n",
              "        vertical-align: top;\n",
              "    }\n",
              "\n",
              "    .dataframe thead th {\n",
              "        text-align: right;\n",
              "    }\n",
              "</style>\n",
              "<table border=\"1\" class=\"dataframe\">\n",
              "  <thead>\n",
              "    <tr style=\"text-align: right;\">\n",
              "      <th></th>\n",
              "      <th>Movie_ID</th>\n",
              "      <th>Movie_Title</th>\n",
              "      <th>Movie_Genre</th>\n",
              "      <th>Movie_Language</th>\n",
              "      <th>Movie_Budget</th>\n",
              "      <th>Movie_Popularity</th>\n",
              "      <th>Movie_Release_Date</th>\n",
              "      <th>Movie_Revenue</th>\n",
              "      <th>Movie_Runtime</th>\n",
              "      <th>Movie_Vote</th>\n",
              "      <th>...</th>\n",
              "      <th>Movie_Homepage</th>\n",
              "      <th>Movie_Keywords</th>\n",
              "      <th>Movie_Overview</th>\n",
              "      <th>Movie_Production_House</th>\n",
              "      <th>Movie_Production_Country</th>\n",
              "      <th>Movie_Spoken_Language</th>\n",
              "      <th>Movie_Tagline</th>\n",
              "      <th>Movie_Cast</th>\n",
              "      <th>Movie_Crew</th>\n",
              "      <th>Movie_Director</th>\n",
              "    </tr>\n",
              "  </thead>\n",
              "  <tbody>\n",
              "    <tr>\n",
              "      <th>0</th>\n",
              "      <td>1</td>\n",
              "      <td>Four Rooms</td>\n",
              "      <td>Crime Comedy</td>\n",
              "      <td>en</td>\n",
              "      <td>4000000</td>\n",
              "      <td>22.876230</td>\n",
              "      <td>09-12-1995</td>\n",
              "      <td>4300000</td>\n",
              "      <td>98.0</td>\n",
              "      <td>6.5</td>\n",
              "      <td>...</td>\n",
              "      <td>NaN</td>\n",
              "      <td>hotel new year's eve witch bet hotel room</td>\n",
              "      <td>It's Ted the Bellhop's first night on the job....</td>\n",
              "      <td>[{\"name\": \"Miramax Films\", \"id\": 14}, {\"name\":...</td>\n",
              "      <td>[{\"iso_3166_1\": \"US\", \"name\": \"United States o...</td>\n",
              "      <td>[{\"iso_639_1\": \"en\", \"name\": \"English\"}]</td>\n",
              "      <td>Twelve outrageous guests. Four scandalous requ...</td>\n",
              "      <td>Tim Roth Antonio Banderas Jennifer Beals Madon...</td>\n",
              "      <td>[{'name': 'Allison Anders', 'gender': 1, 'depa...</td>\n",
              "      <td>Allison Anders</td>\n",
              "    </tr>\n",
              "    <tr>\n",
              "      <th>1</th>\n",
              "      <td>2</td>\n",
              "      <td>Star Wars</td>\n",
              "      <td>Adventure Action Science Fiction</td>\n",
              "      <td>en</td>\n",
              "      <td>11000000</td>\n",
              "      <td>126.393695</td>\n",
              "      <td>25-05-1977</td>\n",
              "      <td>775398007</td>\n",
              "      <td>121.0</td>\n",
              "      <td>8.1</td>\n",
              "      <td>...</td>\n",
              "      <td>http://www.starwars.com/films/star-wars-episod...</td>\n",
              "      <td>android galaxy hermit death star lightsaber</td>\n",
              "      <td>Princess Leia is captured and held hostage by ...</td>\n",
              "      <td>[{\"name\": \"Lucasfilm\", \"id\": 1}, {\"name\": \"Twe...</td>\n",
              "      <td>[{\"iso_3166_1\": \"US\", \"name\": \"United States o...</td>\n",
              "      <td>[{\"iso_639_1\": \"en\", \"name\": \"English\"}]</td>\n",
              "      <td>A long time ago in a galaxy far, far away...</td>\n",
              "      <td>Mark Hamill Harrison Ford Carrie Fisher Peter ...</td>\n",
              "      <td>[{'name': 'George Lucas', 'gender': 2, 'depart...</td>\n",
              "      <td>George Lucas</td>\n",
              "    </tr>\n",
              "    <tr>\n",
              "      <th>2</th>\n",
              "      <td>3</td>\n",
              "      <td>Finding Nemo</td>\n",
              "      <td>Animation Family</td>\n",
              "      <td>en</td>\n",
              "      <td>94000000</td>\n",
              "      <td>85.688789</td>\n",
              "      <td>30-05-2003</td>\n",
              "      <td>940335536</td>\n",
              "      <td>100.0</td>\n",
              "      <td>7.6</td>\n",
              "      <td>...</td>\n",
              "      <td>http://movies.disney.com/finding-nemo</td>\n",
              "      <td>father son relationship harbor underwater fish...</td>\n",
              "      <td>Nemo, an adventurous young clownfish, is unexp...</td>\n",
              "      <td>[{\"name\": \"Pixar Animation Studios\", \"id\": 3}]</td>\n",
              "      <td>[{\"iso_3166_1\": \"US\", \"name\": \"United States o...</td>\n",
              "      <td>[{\"iso_639_1\": \"en\", \"name\": \"English\"}]</td>\n",
              "      <td>There are 3.7 trillion fish in the ocean, they...</td>\n",
              "      <td>Albert Brooks Ellen DeGeneres Alexander Gould ...</td>\n",
              "      <td>[{'name': 'Andrew Stanton', 'gender': 2, 'depa...</td>\n",
              "      <td>Andrew Stanton</td>\n",
              "    </tr>\n",
              "    <tr>\n",
              "      <th>3</th>\n",
              "      <td>4</td>\n",
              "      <td>Forrest Gump</td>\n",
              "      <td>Comedy Drama Romance</td>\n",
              "      <td>en</td>\n",
              "      <td>55000000</td>\n",
              "      <td>138.133331</td>\n",
              "      <td>06-07-1994</td>\n",
              "      <td>677945399</td>\n",
              "      <td>142.0</td>\n",
              "      <td>8.2</td>\n",
              "      <td>...</td>\n",
              "      <td>NaN</td>\n",
              "      <td>vietnam veteran hippie mentally disabled runni...</td>\n",
              "      <td>A man with a low IQ has accomplished great thi...</td>\n",
              "      <td>[{\"name\": \"Paramount Pictures\", \"id\": 4}]</td>\n",
              "      <td>[{\"iso_3166_1\": \"US\", \"name\": \"United States o...</td>\n",
              "      <td>[{\"iso_639_1\": \"en\", \"name\": \"English\"}]</td>\n",
              "      <td>The world will never be the same, once you've ...</td>\n",
              "      <td>Tom Hanks Robin Wright Gary Sinise Mykelti Wil...</td>\n",
              "      <td>[{'name': 'Alan Silvestri', 'gender': 2, 'depa...</td>\n",
              "      <td>Robert Zemeckis</td>\n",
              "    </tr>\n",
              "    <tr>\n",
              "      <th>4</th>\n",
              "      <td>5</td>\n",
              "      <td>American Beauty</td>\n",
              "      <td>Drama</td>\n",
              "      <td>en</td>\n",
              "      <td>15000000</td>\n",
              "      <td>80.878605</td>\n",
              "      <td>15-09-1999</td>\n",
              "      <td>356296601</td>\n",
              "      <td>122.0</td>\n",
              "      <td>7.9</td>\n",
              "      <td>...</td>\n",
              "      <td>http://www.dreamworks.com/ab/</td>\n",
              "      <td>male nudity female nudity adultery midlife cri...</td>\n",
              "      <td>Lester Burnham, a depressed suburban father in...</td>\n",
              "      <td>[{\"name\": \"DreamWorks SKG\", \"id\": 27}, {\"name\"...</td>\n",
              "      <td>[{\"iso_3166_1\": \"US\", \"name\": \"United States o...</td>\n",
              "      <td>[{\"iso_639_1\": \"en\", \"name\": \"English\"}]</td>\n",
              "      <td>Look closer.</td>\n",
              "      <td>Kevin Spacey Annette Bening Thora Birch Wes Be...</td>\n",
              "      <td>[{'name': 'Thomas Newman', 'gender': 2, 'depar...</td>\n",
              "      <td>Sam Mendes</td>\n",
              "    </tr>\n",
              "  </tbody>\n",
              "</table>\n",
              "<p>5 rows × 21 columns</p>\n",
              "</div>\n",
              "    <div class=\"colab-df-buttons\">\n",
              "\n",
              "  <div class=\"colab-df-container\">\n",
              "    <button class=\"colab-df-convert\" onclick=\"convertToInteractive('df-03d4d250-50e7-46bc-be5d-2a9d69a0b373')\"\n",
              "            title=\"Convert this dataframe to an interactive table.\"\n",
              "            style=\"display:none;\">\n",
              "\n",
              "  <svg xmlns=\"http://www.w3.org/2000/svg\" height=\"24px\" viewBox=\"0 -960 960 960\">\n",
              "    <path d=\"M120-120v-720h720v720H120Zm60-500h600v-160H180v160Zm220 220h160v-160H400v160Zm0 220h160v-160H400v160ZM180-400h160v-160H180v160Zm440 0h160v-160H620v160ZM180-180h160v-160H180v160Zm440 0h160v-160H620v160Z\"/>\n",
              "  </svg>\n",
              "    </button>\n",
              "\n",
              "  <style>\n",
              "    .colab-df-container {\n",
              "      display:flex;\n",
              "      gap: 12px;\n",
              "    }\n",
              "\n",
              "    .colab-df-convert {\n",
              "      background-color: #E8F0FE;\n",
              "      border: none;\n",
              "      border-radius: 50%;\n",
              "      cursor: pointer;\n",
              "      display: none;\n",
              "      fill: #1967D2;\n",
              "      height: 32px;\n",
              "      padding: 0 0 0 0;\n",
              "      width: 32px;\n",
              "    }\n",
              "\n",
              "    .colab-df-convert:hover {\n",
              "      background-color: #E2EBFA;\n",
              "      box-shadow: 0px 1px 2px rgba(60, 64, 67, 0.3), 0px 1px 3px 1px rgba(60, 64, 67, 0.15);\n",
              "      fill: #174EA6;\n",
              "    }\n",
              "\n",
              "    .colab-df-buttons div {\n",
              "      margin-bottom: 4px;\n",
              "    }\n",
              "\n",
              "    [theme=dark] .colab-df-convert {\n",
              "      background-color: #3B4455;\n",
              "      fill: #D2E3FC;\n",
              "    }\n",
              "\n",
              "    [theme=dark] .colab-df-convert:hover {\n",
              "      background-color: #434B5C;\n",
              "      box-shadow: 0px 1px 3px 1px rgba(0, 0, 0, 0.15);\n",
              "      filter: drop-shadow(0px 1px 2px rgba(0, 0, 0, 0.3));\n",
              "      fill: #FFFFFF;\n",
              "    }\n",
              "  </style>\n",
              "\n",
              "    <script>\n",
              "      const buttonEl =\n",
              "        document.querySelector('#df-03d4d250-50e7-46bc-be5d-2a9d69a0b373 button.colab-df-convert');\n",
              "      buttonEl.style.display =\n",
              "        google.colab.kernel.accessAllowed ? 'block' : 'none';\n",
              "\n",
              "      async function convertToInteractive(key) {\n",
              "        const element = document.querySelector('#df-03d4d250-50e7-46bc-be5d-2a9d69a0b373');\n",
              "        const dataTable =\n",
              "          await google.colab.kernel.invokeFunction('convertToInteractive',\n",
              "                                                    [key], {});\n",
              "        if (!dataTable) return;\n",
              "\n",
              "        const docLinkHtml = 'Like what you see? Visit the ' +\n",
              "          '<a target=\"_blank\" href=https://colab.research.google.com/notebooks/data_table.ipynb>data table notebook</a>'\n",
              "          + ' to learn more about interactive tables.';\n",
              "        element.innerHTML = '';\n",
              "        dataTable['output_type'] = 'display_data';\n",
              "        await google.colab.output.renderOutput(dataTable, element);\n",
              "        const docLink = document.createElement('div');\n",
              "        docLink.innerHTML = docLinkHtml;\n",
              "        element.appendChild(docLink);\n",
              "      }\n",
              "    </script>\n",
              "  </div>\n",
              "\n",
              "\n",
              "<div id=\"df-7d8033a8-0fc2-4989-aa2a-bbbe863d1a0b\">\n",
              "  <button class=\"colab-df-quickchart\" onclick=\"quickchart('df-7d8033a8-0fc2-4989-aa2a-bbbe863d1a0b')\"\n",
              "            title=\"Suggest charts\"\n",
              "            style=\"display:none;\">\n",
              "\n",
              "<svg xmlns=\"http://www.w3.org/2000/svg\" height=\"24px\"viewBox=\"0 0 24 24\"\n",
              "     width=\"24px\">\n",
              "    <g>\n",
              "        <path d=\"M19 3H5c-1.1 0-2 .9-2 2v14c0 1.1.9 2 2 2h14c1.1 0 2-.9 2-2V5c0-1.1-.9-2-2-2zM9 17H7v-7h2v7zm4 0h-2V7h2v10zm4 0h-2v-4h2v4z\"/>\n",
              "    </g>\n",
              "</svg>\n",
              "  </button>\n",
              "\n",
              "<style>\n",
              "  .colab-df-quickchart {\n",
              "      --bg-color: #E8F0FE;\n",
              "      --fill-color: #1967D2;\n",
              "      --hover-bg-color: #E2EBFA;\n",
              "      --hover-fill-color: #174EA6;\n",
              "      --disabled-fill-color: #AAA;\n",
              "      --disabled-bg-color: #DDD;\n",
              "  }\n",
              "\n",
              "  [theme=dark] .colab-df-quickchart {\n",
              "      --bg-color: #3B4455;\n",
              "      --fill-color: #D2E3FC;\n",
              "      --hover-bg-color: #434B5C;\n",
              "      --hover-fill-color: #FFFFFF;\n",
              "      --disabled-bg-color: #3B4455;\n",
              "      --disabled-fill-color: #666;\n",
              "  }\n",
              "\n",
              "  .colab-df-quickchart {\n",
              "    background-color: var(--bg-color);\n",
              "    border: none;\n",
              "    border-radius: 50%;\n",
              "    cursor: pointer;\n",
              "    display: none;\n",
              "    fill: var(--fill-color);\n",
              "    height: 32px;\n",
              "    padding: 0;\n",
              "    width: 32px;\n",
              "  }\n",
              "\n",
              "  .colab-df-quickchart:hover {\n",
              "    background-color: var(--hover-bg-color);\n",
              "    box-shadow: 0 1px 2px rgba(60, 64, 67, 0.3), 0 1px 3px 1px rgba(60, 64, 67, 0.15);\n",
              "    fill: var(--button-hover-fill-color);\n",
              "  }\n",
              "\n",
              "  .colab-df-quickchart-complete:disabled,\n",
              "  .colab-df-quickchart-complete:disabled:hover {\n",
              "    background-color: var(--disabled-bg-color);\n",
              "    fill: var(--disabled-fill-color);\n",
              "    box-shadow: none;\n",
              "  }\n",
              "\n",
              "  .colab-df-spinner {\n",
              "    border: 2px solid var(--fill-color);\n",
              "    border-color: transparent;\n",
              "    border-bottom-color: var(--fill-color);\n",
              "    animation:\n",
              "      spin 1s steps(1) infinite;\n",
              "  }\n",
              "\n",
              "  @keyframes spin {\n",
              "    0% {\n",
              "      border-color: transparent;\n",
              "      border-bottom-color: var(--fill-color);\n",
              "      border-left-color: var(--fill-color);\n",
              "    }\n",
              "    20% {\n",
              "      border-color: transparent;\n",
              "      border-left-color: var(--fill-color);\n",
              "      border-top-color: var(--fill-color);\n",
              "    }\n",
              "    30% {\n",
              "      border-color: transparent;\n",
              "      border-left-color: var(--fill-color);\n",
              "      border-top-color: var(--fill-color);\n",
              "      border-right-color: var(--fill-color);\n",
              "    }\n",
              "    40% {\n",
              "      border-color: transparent;\n",
              "      border-right-color: var(--fill-color);\n",
              "      border-top-color: var(--fill-color);\n",
              "    }\n",
              "    60% {\n",
              "      border-color: transparent;\n",
              "      border-right-color: var(--fill-color);\n",
              "    }\n",
              "    80% {\n",
              "      border-color: transparent;\n",
              "      border-right-color: var(--fill-color);\n",
              "      border-bottom-color: var(--fill-color);\n",
              "    }\n",
              "    90% {\n",
              "      border-color: transparent;\n",
              "      border-bottom-color: var(--fill-color);\n",
              "    }\n",
              "  }\n",
              "</style>\n",
              "\n",
              "  <script>\n",
              "    async function quickchart(key) {\n",
              "      const quickchartButtonEl =\n",
              "        document.querySelector('#' + key + ' button');\n",
              "      quickchartButtonEl.disabled = true;  // To prevent multiple clicks.\n",
              "      quickchartButtonEl.classList.add('colab-df-spinner');\n",
              "      try {\n",
              "        const charts = await google.colab.kernel.invokeFunction(\n",
              "            'suggestCharts', [key], {});\n",
              "      } catch (error) {\n",
              "        console.error('Error during call to suggestCharts:', error);\n",
              "      }\n",
              "      quickchartButtonEl.classList.remove('colab-df-spinner');\n",
              "      quickchartButtonEl.classList.add('colab-df-quickchart-complete');\n",
              "    }\n",
              "    (() => {\n",
              "      let quickchartButtonEl =\n",
              "        document.querySelector('#df-7d8033a8-0fc2-4989-aa2a-bbbe863d1a0b button');\n",
              "      quickchartButtonEl.style.display =\n",
              "        google.colab.kernel.accessAllowed ? 'block' : 'none';\n",
              "    })();\n",
              "  </script>\n",
              "</div>\n",
              "\n",
              "    </div>\n",
              "  </div>\n"
            ],
            "application/vnd.google.colaboratory.intrinsic+json": {
              "type": "dataframe",
              "variable_name": "df"
            }
          },
          "metadata": {},
          "execution_count": 51
        }
      ]
    },
    {
      "cell_type": "code",
      "source": [
        "df.info()"
      ],
      "metadata": {
        "id": "Aq-MEcHnXmqZ",
        "colab": {
          "base_uri": "https://localhost:8080/"
        },
        "outputId": "1f26bf82-0ba3-468f-f141-66280c42a74f"
      },
      "execution_count": null,
      "outputs": [
        {
          "output_type": "stream",
          "name": "stdout",
          "text": [
            "<class 'pandas.core.frame.DataFrame'>\n",
            "RangeIndex: 4760 entries, 0 to 4759\n",
            "Data columns (total 21 columns):\n",
            " #   Column                    Non-Null Count  Dtype  \n",
            "---  ------                    --------------  -----  \n",
            " 0   Movie_ID                  4760 non-null   int64  \n",
            " 1   Movie_Title               4760 non-null   object \n",
            " 2   Movie_Genre               4760 non-null   object \n",
            " 3   Movie_Language            4760 non-null   object \n",
            " 4   Movie_Budget              4760 non-null   int64  \n",
            " 5   Movie_Popularity          4760 non-null   float64\n",
            " 6   Movie_Release_Date        4760 non-null   object \n",
            " 7   Movie_Revenue             4760 non-null   int64  \n",
            " 8   Movie_Runtime             4758 non-null   float64\n",
            " 9   Movie_Vote                4760 non-null   float64\n",
            " 10  Movie_Vote_Count          4760 non-null   int64  \n",
            " 11  Movie_Homepage            1699 non-null   object \n",
            " 12  Movie_Keywords            4373 non-null   object \n",
            " 13  Movie_Overview            4757 non-null   object \n",
            " 14  Movie_Production_House    4760 non-null   object \n",
            " 15  Movie_Production_Country  4760 non-null   object \n",
            " 16  Movie_Spoken_Language     4760 non-null   object \n",
            " 17  Movie_Tagline             3942 non-null   object \n",
            " 18  Movie_Cast                4733 non-null   object \n",
            " 19  Movie_Crew                4760 non-null   object \n",
            " 20  Movie_Director            4738 non-null   object \n",
            "dtypes: float64(3), int64(4), object(14)\n",
            "memory usage: 781.1+ KB\n"
          ]
        }
      ]
    },
    {
      "cell_type": "code",
      "source": [
        "df.shape"
      ],
      "metadata": {
        "colab": {
          "base_uri": "https://localhost:8080/"
        },
        "id": "qSRJ-e5VYJ-h",
        "outputId": "b44ae101-44a7-4c1c-beca-3af7c99faa9a"
      },
      "execution_count": null,
      "outputs": [
        {
          "output_type": "execute_result",
          "data": {
            "text/plain": [
              "(4760, 21)"
            ]
          },
          "metadata": {},
          "execution_count": 53
        }
      ]
    },
    {
      "cell_type": "code",
      "source": [
        "df.columns"
      ],
      "metadata": {
        "colab": {
          "base_uri": "https://localhost:8080/"
        },
        "id": "5KgBI-y5YOab",
        "outputId": "95f0048f-c822-487a-8529-ac0a0c7336c0"
      },
      "execution_count": null,
      "outputs": [
        {
          "output_type": "execute_result",
          "data": {
            "text/plain": [
              "Index(['Movie_ID', 'Movie_Title', 'Movie_Genre', 'Movie_Language',\n",
              "       'Movie_Budget', 'Movie_Popularity', 'Movie_Release_Date',\n",
              "       'Movie_Revenue', 'Movie_Runtime', 'Movie_Vote', 'Movie_Vote_Count',\n",
              "       'Movie_Homepage', 'Movie_Keywords', 'Movie_Overview',\n",
              "       'Movie_Production_House', 'Movie_Production_Country',\n",
              "       'Movie_Spoken_Language', 'Movie_Tagline', 'Movie_Cast', 'Movie_Crew',\n",
              "       'Movie_Director'],\n",
              "      dtype='object')"
            ]
          },
          "metadata": {},
          "execution_count": 54
        }
      ]
    },
    {
      "cell_type": "markdown",
      "source": [
        "# Data Preprocessing"
      ],
      "metadata": {
        "id": "A8wmeUig8M71"
      }
    },
    {
      "cell_type": "code",
      "source": [
        "df_features=df[['Movie_Genre','Movie_Keywords','Movie_Tagline','Movie_Cast','Movie_Director']].fillna(' ')"
      ],
      "metadata": {
        "id": "fWaXwEcgYitu"
      },
      "execution_count": null,
      "outputs": []
    },
    {
      "cell_type": "code",
      "source": [
        "df_features.shape"
      ],
      "metadata": {
        "colab": {
          "base_uri": "https://localhost:8080/"
        },
        "id": "9NnCc5mZZTlQ",
        "outputId": "da0d3454-9bb8-4031-d84a-4ec9ba9ab756"
      },
      "execution_count": null,
      "outputs": [
        {
          "output_type": "execute_result",
          "data": {
            "text/plain": [
              "(4760, 5)"
            ]
          },
          "metadata": {},
          "execution_count": 56
        }
      ]
    },
    {
      "cell_type": "code",
      "source": [
        "df_features"
      ],
      "metadata": {
        "colab": {
          "base_uri": "https://localhost:8080/",
          "height": 579
        },
        "id": "uswoVh-ZZqYn",
        "outputId": "d8b38522-b99f-4834-baef-8a1d87a44d89"
      },
      "execution_count": null,
      "outputs": [
        {
          "output_type": "execute_result",
          "data": {
            "text/plain": [
              "                           Movie_Genre  \\\n",
              "0                         Crime Comedy   \n",
              "1     Adventure Action Science Fiction   \n",
              "2                     Animation Family   \n",
              "3                 Comedy Drama Romance   \n",
              "4                                Drama   \n",
              "...                                ...   \n",
              "4755                            Horror   \n",
              "4756               Comedy Family Drama   \n",
              "4757                    Thriller Drama   \n",
              "4758                            Family   \n",
              "4759                       Documentary   \n",
              "\n",
              "                                         Movie_Keywords  \\\n",
              "0             hotel new year's eve witch bet hotel room   \n",
              "1           android galaxy hermit death star lightsaber   \n",
              "2     father son relationship harbor underwater fish...   \n",
              "3     vietnam veteran hippie mentally disabled runni...   \n",
              "4     male nudity female nudity adultery midlife cri...   \n",
              "...                                                 ...   \n",
              "4755                                                      \n",
              "4756                                                      \n",
              "4757                     christian film sex trafficking   \n",
              "4758                                                      \n",
              "4759  music actors legendary perfomer classic hollyw...   \n",
              "\n",
              "                                          Movie_Tagline  \\\n",
              "0     Twelve outrageous guests. Four scandalous requ...   \n",
              "1          A long time ago in a galaxy far, far away...   \n",
              "2     There are 3.7 trillion fish in the ocean, they...   \n",
              "3     The world will never be the same, once you've ...   \n",
              "4                                          Look closer.   \n",
              "...                                                 ...   \n",
              "4755                The hot spot where Satan's waitin'.   \n",
              "4756           It’s better to stand out than to fit in.   \n",
              "4757           She never knew it could happen to her...   \n",
              "4758                                                      \n",
              "4759                                                      \n",
              "\n",
              "                                             Movie_Cast     Movie_Director  \n",
              "0     Tim Roth Antonio Banderas Jennifer Beals Madon...     Allison Anders  \n",
              "1     Mark Hamill Harrison Ford Carrie Fisher Peter ...       George Lucas  \n",
              "2     Albert Brooks Ellen DeGeneres Alexander Gould ...     Andrew Stanton  \n",
              "3     Tom Hanks Robin Wright Gary Sinise Mykelti Wil...    Robert Zemeckis  \n",
              "4     Kevin Spacey Annette Bening Thora Birch Wes Be...         Sam Mendes  \n",
              "...                                                 ...                ...  \n",
              "4755  Lisa Hart Carroll Michael Des Barres Paul Drak...         Pece Dingo  \n",
              "4756  Roni Akurati Brighton Sharbino Jason Lee Anjul...       Frank Lotito  \n",
              "4757  Nicole Smolen Kim Baldwin Ariana Stephens Brys...       Jaco Booyens  \n",
              "4758                                                                        \n",
              "4759                                    Tony Oppedisano  Simon Napier-Bell  \n",
              "\n",
              "[4760 rows x 5 columns]"
            ],
            "text/html": [
              "\n",
              "  <div id=\"df-f138a255-d5c5-48b8-9bd9-e28c57a9fd6d\" class=\"colab-df-container\">\n",
              "    <div>\n",
              "<style scoped>\n",
              "    .dataframe tbody tr th:only-of-type {\n",
              "        vertical-align: middle;\n",
              "    }\n",
              "\n",
              "    .dataframe tbody tr th {\n",
              "        vertical-align: top;\n",
              "    }\n",
              "\n",
              "    .dataframe thead th {\n",
              "        text-align: right;\n",
              "    }\n",
              "</style>\n",
              "<table border=\"1\" class=\"dataframe\">\n",
              "  <thead>\n",
              "    <tr style=\"text-align: right;\">\n",
              "      <th></th>\n",
              "      <th>Movie_Genre</th>\n",
              "      <th>Movie_Keywords</th>\n",
              "      <th>Movie_Tagline</th>\n",
              "      <th>Movie_Cast</th>\n",
              "      <th>Movie_Director</th>\n",
              "    </tr>\n",
              "  </thead>\n",
              "  <tbody>\n",
              "    <tr>\n",
              "      <th>0</th>\n",
              "      <td>Crime Comedy</td>\n",
              "      <td>hotel new year's eve witch bet hotel room</td>\n",
              "      <td>Twelve outrageous guests. Four scandalous requ...</td>\n",
              "      <td>Tim Roth Antonio Banderas Jennifer Beals Madon...</td>\n",
              "      <td>Allison Anders</td>\n",
              "    </tr>\n",
              "    <tr>\n",
              "      <th>1</th>\n",
              "      <td>Adventure Action Science Fiction</td>\n",
              "      <td>android galaxy hermit death star lightsaber</td>\n",
              "      <td>A long time ago in a galaxy far, far away...</td>\n",
              "      <td>Mark Hamill Harrison Ford Carrie Fisher Peter ...</td>\n",
              "      <td>George Lucas</td>\n",
              "    </tr>\n",
              "    <tr>\n",
              "      <th>2</th>\n",
              "      <td>Animation Family</td>\n",
              "      <td>father son relationship harbor underwater fish...</td>\n",
              "      <td>There are 3.7 trillion fish in the ocean, they...</td>\n",
              "      <td>Albert Brooks Ellen DeGeneres Alexander Gould ...</td>\n",
              "      <td>Andrew Stanton</td>\n",
              "    </tr>\n",
              "    <tr>\n",
              "      <th>3</th>\n",
              "      <td>Comedy Drama Romance</td>\n",
              "      <td>vietnam veteran hippie mentally disabled runni...</td>\n",
              "      <td>The world will never be the same, once you've ...</td>\n",
              "      <td>Tom Hanks Robin Wright Gary Sinise Mykelti Wil...</td>\n",
              "      <td>Robert Zemeckis</td>\n",
              "    </tr>\n",
              "    <tr>\n",
              "      <th>4</th>\n",
              "      <td>Drama</td>\n",
              "      <td>male nudity female nudity adultery midlife cri...</td>\n",
              "      <td>Look closer.</td>\n",
              "      <td>Kevin Spacey Annette Bening Thora Birch Wes Be...</td>\n",
              "      <td>Sam Mendes</td>\n",
              "    </tr>\n",
              "    <tr>\n",
              "      <th>...</th>\n",
              "      <td>...</td>\n",
              "      <td>...</td>\n",
              "      <td>...</td>\n",
              "      <td>...</td>\n",
              "      <td>...</td>\n",
              "    </tr>\n",
              "    <tr>\n",
              "      <th>4755</th>\n",
              "      <td>Horror</td>\n",
              "      <td></td>\n",
              "      <td>The hot spot where Satan's waitin'.</td>\n",
              "      <td>Lisa Hart Carroll Michael Des Barres Paul Drak...</td>\n",
              "      <td>Pece Dingo</td>\n",
              "    </tr>\n",
              "    <tr>\n",
              "      <th>4756</th>\n",
              "      <td>Comedy Family Drama</td>\n",
              "      <td></td>\n",
              "      <td>It’s better to stand out than to fit in.</td>\n",
              "      <td>Roni Akurati Brighton Sharbino Jason Lee Anjul...</td>\n",
              "      <td>Frank Lotito</td>\n",
              "    </tr>\n",
              "    <tr>\n",
              "      <th>4757</th>\n",
              "      <td>Thriller Drama</td>\n",
              "      <td>christian film sex trafficking</td>\n",
              "      <td>She never knew it could happen to her...</td>\n",
              "      <td>Nicole Smolen Kim Baldwin Ariana Stephens Brys...</td>\n",
              "      <td>Jaco Booyens</td>\n",
              "    </tr>\n",
              "    <tr>\n",
              "      <th>4758</th>\n",
              "      <td>Family</td>\n",
              "      <td></td>\n",
              "      <td></td>\n",
              "      <td></td>\n",
              "      <td></td>\n",
              "    </tr>\n",
              "    <tr>\n",
              "      <th>4759</th>\n",
              "      <td>Documentary</td>\n",
              "      <td>music actors legendary perfomer classic hollyw...</td>\n",
              "      <td></td>\n",
              "      <td>Tony Oppedisano</td>\n",
              "      <td>Simon Napier-Bell</td>\n",
              "    </tr>\n",
              "  </tbody>\n",
              "</table>\n",
              "<p>4760 rows × 5 columns</p>\n",
              "</div>\n",
              "    <div class=\"colab-df-buttons\">\n",
              "\n",
              "  <div class=\"colab-df-container\">\n",
              "    <button class=\"colab-df-convert\" onclick=\"convertToInteractive('df-f138a255-d5c5-48b8-9bd9-e28c57a9fd6d')\"\n",
              "            title=\"Convert this dataframe to an interactive table.\"\n",
              "            style=\"display:none;\">\n",
              "\n",
              "  <svg xmlns=\"http://www.w3.org/2000/svg\" height=\"24px\" viewBox=\"0 -960 960 960\">\n",
              "    <path d=\"M120-120v-720h720v720H120Zm60-500h600v-160H180v160Zm220 220h160v-160H400v160Zm0 220h160v-160H400v160ZM180-400h160v-160H180v160Zm440 0h160v-160H620v160ZM180-180h160v-160H180v160Zm440 0h160v-160H620v160Z\"/>\n",
              "  </svg>\n",
              "    </button>\n",
              "\n",
              "  <style>\n",
              "    .colab-df-container {\n",
              "      display:flex;\n",
              "      gap: 12px;\n",
              "    }\n",
              "\n",
              "    .colab-df-convert {\n",
              "      background-color: #E8F0FE;\n",
              "      border: none;\n",
              "      border-radius: 50%;\n",
              "      cursor: pointer;\n",
              "      display: none;\n",
              "      fill: #1967D2;\n",
              "      height: 32px;\n",
              "      padding: 0 0 0 0;\n",
              "      width: 32px;\n",
              "    }\n",
              "\n",
              "    .colab-df-convert:hover {\n",
              "      background-color: #E2EBFA;\n",
              "      box-shadow: 0px 1px 2px rgba(60, 64, 67, 0.3), 0px 1px 3px 1px rgba(60, 64, 67, 0.15);\n",
              "      fill: #174EA6;\n",
              "    }\n",
              "\n",
              "    .colab-df-buttons div {\n",
              "      margin-bottom: 4px;\n",
              "    }\n",
              "\n",
              "    [theme=dark] .colab-df-convert {\n",
              "      background-color: #3B4455;\n",
              "      fill: #D2E3FC;\n",
              "    }\n",
              "\n",
              "    [theme=dark] .colab-df-convert:hover {\n",
              "      background-color: #434B5C;\n",
              "      box-shadow: 0px 1px 3px 1px rgba(0, 0, 0, 0.15);\n",
              "      filter: drop-shadow(0px 1px 2px rgba(0, 0, 0, 0.3));\n",
              "      fill: #FFFFFF;\n",
              "    }\n",
              "  </style>\n",
              "\n",
              "    <script>\n",
              "      const buttonEl =\n",
              "        document.querySelector('#df-f138a255-d5c5-48b8-9bd9-e28c57a9fd6d button.colab-df-convert');\n",
              "      buttonEl.style.display =\n",
              "        google.colab.kernel.accessAllowed ? 'block' : 'none';\n",
              "\n",
              "      async function convertToInteractive(key) {\n",
              "        const element = document.querySelector('#df-f138a255-d5c5-48b8-9bd9-e28c57a9fd6d');\n",
              "        const dataTable =\n",
              "          await google.colab.kernel.invokeFunction('convertToInteractive',\n",
              "                                                    [key], {});\n",
              "        if (!dataTable) return;\n",
              "\n",
              "        const docLinkHtml = 'Like what you see? Visit the ' +\n",
              "          '<a target=\"_blank\" href=https://colab.research.google.com/notebooks/data_table.ipynb>data table notebook</a>'\n",
              "          + ' to learn more about interactive tables.';\n",
              "        element.innerHTML = '';\n",
              "        dataTable['output_type'] = 'display_data';\n",
              "        await google.colab.output.renderOutput(dataTable, element);\n",
              "        const docLink = document.createElement('div');\n",
              "        docLink.innerHTML = docLinkHtml;\n",
              "        element.appendChild(docLink);\n",
              "      }\n",
              "    </script>\n",
              "  </div>\n",
              "\n",
              "\n",
              "<div id=\"df-c7de48eb-a73d-48bf-8d67-02eddf56e625\">\n",
              "  <button class=\"colab-df-quickchart\" onclick=\"quickchart('df-c7de48eb-a73d-48bf-8d67-02eddf56e625')\"\n",
              "            title=\"Suggest charts\"\n",
              "            style=\"display:none;\">\n",
              "\n",
              "<svg xmlns=\"http://www.w3.org/2000/svg\" height=\"24px\"viewBox=\"0 0 24 24\"\n",
              "     width=\"24px\">\n",
              "    <g>\n",
              "        <path d=\"M19 3H5c-1.1 0-2 .9-2 2v14c0 1.1.9 2 2 2h14c1.1 0 2-.9 2-2V5c0-1.1-.9-2-2-2zM9 17H7v-7h2v7zm4 0h-2V7h2v10zm4 0h-2v-4h2v4z\"/>\n",
              "    </g>\n",
              "</svg>\n",
              "  </button>\n",
              "\n",
              "<style>\n",
              "  .colab-df-quickchart {\n",
              "      --bg-color: #E8F0FE;\n",
              "      --fill-color: #1967D2;\n",
              "      --hover-bg-color: #E2EBFA;\n",
              "      --hover-fill-color: #174EA6;\n",
              "      --disabled-fill-color: #AAA;\n",
              "      --disabled-bg-color: #DDD;\n",
              "  }\n",
              "\n",
              "  [theme=dark] .colab-df-quickchart {\n",
              "      --bg-color: #3B4455;\n",
              "      --fill-color: #D2E3FC;\n",
              "      --hover-bg-color: #434B5C;\n",
              "      --hover-fill-color: #FFFFFF;\n",
              "      --disabled-bg-color: #3B4455;\n",
              "      --disabled-fill-color: #666;\n",
              "  }\n",
              "\n",
              "  .colab-df-quickchart {\n",
              "    background-color: var(--bg-color);\n",
              "    border: none;\n",
              "    border-radius: 50%;\n",
              "    cursor: pointer;\n",
              "    display: none;\n",
              "    fill: var(--fill-color);\n",
              "    height: 32px;\n",
              "    padding: 0;\n",
              "    width: 32px;\n",
              "  }\n",
              "\n",
              "  .colab-df-quickchart:hover {\n",
              "    background-color: var(--hover-bg-color);\n",
              "    box-shadow: 0 1px 2px rgba(60, 64, 67, 0.3), 0 1px 3px 1px rgba(60, 64, 67, 0.15);\n",
              "    fill: var(--button-hover-fill-color);\n",
              "  }\n",
              "\n",
              "  .colab-df-quickchart-complete:disabled,\n",
              "  .colab-df-quickchart-complete:disabled:hover {\n",
              "    background-color: var(--disabled-bg-color);\n",
              "    fill: var(--disabled-fill-color);\n",
              "    box-shadow: none;\n",
              "  }\n",
              "\n",
              "  .colab-df-spinner {\n",
              "    border: 2px solid var(--fill-color);\n",
              "    border-color: transparent;\n",
              "    border-bottom-color: var(--fill-color);\n",
              "    animation:\n",
              "      spin 1s steps(1) infinite;\n",
              "  }\n",
              "\n",
              "  @keyframes spin {\n",
              "    0% {\n",
              "      border-color: transparent;\n",
              "      border-bottom-color: var(--fill-color);\n",
              "      border-left-color: var(--fill-color);\n",
              "    }\n",
              "    20% {\n",
              "      border-color: transparent;\n",
              "      border-left-color: var(--fill-color);\n",
              "      border-top-color: var(--fill-color);\n",
              "    }\n",
              "    30% {\n",
              "      border-color: transparent;\n",
              "      border-left-color: var(--fill-color);\n",
              "      border-top-color: var(--fill-color);\n",
              "      border-right-color: var(--fill-color);\n",
              "    }\n",
              "    40% {\n",
              "      border-color: transparent;\n",
              "      border-right-color: var(--fill-color);\n",
              "      border-top-color: var(--fill-color);\n",
              "    }\n",
              "    60% {\n",
              "      border-color: transparent;\n",
              "      border-right-color: var(--fill-color);\n",
              "    }\n",
              "    80% {\n",
              "      border-color: transparent;\n",
              "      border-right-color: var(--fill-color);\n",
              "      border-bottom-color: var(--fill-color);\n",
              "    }\n",
              "    90% {\n",
              "      border-color: transparent;\n",
              "      border-bottom-color: var(--fill-color);\n",
              "    }\n",
              "  }\n",
              "</style>\n",
              "\n",
              "  <script>\n",
              "    async function quickchart(key) {\n",
              "      const quickchartButtonEl =\n",
              "        document.querySelector('#' + key + ' button');\n",
              "      quickchartButtonEl.disabled = true;  // To prevent multiple clicks.\n",
              "      quickchartButtonEl.classList.add('colab-df-spinner');\n",
              "      try {\n",
              "        const charts = await google.colab.kernel.invokeFunction(\n",
              "            'suggestCharts', [key], {});\n",
              "      } catch (error) {\n",
              "        console.error('Error during call to suggestCharts:', error);\n",
              "      }\n",
              "      quickchartButtonEl.classList.remove('colab-df-spinner');\n",
              "      quickchartButtonEl.classList.add('colab-df-quickchart-complete');\n",
              "    }\n",
              "    (() => {\n",
              "      let quickchartButtonEl =\n",
              "        document.querySelector('#df-c7de48eb-a73d-48bf-8d67-02eddf56e625 button');\n",
              "      quickchartButtonEl.style.display =\n",
              "        google.colab.kernel.accessAllowed ? 'block' : 'none';\n",
              "    })();\n",
              "  </script>\n",
              "</div>\n",
              "\n",
              "  <div id=\"id_201bca88-d4eb-4da4-a3ac-d2e05572ac3a\">\n",
              "    <style>\n",
              "      .colab-df-generate {\n",
              "        background-color: #E8F0FE;\n",
              "        border: none;\n",
              "        border-radius: 50%;\n",
              "        cursor: pointer;\n",
              "        display: none;\n",
              "        fill: #1967D2;\n",
              "        height: 32px;\n",
              "        padding: 0 0 0 0;\n",
              "        width: 32px;\n",
              "      }\n",
              "\n",
              "      .colab-df-generate:hover {\n",
              "        background-color: #E2EBFA;\n",
              "        box-shadow: 0px 1px 2px rgba(60, 64, 67, 0.3), 0px 1px 3px 1px rgba(60, 64, 67, 0.15);\n",
              "        fill: #174EA6;\n",
              "      }\n",
              "\n",
              "      [theme=dark] .colab-df-generate {\n",
              "        background-color: #3B4455;\n",
              "        fill: #D2E3FC;\n",
              "      }\n",
              "\n",
              "      [theme=dark] .colab-df-generate:hover {\n",
              "        background-color: #434B5C;\n",
              "        box-shadow: 0px 1px 3px 1px rgba(0, 0, 0, 0.15);\n",
              "        filter: drop-shadow(0px 1px 2px rgba(0, 0, 0, 0.3));\n",
              "        fill: #FFFFFF;\n",
              "      }\n",
              "    </style>\n",
              "    <button class=\"colab-df-generate\" onclick=\"generateWithVariable('df_features')\"\n",
              "            title=\"Generate code using this dataframe.\"\n",
              "            style=\"display:none;\">\n",
              "\n",
              "  <svg xmlns=\"http://www.w3.org/2000/svg\" height=\"24px\"viewBox=\"0 0 24 24\"\n",
              "       width=\"24px\">\n",
              "    <path d=\"M7,19H8.4L18.45,9,17,7.55,7,17.6ZM5,21V16.75L18.45,3.32a2,2,0,0,1,2.83,0l1.4,1.43a1.91,1.91,0,0,1,.58,1.4,1.91,1.91,0,0,1-.58,1.4L9.25,21ZM18.45,9,17,7.55Zm-12,3A5.31,5.31,0,0,0,4.9,8.1,5.31,5.31,0,0,0,1,6.5,5.31,5.31,0,0,0,4.9,4.9,5.31,5.31,0,0,0,6.5,1,5.31,5.31,0,0,0,8.1,4.9,5.31,5.31,0,0,0,12,6.5,5.46,5.46,0,0,0,6.5,12Z\"/>\n",
              "  </svg>\n",
              "    </button>\n",
              "    <script>\n",
              "      (() => {\n",
              "      const buttonEl =\n",
              "        document.querySelector('#id_201bca88-d4eb-4da4-a3ac-d2e05572ac3a button.colab-df-generate');\n",
              "      buttonEl.style.display =\n",
              "        google.colab.kernel.accessAllowed ? 'block' : 'none';\n",
              "\n",
              "      buttonEl.onclick = () => {\n",
              "        google.colab.notebook.generateWithVariable('df_features');\n",
              "      }\n",
              "      })();\n",
              "    </script>\n",
              "  </div>\n",
              "\n",
              "    </div>\n",
              "  </div>\n"
            ],
            "application/vnd.google.colaboratory.intrinsic+json": {
              "type": "dataframe",
              "variable_name": "df_features",
              "summary": "{\n  \"name\": \"df_features\",\n  \"rows\": 4760,\n  \"fields\": [\n    {\n      \"column\": \"Movie_Genre\",\n      \"properties\": {\n        \"dtype\": \"category\",\n        \"num_unique_values\": 1164,\n        \"samples\": [\n          \"Family Animation Adventure\",\n          \"Adventure Science Fiction Action\",\n          \"Action Crime Drama Romance Thriller\"\n        ],\n        \"semantic_type\": \"\",\n        \"description\": \"\"\n      }\n    },\n    {\n      \"column\": \"Movie_Keywords\",\n      \"properties\": {\n        \"dtype\": \"string\",\n        \"num_unique_values\": 4203,\n        \"samples\": [\n          \"canada nazis sequel spin off ancient evil\",\n          \"sex professor wedding woman director columbia university\",\n          \"prophecy sea beach gold small town\"\n        ],\n        \"semantic_type\": \"\",\n        \"description\": \"\"\n      }\n    },\n    {\n      \"column\": \"Movie_Tagline\",\n      \"properties\": {\n        \"dtype\": \"string\",\n        \"num_unique_values\": 3928,\n        \"samples\": [\n          \"The messenger must be silenced.\",\n          \"It's not the house that's haunted.\",\n          \"The final hunt begins.\"\n        ],\n        \"semantic_type\": \"\",\n        \"description\": \"\"\n      }\n    },\n    {\n      \"column\": \"Movie_Cast\",\n      \"properties\": {\n        \"dtype\": \"string\",\n        \"num_unique_values\": 4715,\n        \"samples\": [\n          \"Robin Tunney Fairuza Balk Neve Campbell Rachel True Skeet Ulrich\",\n          \"Peter Sellers Christopher Plummer Herbert Lom Catherine Schell Peter Arne\",\n          \"John Wayne Laraine Day Cedric Hardwicke Judith Anderson Anthony Quinn\"\n        ],\n        \"semantic_type\": \"\",\n        \"description\": \"\"\n      }\n    },\n    {\n      \"column\": \"Movie_Director\",\n      \"properties\": {\n        \"dtype\": \"category\",\n        \"num_unique_values\": 2332,\n        \"samples\": [\n          \"Rob McKittrick\",\n          \"Terron R. Parsons\",\n          \"Cyrus Nowrasteh\"\n        ],\n        \"semantic_type\": \"\",\n        \"description\": \"\"\n      }\n    }\n  ]\n}"
            }
          },
          "metadata": {},
          "execution_count": 57
        }
      ]
    },
    {
      "cell_type": "markdown",
      "source": [
        "# Define Feature Variable X"
      ],
      "metadata": {
        "id": "KwGNO7Zh8wkp"
      }
    },
    {
      "cell_type": "code",
      "source": [
        "x=df_features['Movie_Genre']+' '+['Movie_Keywords']+' '+['Movie_Tagline']+' '+['Movie_Cast']+' '+['Movie_Director']"
      ],
      "metadata": {
        "id": "HX74qh_SZvh0"
      },
      "execution_count": null,
      "outputs": []
    },
    {
      "cell_type": "code",
      "source": [
        "x"
      ],
      "metadata": {
        "colab": {
          "base_uri": "https://localhost:8080/"
        },
        "id": "YwX3N-XRafIX",
        "outputId": "c84537b5-b5c4-4138-c413-01341930ec31"
      },
      "execution_count": null,
      "outputs": [
        {
          "output_type": "execute_result",
          "data": {
            "text/plain": [
              "0       Crime Comedy Movie_Keywords Movie_Tagline Movi...\n",
              "1       Adventure Action Science Fiction Movie_Keyword...\n",
              "2       Animation Family Movie_Keywords Movie_Tagline ...\n",
              "3       Comedy Drama Romance Movie_Keywords Movie_Tagl...\n",
              "4       Drama Movie_Keywords Movie_Tagline Movie_Cast ...\n",
              "                              ...                        \n",
              "4755    Horror Movie_Keywords Movie_Tagline Movie_Cast...\n",
              "4756    Comedy Family Drama Movie_Keywords Movie_Tagli...\n",
              "4757    Thriller Drama Movie_Keywords Movie_Tagline Mo...\n",
              "4758    Family Movie_Keywords Movie_Tagline Movie_Cast...\n",
              "4759    Documentary Movie_Keywords Movie_Tagline Movie...\n",
              "Name: Movie_Genre, Length: 4760, dtype: object"
            ]
          },
          "metadata": {},
          "execution_count": 59
        }
      ]
    },
    {
      "cell_type": "code",
      "source": [
        "x.shape"
      ],
      "metadata": {
        "colab": {
          "base_uri": "https://localhost:8080/"
        },
        "id": "YhGMbAJ6ajXb",
        "outputId": "8b58d64f-a3ff-42da-ef31-1a7e8bc2dfd3"
      },
      "execution_count": null,
      "outputs": [
        {
          "output_type": "execute_result",
          "data": {
            "text/plain": [
              "(4760,)"
            ]
          },
          "metadata": {},
          "execution_count": 60
        }
      ]
    },
    {
      "cell_type": "markdown",
      "source": [
        "# Modeling"
      ],
      "metadata": {
        "id": "hs94s2P-9F0H"
      }
    },
    {
      "cell_type": "code",
      "source": [
        "from sklearn.feature_extraction.text import TfidfVectorizer"
      ],
      "metadata": {
        "id": "GPeF0agpam6o"
      },
      "execution_count": null,
      "outputs": []
    },
    {
      "cell_type": "code",
      "source": [
        "tfidf= TfidfVectorizer()"
      ],
      "metadata": {
        "id": "E0W6iohRbGE5"
      },
      "execution_count": null,
      "outputs": []
    },
    {
      "cell_type": "code",
      "source": [
        "x= tfidf.fit_transform(x)"
      ],
      "metadata": {
        "id": "waMYgr58bVha"
      },
      "execution_count": null,
      "outputs": []
    },
    {
      "cell_type": "code",
      "source": [
        "x.shape"
      ],
      "metadata": {
        "colab": {
          "base_uri": "https://localhost:8080/"
        },
        "id": "h3QdOj3tbi9u",
        "outputId": "00c36be8-54d1-498e-e374-49f4324e10a0"
      },
      "execution_count": null,
      "outputs": [
        {
          "output_type": "execute_result",
          "data": {
            "text/plain": [
              "(4760, 26)"
            ]
          },
          "metadata": {},
          "execution_count": 64
        }
      ]
    },
    {
      "cell_type": "code",
      "source": [
        "print(x)"
      ],
      "metadata": {
        "colab": {
          "base_uri": "https://localhost:8080/"
        },
        "id": "OBQwcxMPbldk",
        "outputId": "1cd4af58-9507-42d0-f45d-95b9fab65039"
      },
      "execution_count": null,
      "outputs": [
        {
          "output_type": "stream",
          "name": "stdout",
          "text": [
            "  (0, 15)\t0.24526016250489494\n",
            "  (0, 14)\t0.24526016250489494\n",
            "  (0, 17)\t0.24526016250489494\n",
            "  (0, 16)\t0.24526016250489494\n",
            "  (0, 3)\t0.49496773530062305\n",
            "  (0, 4)\t0.7172145786050801\n",
            "  (1, 9)\t0.5177907257262411\n",
            "  (1, 21)\t0.5177907257262411\n",
            "  (1, 0)\t0.39194077147527345\n",
            "  (1, 1)\t0.4531895100151198\n",
            "  (1, 15)\t0.16185427733875965\n",
            "  (1, 14)\t0.16185427733875965\n",
            "  (1, 17)\t0.16185427733875965\n",
            "  (1, 16)\t0.16185427733875965\n",
            "  (2, 7)\t0.5847336880297695\n",
            "  (2, 2)\t0.7260478843002506\n",
            "  (2, 15)\t0.18092884221858754\n",
            "  (2, 14)\t0.18092884221858754\n",
            "  (2, 17)\t0.18092884221858754\n",
            "  (2, 16)\t0.18092884221858754\n",
            "  (3, 20)\t0.6269911394318903\n",
            "  (3, 6)\t0.4054677815763429\n",
            "  (3, 15)\t0.23411651788682672\n",
            "  (3, 14)\t0.23411651788682672\n",
            "  (3, 17)\t0.23411651788682672\n",
            "  :\t:\n",
            "  (4755, 17)\t0.26391697709738293\n",
            "  (4755, 16)\t0.26391697709738293\n",
            "  (4756, 6)\t0.37336335770237256\n",
            "  (4756, 7)\t0.6967190894562192\n",
            "  (4756, 15)\t0.21557946940194858\n",
            "  (4756, 14)\t0.21557946940194858\n",
            "  (4756, 17)\t0.21557946940194858\n",
            "  (4756, 16)\t0.21557946940194858\n",
            "  (4756, 3)\t0.4350681360453833\n",
            "  (4757, 22)\t0.6613223527130238\n",
            "  (4757, 6)\t0.49103343701909863\n",
            "  (4757, 15)\t0.2835220051121791\n",
            "  (4757, 14)\t0.2835220051121791\n",
            "  (4757, 17)\t0.2835220051121791\n",
            "  (4757, 16)\t0.2835220051121791\n",
            "  (4758, 7)\t0.8503434408036582\n",
            "  (4758, 15)\t0.26311405924151765\n",
            "  (4758, 14)\t0.26311405924151765\n",
            "  (4758, 17)\t0.26311405924151765\n",
            "  (4758, 16)\t0.26311405924151765\n",
            "  (4759, 5)\t0.9218884832693588\n",
            "  (4759, 15)\t0.19372765962513022\n",
            "  (4759, 14)\t0.19372765962513022\n",
            "  (4759, 17)\t0.19372765962513022\n",
            "  (4759, 16)\t0.19372765962513022\n"
          ]
        }
      ]
    },
    {
      "cell_type": "code",
      "source": [
        "from sklearn.metrics.pairwise import cosine_similarity"
      ],
      "metadata": {
        "id": "g5UjgX0tbohh"
      },
      "execution_count": null,
      "outputs": []
    },
    {
      "cell_type": "code",
      "source": [
        "similarity_score= cosine_similarity(x)"
      ],
      "metadata": {
        "id": "4XLbY2iRb3Nk"
      },
      "execution_count": null,
      "outputs": []
    },
    {
      "cell_type": "code",
      "source": [
        "similarity_score"
      ],
      "metadata": {
        "colab": {
          "base_uri": "https://localhost:8080/"
        },
        "id": "0yB0fNHeb-0j",
        "outputId": "22662f0e-6f76-47c8-9dc2-66e2defab142"
      },
      "execution_count": null,
      "outputs": [
        {
          "output_type": "execute_result",
          "data": {
            "text/plain": [
              "array([[1.        , 0.15878563, 0.17749855, ..., 0.27814661, 0.25812559,\n",
              "        0.19005471],\n",
              "       [0.15878563, 1.        , 0.11713643, ..., 0.183557  , 0.17034454,\n",
              "        0.1254226 ],\n",
              "       [0.17749855, 0.11713643, 1.        , ..., 0.20518923, 0.68764414,\n",
              "        0.14020368],\n",
              "       ...,\n",
              "       [0.27814661, 0.183557  , 0.20518923, ..., 1.        , 0.2983945 ,\n",
              "        0.21970422],\n",
              "       [0.25812559, 0.17034454, 0.68764414, ..., 0.2983945 , 1.        ,\n",
              "        0.20388988],\n",
              "       [0.19005471, 0.1254226 , 0.14020368, ..., 0.21970422, 0.20388988,\n",
              "        1.        ]])"
            ]
          },
          "metadata": {},
          "execution_count": 68
        }
      ]
    },
    {
      "cell_type": "code",
      "source": [
        "similarity_score.shape"
      ],
      "metadata": {
        "colab": {
          "base_uri": "https://localhost:8080/"
        },
        "id": "AlsHgv-1cD4v",
        "outputId": "8d81f805-e456-4deb-cea3-43a1461046fd"
      },
      "execution_count": null,
      "outputs": [
        {
          "output_type": "execute_result",
          "data": {
            "text/plain": [
              "(4760, 4760)"
            ]
          },
          "metadata": {},
          "execution_count": 69
        }
      ]
    },
    {
      "cell_type": "markdown",
      "source": [
        "# Prediction"
      ],
      "metadata": {
        "id": "5Fg_5mk79iyP"
      }
    },
    {
      "cell_type": "code",
      "source": [
        "favourite_movie_name= input('Enter your favourite movie name : ')"
      ],
      "metadata": {
        "colab": {
          "base_uri": "https://localhost:8080/"
        },
        "id": "AgX-FqoHcKOM",
        "outputId": "f570f75b-4478-46a7-eb33-98ddc74d5540"
      },
      "execution_count": null,
      "outputs": [
        {
          "name": "stdout",
          "output_type": "stream",
          "text": [
            "Enter your favourite movie name : avtaar\n"
          ]
        }
      ]
    },
    {
      "cell_type": "code",
      "source": [
        "All_Movies_Title_List= df['Movie_Title'].tolist()"
      ],
      "metadata": {
        "id": "e2bvlF2Xczmu"
      },
      "execution_count": null,
      "outputs": []
    },
    {
      "cell_type": "code",
      "source": [
        "import difflib"
      ],
      "metadata": {
        "id": "UZMQ1RJAgrM5"
      },
      "execution_count": null,
      "outputs": []
    },
    {
      "cell_type": "code",
      "source": [
        "Movie_Recommendation = difflib.get_close_matches(favourite_movie_name, All_Movies_Title_List)\n",
        "print(Movie_Recommendation)"
      ],
      "metadata": {
        "colab": {
          "base_uri": "https://localhost:8080/"
        },
        "id": "-e7lggBihKdd",
        "outputId": "f6c52004-8b4b-4aa0-88d5-dbff102870a0"
      },
      "execution_count": null,
      "outputs": [
        {
          "output_type": "stream",
          "name": "stdout",
          "text": [
            "['Avatar', 'Gattaca']\n"
          ]
        }
      ]
    },
    {
      "cell_type": "code",
      "source": [
        "Close_Match = Movie_Recommendation[0]\n",
        "print(Close_Match)"
      ],
      "metadata": {
        "colab": {
          "base_uri": "https://localhost:8080/"
        },
        "id": "sLT7KeMBnQFy",
        "outputId": "5d585f2c-1553-4129-d70e-064914b3ab7a"
      },
      "execution_count": null,
      "outputs": [
        {
          "output_type": "stream",
          "name": "stdout",
          "text": [
            "Avatar\n"
          ]
        }
      ]
    },
    {
      "cell_type": "code",
      "source": [
        "Index_of_Close_Match_Movie = df[df.Movie_Title == Close_Match]['Movie_ID'].values[0]\n",
        "print(Index_of_Close_Match_Movie)"
      ],
      "metadata": {
        "colab": {
          "base_uri": "https://localhost:8080/"
        },
        "id": "gN4LtJQan4L3",
        "outputId": "712ec02d-e27f-42d8-9b52-05b9a0232714"
      },
      "execution_count": null,
      "outputs": [
        {
          "output_type": "stream",
          "name": "stdout",
          "text": [
            "2692\n"
          ]
        }
      ]
    },
    {
      "cell_type": "code",
      "source": [
        "# getting a list of similar movies\n",
        "Recommendation_Score = list(enumerate(similarity_score[Index_of_Close_Match_Movie]))\n",
        "print(Recommendation_Score)"
      ],
      "metadata": {
        "colab": {
          "base_uri": "https://localhost:8080/"
        },
        "id": "fMWsgsfuqLLp",
        "outputId": "3af4ac07-0823-4cd0-d972-cfb9ca45550b"
      },
      "execution_count": null,
      "outputs": [
        {
          "output_type": "stream",
          "name": "stdout",
          "text": [
            "[(0, 0.6718928346490409), (1, 0.14130588500477448), (2, 0.1579588169861995), (3, 0.3576638379410599), (4, 0.5774435394444509), (5, 0.5843839857047233), (6, 0.2768448102385988), (7, 0.29149286277339803), (8, 0.40581718644558207), (9, 0.1607743591221443), (10, 0.6383825828910616), (11, 0.29172256125015494), (12, 0.29172256125015494), (13, 0.16008222106639874), (14, 0.14837694196736156), (15, 0.2595678584515598), (16, 0.769820204749827), (17, 0.1607743591221443), (18, 1.0000000000000002), (19, 0.12956401823871008), (20, 0.5774435394444509), (21, 1.0000000000000002), (22, 0.1634169981293903), (23, 0.26857806743842627), (24, 0.5774435394444509), (25, 0.2824469353088492), (26, 0.5774435394444509), (27, 0.3353704519243936), (28, 0.1374826137678041), (29, 0.40581718644558207), (30, 0.43404109111602796), (31, 0.4733104037758452), (32, 0.246983926945853), (33, 0.40581718644558207), (34, 0.769820204749827), (35, 0.20749214135139132), (36, 0.20749214135139132), (37, 0.20749214135139132), (38, 0.577688746972546), (39, 0.31201096671970374), (40, 0.577688746972546), (41, 0.33575478425716265), (42, 0.6718928346490409), (43, 0.8607077864206123), (44, 0.6346403716990514), (45, 0.12758253214920692), (46, 0.31201096671970374), (47, 0.9258025488242041), (48, 0.8841088739713499), (49, 0.22359906332596213), (50, 0.6718928346490409), (51, 0.8633296093440735), (52, 0.7379372233470538), (53, 0.14136395646137015), (54, 0.1607743591221443), (55, 0.1607743591221443), (56, 0.1607743591221443), (57, 0.1385140848438108), (58, 0.12325563192382069), (59, 0.18708521078998225), (60, 0.27879021383104813), (61, 0.27057474123617387), (62, 0.40581718644558207), (63, 0.2893544097541062), (64, 0.1370638340429739), (65, 0.12956401823871008), (66, 0.5774435394444509), (67, 0.31201096671970374), (68, 0.8841088739713499), (69, 0.31201096671970374), (70, 0.9258025488242041), (71, 0.2998670239757553), (72, 0.9258025488242041), (73, 0.12758253214920692), (74, 0.29149286277339803), (75, 0.15359494732499762), (76, 0.34450803013496983), (77, 0.3247189447150259), (78, 0.31201096671970374), (79, 0.2571021750988782), (80, 0.31201096671970374), (81, 0.45655376675280757), (82, 0.4591164613639005), (83, 0.9258025488242041), (84, 0.2947537324589387), (85, 0.4525773912307209), (86, 0.5615838293282571), (87, 0.7847345223856955), (88, 0.8040074807703947), (89, 0.9258025488242041), (90, 0.31201096671970374), (91, 0.12758253214920692), (92, 0.21424721266559527), (93, 0.31201096671970374), (94, 0.31201096671970374), (95, 0.31201096671970374), (96, 0.8607077864206123), (97, 0.2277845066340535), (98, 0.5774435394444509), (99, 0.7375470759529579), (100, 0.23041109959965103), (101, 0.20749214135139132), (102, 0.34450803013496983), (103, 0.3576638379410599), (104, 0.34079230902503704), (105, 0.8607077864206123), (106, 0.8607077864206123), (107, 0.769820204749827), (108, 0.8607077864206123), (109, 0.8607077864206123), (110, 0.22359906332596213), (111, 0.8607077864206123), (112, 1.0000000000000002), (113, 0.25311891209322196), (114, 0.3576638379410599), (115, 0.4591164613639005), (116, 0.4070607656990726), (117, 0.1704706783522149), (118, 0.4283064344424885), (119, 0.33575478425716265), (120, 0.6657074209466027), (121, 0.40581718644558207), (122, 0.1876423760366753), (123, 0.7334595797119441), (124, 1.0000000000000002), (125, 0.39590252545539845), (126, 0.8607077864206123), (127, 0.23368257964629513), (128, 0.34450803013496983), (129, 0.3576638379410599), (130, 0.1607743591221443), (131, 0.16008222106639874), (132, 0.40581718644558207), (133, 0.1691327460931872), (134, 0.12484625227448906), (135, 0.34450803013496983), (136, 0.27057474123617387), (137, 0.9258025488242041), (138, 0.9258025488242041), (139, 0.577688746972546), (140, 0.5774435394444509), (141, 0.19592263977429356), (142, 0.8607077864206123), (143, 0.6383825828910616), (144, 0.704985672625155), (145, 0.7043042793313414), (146, 0.22359906332596213), (147, 0.7847345223856955), (148, 0.6713724460827621), (149, 1.0000000000000002), (150, 0.15359494732499762), (151, 0.14130588500477448), (152, 0.31201096671970374), (153, 0.15380226153821258), (154, 0.5774435394444509), (155, 0.16008222106639874), (156, 0.3576638379410599), (157, 0.4591164613639005), (158, 0.34079230902503704), (159, 0.42595503959828285), (160, 0.3033790084483862), (161, 0.3576638379410599), (162, 0.1876423760366753), (163, 0.23041109959965103), (164, 0.5774435394444509), (165, 0.19942360278492544), (166, 1.0000000000000002), (167, 0.5774435394444509), (168, 0.16008222106639874), (169, 0.3576638379410599), (170, 0.8040074807703947), (171, 0.14130588500477448), (172, 0.8607077864206123), (173, 0.8607077864206123), (174, 0.3576638379410599), (175, 0.4591164613639005), (176, 0.5774435394444509), (177, 0.13418467210678842), (178, 0.25973000988105666), (179, 0.14957546926195867), (180, 0.4985119092444133), (181, 0.4985119092444133), (182, 0.3512942857639538), (183, 0.29172256125015494), (184, 0.2277845066340535), (185, 0.1339804769463195), (186, 0.16008222106639874), (187, 0.31420713206026873), (188, 0.15860076967123563), (189, 0.31201096671970374), (190, 1.0000000000000002), (191, 0.2707616739296186), (192, 0.40581718644558207), (193, 0.40581718644558207), (194, 0.40581718644558207), (195, 0.3576638379410599), (196, 0.5774435394444509), (197, 0.25311891209322196), (198, 0.40581718644558207), (199, 1.0000000000000002), (200, 0.5373059199009915), (201, 0.6975216542850202), (202, 0.3576638379410599), (203, 0.5774435394444509), (204, 0.319552926072337), (205, 0.30727150565679506), (206, 0.6491998009149268), (207, 0.9258025488242041), (208, 0.5310261898743222), (209, 0.8607077864206123), (210, 0.8841088739713499), (211, 0.3576638379410599), (212, 0.3576638379410599), (213, 0.5774435394444509), (214, 0.18975083498584525), (215, 0.2855207834326321), (216, 0.8607077864206123), (217, 0.42956225045934276), (218, 0.26279337899351646), (219, 0.1339804769463195), (220, 0.34450803013496983), (221, 0.26857806743842627), (222, 0.5686715595662128), (223, 0.2779777042354511), (224, 0.40581718644558207), (225, 0.22359906332596213), (226, 0.5774435394444509), (227, 0.40581718644558207), (228, 0.3082907043434548), (229, 0.5774435394444509), (230, 0.1876423760366753), (231, 0.1607743591221443), (232, 0.1607743591221443), (233, 0.5267049190476042), (234, 0.31201096671970374), (235, 0.5774435394444509), (236, 0.7847345223856955), (237, 0.14240996485133864), (238, 0.5104283305674082), (239, 0.3919481797240909), (240, 0.4630964659918842), (241, 0.4956782668177194), (242, 0.23981349497614568), (243, 0.769820204749827), (244, 0.8040074807703947), (245, 0.14837694196736156), (246, 0.4591164613639005), (247, 0.29608335997396873), (248, 0.1666241508970162), (249, 0.5774435394444509), (250, 0.43404109111602796), (251, 0.6341512839347304), (252, 0.2195837941058396), (253, 0.4591164613639005), (254, 0.8607077864206123), (255, 0.6131070321933155), (256, 0.8607077864206123), (257, 0.11821978749917517), (258, 0.14130588500477448), (259, 0.15851877355284183), (260, 0.31201096671970374), (261, 0.31201096671970374), (262, 0.5774435394444509), (263, 0.13432166923420846), (264, 0.13432166923420846), (265, 0.23041109959965103), (266, 0.453409753862414), (267, 0.2277845066340535), (268, 0.5774435394444509), (269, 0.21424721266559527), (270, 0.6341512839347304), (271, 0.4109236096065755), (272, 0.26119490088809655), (273, 0.3592694433924497), (274, 0.8607077864206123), (275, 0.18815706255397033), (276, 1.0000000000000002), (277, 0.14957546926195867), (278, 0.3576638379410599), (279, 0.3576638379410599), (280, 0.8607077864206123), (281, 0.8607077864206123), (282, 0.4424440086924065), (283, 0.2571021750988782), (284, 0.4283064344424885), (285, 0.8607077864206123), (286, 0.257259746572226), (287, 0.8607077864206123), (288, 0.4283064344424885), (289, 0.4283064344424885), (290, 0.4283064344424885), (291, 0.7375470759529579), (292, 0.33575478425716265), (293, 0.5774435394444509), (294, 0.4283064344424885), (295, 0.4283064344424885), (296, 0.48454509986888894), (297, 0.14957546926195867), (298, 0.14957546926195867), (299, 0.14957546926195867), (300, 0.14957546926195867), (301, 0.1271239611019201), (302, 0.12452415710518708), (303, 0.3033790084483862), (304, 0.9258025488242041), (305, 0.4283064344424885), (306, 0.4283064344424885), (307, 0.23986653849940837), (308, 0.5774435394444509), (309, 0.40581718644558207), (310, 0.4283064344424885), (311, 0.5274002381010251), (312, 0.22359906332596213), (313, 0.4630964659918842), (314, 0.31201096671970374), (315, 0.4283064344424885), (316, 0.4283064344424885), (317, 0.5774435394444509), (318, 0.3576638379410599), (319, 0.17038021244339496), (320, 0.4283064344424885), (321, 0.4283064344424885), (322, 0.4283064344424885), (323, 0.4283064344424885), (324, 0.5774435394444509), (325, 0.3576638379410599), (326, 0.40581718644558207), (327, 0.4283064344424885), (328, 0.14264024918175755), (329, 0.5373059199009915), (330, 0.3082907043434548), (331, 0.20336414250433205), (332, 0.39590252545539845), (333, 0.5898435522384278), (334, 0.6713724460827621), (335, 0.12506358450692168), (336, 0.16589153441041044), (337, 0.23041109959965103), (338, 0.15883093657515635), (339, 0.15883093657515635), (340, 0.14957546926195867), (341, 0.3592694433924497), (342, 0.8607077864206123), (343, 0.25973000988105666), (344, 0.2028816862494748), (345, 0.4636641386938303), (346, 0.4591164613639005), (347, 0.29088570212769854), (348, 0.3082907043434548), (349, 0.3044315391294435), (350, 0.5739861797454447), (351, 0.3293444695981306), (352, 0.23041109959965103), (353, 0.26478478411239365), (354, 0.4630964659918842), (355, 0.2998670239757553), (356, 0.6131070321933155), (357, 0.27220916764545056), (358, 0.40581718644558207), (359, 0.2768398572587637), (360, 0.7043042793313414), (361, 0.11853812865975578), (362, 0.11853812865975578), (363, 0.11853812865975578), (364, 0.2571021750988782), (365, 0.11853812865975578), (366, 0.30727150565679506), (367, 0.44980725813231326), (368, 0.40868645184396557), (369, 0.44980725813231326), (370, 1.0000000000000002), (371, 0.4957502148880942), (372, 0.3082907043434548), (373, 0.26857806743842627), (374, 0.2277845066340535), (375, 0.29879405421154237), (376, 0.12611540498270837), (377, 0.4591164613639005), (378, 0.29149286277339803), (379, 0.14130588500477448), (380, 0.31420713206026873), (381, 0.21975177990042366), (382, 0.1607743591221443), (383, 0.2028816862494748), (384, 0.17665044012719155), (385, 0.45926980110323057), (386, 0.12621518576123342), (387, 0.2277845066340535), (388, 0.40581718644558207), (389, 0.3767693137687599), (390, 0.14130588500477448), (391, 0.14837694196736156), (392, 0.14837694196736156), (393, 0.30727150565679506), (394, 0.15851877355284183), (395, 0.5774435394444509), (396, 0.8607077864206123), (397, 0.31201096671970374), (398, 0.15099995909686276), (399, 0.5774435394444509), (400, 0.3082907043434548), (401, 0.14136395646137015), (402, 0.5774435394444509), (403, 0.27121684321353084), (404, 0.15860076967123563), (405, 0.12850185742929882), (406, 0.6131070321933155), (407, 0.25973000988105666), (408, 0.7120316658355228), (409, 0.1339804769463195), (410, 0.27121684321353084), (411, 0.1543225237431612), (412, 0.5774435394444509), (413, 0.13982333860009344), (414, 0.15883093657515635), (415, 0.15883093657515635), (416, 0.27220916764545056), (417, 0.6566099254452886), (418, 0.6566099254452886), (419, 0.210201787675401), (420, 0.4630964659918842), (421, 0.1339804769463195), (422, 0.30727150565679506), (423, 0.1579588169861995), (424, 0.4283064344424885), (425, 0.4283064344424885), (426, 0.4283064344424885), (427, 0.1634169981293903), (428, 0.26840773230598897), (429, 0.7847345223856955), (430, 0.21690182362671184), (431, 0.3576638379410599), (432, 0.5774435394444509), (433, 0.5373059199009915), (434, 0.35249976392931137), (435, 0.8040074807703947), (436, 0.5373059199009915), (437, 0.3657767348484995), (438, 0.31420713206026873), (439, 0.12611540498270837), (440, 0.15851877355284183), (441, 0.2277845066340535), (442, 0.6346403716990514), (443, 0.5373059199009915), (444, 0.5774435394444509), (445, 0.5774435394444509), (446, 0.5774435394444509), (447, 1.0000000000000002), (448, 0.40581718644558207), (449, 0.5774435394444509), (450, 1.0000000000000002), (451, 0.33672873670931036), (452, 0.23821532322863345), (453, 0.24840028168945785), (454, 0.30727150565679506), (455, 0.40581718644558207), (456, 0.27879021383104813), (457, 0.3038212571040355), (458, 0.8841088739713499), (459, 0.2028816862494748), (460, 0.3767693137687599), (461, 0.1339804769463195), (462, 0.1691327460931872), (463, 1.0000000000000002), (464, 0.40581718644558207), (465, 0.40581718644558207), (466, 0.5774435394444509), (467, 0.3121657490926757), (468, 0.3121657490926757), (469, 0.3121657490926757), (470, 0.6346403716990514), (471, 0.3576638379410599), (472, 0.23439514601483286), (473, 0.4591164613639005), (474, 0.5615838293282571), (475, 0.40581718644558207), (476, 0.5774435394444509), (477, 0.20749214135139132), (478, 0.5774435394444509), (479, 0.7662010593444261), (480, 0.24397892028690443), (481, 1.0000000000000002), (482, 0.5373059199009915), (483, 0.6491998009149268), (484, 0.2779777042354511), (485, 0.8607077864206123), (486, 0.1691327460931872), (487, 0.28058888994388304), (488, 0.27121684321353084), (489, 0.40581718644558207), (490, 0.40581718644558207), (491, 0.12352111685766987), (492, 0.13452743077000665), (493, 0.4845789163360197), (494, 0.577688746972546), (495, 0.3077229199237533), (496, 0.19942360278492544), (497, 0.12027375650197368), (498, 0.13160851562164844), (499, 0.5774435394444509), (500, 0.8040074807703947), (501, 0.6975216542850202), (502, 1.0000000000000002), (503, 0.6718928346490409), (504, 0.3576638379410599), (505, 0.4591164613639005), (506, 0.20336414250433205), (507, 0.4591164613639005), (508, 0.4591164613639005), (509, 0.4127903558165141), (510, 0.3576638379410599), (511, 0.3247189447150259), (512, 0.5267049190476042), (513, 0.5267049190476042), (514, 0.5267049190476042), (515, 0.5136143592984428), (516, 0.1368653969522434), (517, 0.1368653969522434), (518, 0.5774435394444509), (519, 0.5310261898743222), (520, 0.22359906332596213), (521, 0.17038021244339496), (522, 0.28258151787370384), (523, 0.43404109111602796), (524, 0.40581718644558207), (525, 0.30727150565679506), (526, 0.5774435394444509), (527, 0.5774435394444509), (528, 0.13160851562164844), (529, 0.22359906332596213), (530, 0.9258025488242041), (531, 0.22359906332596213), (532, 0.7430748036499564), (533, 0.8841088739713499), (534, 0.8841088739713499), (535, 0.30727150565679506), (536, 0.30727150565679506), (537, 0.31201096671970374), (538, 0.16792779426448132), (539, 0.5346424141802321), (540, 0.4283064344424885), (541, 0.5774435394444509), (542, 0.7248604787214318), (543, 1.0000000000000002), (544, 0.8607077864206123), (545, 0.14474245341341693), (546, 0.11403822893073125), (547, 0.7120316658355228), (548, 0.20749214135139132), (549, 0.1433535293418951), (550, 0.4283064344424885), (551, 0.3044315391294435), (552, 0.23041109959965103), (553, 0.12956401823871008), (554, 0.15851877355284183), (555, 0.15851877355284183), (556, 0.23041109959965103), (557, 0.23041109959965103), (558, 0.6668339314631981), (559, 0.4630964659918842), (560, 0.8040074807703947), (561, 0.15851877355284183), (562, 0.769820204749827), (563, 0.769820204749827), (564, 0.27121684321353084), (565, 0.14130588500477448), (566, 0.5843839857047233), (567, 0.14130588500477448), (568, 0.1607743591221443), (569, 0.1607743591221443), (570, 0.1607743591221443), (571, 0.769820204749827), (572, 0.14130588500477448), (573, 0.1691327460931872), (574, 0.13131525332088015), (575, 0.1691327460931872), (576, 0.23351820229851009), (577, 0.30727150565679506), (578, 0.3044315391294435), (579, 0.3576638379410599), (580, 0.45320442654918003), (581, 0.769820204749827), (582, 0.22359906332596213), (583, 0.22359906332596213), (584, 1.0000000000000002), (585, 0.30727150565679506), (586, 0.16589153441041044), (587, 0.40581718644558207), (588, 0.2925601067357096), (589, 0.3576638379410599), (590, 0.4957502148880942), (591, 0.14130588500477448), (592, 0.1607743591221443), (593, 0.3082907043434548), (594, 0.3512942857639538), (595, 0.5267049190476042), (596, 0.3082907043434548), (597, 0.5774435394444509), (598, 0.3082907043434548), (599, 0.14130588500477448), (600, 0.14130588500477448), (601, 0.14130588500477448), (602, 0.14130588500477448), (603, 0.14130588500477448), (604, 1.0000000000000002), (605, 0.3576638379410599), (606, 0.37233895048618043), (607, 0.27121684321353084), (608, 0.5182179256267836), (609, 0.3576638379410599), (610, 0.1607743591221443), (611, 0.5774435394444509), (612, 0.40581718644558207), (613, 0.12352111685766987), (614, 0.2646129863594115), (615, 0.1607743591221443), (616, 0.3044315391294435), (617, 0.45320442654918003), (618, 0.16288237315997184), (619, 0.3033790084483862), (620, 0.5774435394444509), (621, 0.8040074807703947), (622, 0.7847345223856955), (623, 0.40581718644558207), (624, 0.5774435394444509), (625, 0.3767693137687599), (626, 0.3082907043434548), (627, 0.2890431582232762), (628, 0.769820204749827), (629, 0.5376681143414468), (630, 0.20336414250433205), (631, 0.19942360278492544), (632, 0.39446438042846615), (633, 0.3592694433924497), (634, 0.4630964659918842), (635, 0.34865103470234526), (636, 0.5373059199009915), (637, 0.769820204749827), (638, 0.40581718644558207), (639, 0.34865103470234526), (640, 0.34865103470234526), (641, 0.3038212571040355), (642, 0.769820204749827), (643, 1.0000000000000002), (644, 0.44481609960753676), (645, 0.5774435394444509), (646, 0.3178415518220633), (647, 0.5774435394444509), (648, 0.30727150565679506), (649, 0.22359906332596213), (650, 0.14240996485133864), (651, 0.21424721266559527), (652, 0.7847345223856955), (653, 0.8841088739713499), (654, 0.6460088754953779), (655, 0.2925601067357096), (656, 0.15851877355284183), (657, 0.2559461986028658), (658, 0.16008222106639874), (659, 0.4591164613639005), (660, 0.47475552534576915), (661, 0.3422784385794593), (662, 0.12816087067782467), (663, 0.1764942897342443), (664, 0.6718928346490409), (665, 0.22359906332596213), (666, 0.31201096671970374), (667, 0.8360032290838819), (668, 0.8040074807703947), (669, 0.8841088739713499), (670, 0.6346403716990514), (671, 0.22359906332596213), (672, 0.37122154887184156), (673, 0.8841088739713499), (674, 0.10741583313977104), (675, 1.0000000000000002), (676, 0.7847345223856955), (677, 0.25372413601828575), (678, 0.8360032290838819), (679, 0.30727150565679506), (680, 0.5774435394444509), (681, 0.14130588500477448), (682, 0.8040074807703947), (683, 0.7334595797119441), (684, 0.5306860349019304), (685, 0.6706217317165154), (686, 0.13352132291109028), (687, 0.46809077396036614), (688, 0.6346403716990514), (689, 0.769820204749827), (690, 0.46809077396036614), (691, 0.4591164613639005), (692, 0.6975216542850202), (693, 0.27121684321353084), (694, 0.769820204749827), (695, 0.7043042793313414), (696, 0.38237554658117917), (697, 0.3576638379410599), (698, 0.40581718644558207), (699, 0.1796235970270272), (700, 0.13594811081805505), (701, 0.7847345223856955), (702, 0.1634169981293903), (703, 0.2401372978688642), (704, 0.1691327460931872), (705, 0.40581718644558207), (706, 0.5774435394444509), (707, 0.2855207834326321), (708, 0.30727150565679506), (709, 0.22359906332596213), (710, 0.30727150565679506), (711, 0.30727150565679506), (712, 0.21735087482192939), (713, 0.14957546926195867), (714, 0.15015212704317257), (715, 0.26803277869985076), (716, 0.5310261898743222), (717, 0.5774435394444509), (718, 0.1691327460931872), (719, 0.48454509986888894), (720, 0.14136395646137015), (721, 0.3082907043434548), (722, 0.3082907043434548), (723, 0.5267049190476042), (724, 0.14957546926195867), (725, 0.1381572297460495), (726, 0.12969465431262295), (727, 0.48454509986888894), (728, 0.6346403716990514), (729, 0.48454509986888894), (730, 0.30727150565679506), (731, 0.5774435394444509), (732, 0.769820204749827), (733, 0.4288765671507364), (734, 0.29172256125015494), (735, 0.3576638379410599), (736, 0.16792779426448132), (737, 0.3576638379410599), (738, 0.5267049190476042), (739, 0.2768398572587637), (740, 0.4591164613639005), (741, 0.22359906332596213), (742, 0.5373059199009915), (743, 0.769820204749827), (744, 0.45320442654918003), (745, 0.3681332645979207), (746, 0.23041109959965103), (747, 0.1424439788713262), (748, 0.1666241508970162), (749, 0.27698770748760076), (750, 0.40031233256108867), (751, 0.1374826137678041), (752, 0.15860076967123563), (753, 0.8040074807703947), (754, 0.22359906332596213), (755, 0.4591164613639005), (756, 0.31201096671970374), (757, 0.7662010593444261), (758, 0.22359906332596213), (759, 0.4591164613639005), (760, 0.6035557466692558), (761, 0.769820204749827), (762, 0.34450803013496983), (763, 0.15851877355284183), (764, 0.22359906332596213), (765, 0.43404109111602796), (766, 0.5774435394444509), (767, 0.5774435394444509), (768, 0.22359906332596213), (769, 0.4733104037758452), (770, 0.15883093657515635), (771, 0.30727150565679506), (772, 0.30727150565679506), (773, 0.13180602223118004), (774, 0.40581718644558207), (775, 0.4956782668177194), (776, 0.13998097458365774), (777, 0.5774435394444509), (778, 0.1634169981293903), (779, 0.39590252545539845), (780, 0.18975083498584525), (781, 0.15860076967123563), (782, 0.5774435394444509), (783, 0.25973000988105666), (784, 0.15099995909686276), (785, 0.22359906332596213), (786, 0.15099995909686276), (787, 0.4591164613639005), (788, 0.4591164613639005), (789, 0.16008222106639874), (790, 0.7043042793313414), (791, 0.5774435394444509), (792, 0.5898874798986284), (793, 0.394962243287461), (794, 0.2637619683082465), (795, 0.5030167105041878), (796, 0.25973000988105666), (797, 0.17755886999618145), (798, 0.3082907043434548), (799, 1.0000000000000002), (800, 0.4362957329724029), (801, 0.7043042793313414), (802, 0.30376689151199876), (803, 0.5267049190476042), (804, 0.4362957329724029), (805, 0.5774435394444509), (806, 0.6341512839347304), (807, 0.15860076967123563), (808, 0.5373059199009915), (809, 0.5267049190476042), (810, 0.3592694433924497), (811, 0.3592694433924497), (812, 0.1764942897342443), (813, 0.40581718644558207), (814, 0.30727150565679506), (815, 0.2277845066340535), (816, 0.6341512839347304), (817, 0.5774435394444509), (818, 0.3044315391294435), (819, 0.11539207590990193), (820, 0.22359906332596213), (821, 0.11659929051101048), (822, 0.19592263977429356), (823, 0.5774435394444509), (824, 0.3293444695981306), (825, 0.8040074807703947), (826, 0.246983926945853), (827, 0.8040074807703947), (828, 0.8607077864206123), (829, 1.0000000000000002), (830, 0.40581718644558207), (831, 0.769820204749827), (832, 0.5373059199009915), (833, 0.45655376675280757), (834, 0.1666241508970162), (835, 0.1666241508970162), (836, 0.15860076967123563), (837, 0.30727150565679506), (838, 0.40581718644558207), (839, 0.30727150565679506), (840, 0.30727150565679506), (841, 0.30727150565679506), (842, 0.6566099254452886), (843, 0.40581718644558207), (844, 0.40581718644558207), (845, 0.6346403716990514), (846, 0.22359906332596213), (847, 0.3576638379410599), (848, 0.42595503959828285), (849, 0.3299444689838345), (850, 0.3082907043434548), (851, 0.5559641747963838), (852, 0.2345145279923613), (853, 1.0000000000000002), (854, 0.24587390161476608), (855, 0.4630964659918842), (856, 0.246983926945853), (857, 0.27121684321353084), (858, 0.3082907043434548), (859, 0.14261763069071842), (860, 1.0000000000000002), (861, 0.769820204749827), (862, 0.6718928346490409), (863, 0.769820204749827), (864, 0.6341512839347304), (865, 0.40581718644558207), (866, 0.8841088739713499), (867, 0.3576638379410599), (868, 0.6346403716990514), (869, 0.577688746972546), (870, 0.7847345223856955), (871, 0.24096614428230556), (872, 0.2271213247090512), (873, 0.22359906332596213), (874, 0.8607077864206123), (875, 0.6975216542850202), (876, 1.0000000000000002), (877, 0.3767693137687599), (878, 0.8841088739713499), (879, 0.806951503211971), (880, 0.4070607656990726), (881, 0.16008222106639874), (882, 0.1385140848438108), (883, 0.3576638379410599), (884, 0.4591164613639005), (885, 0.3576638379410599), (886, 0.4591164613639005), (887, 0.35249976392931137), (888, 1.0000000000000002), (889, 0.5774435394444509), (890, 0.3576638379410599), (891, 0.34450803013496983), (892, 0.30727150565679506), (893, 0.4630964659918842), (894, 0.8607077864206123), (895, 0.5774435394444509), (896, 0.7847345223856955), (897, 0.40581718644558207), (898, 0.42174269187594), (899, 0.5774435394444509), (900, 0.769820204749827), (901, 0.5774435394444509), (902, 0.27362186846558306), (903, 0.24344438746827596), (904, 0.7430748036499564), (905, 0.7430748036499564), (906, 0.16008222106639874), (907, 0.3576638379410599), (908, 0.4592415195812251), (909, 0.12325563192382069), (910, 0.5373059199009915), (911, 0.5310261898743222), (912, 0.10676026275270302), (913, 0.12254151628580802), (914, 0.25372413601828575), (915, 0.5867569026003305), (916, 0.8360032290838819), (917, 0.5774435394444509), (918, 0.5437157036674519), (919, 0.4283064344424885), (920, 0.1339804769463195), (921, 0.32562370813905783), (922, 0.5774435394444509), (923, 0.668173214222155), (924, 0.26857806743842627), (925, 0.3300181449486483), (926, 0.1369457324379671), (927, 0.43404109111602796), (928, 0.8040074807703947), (929, 0.3413027748180781), (930, 0.6131070321933155), (931, 0.8360032290838819), (932, 0.3247189447150259), (933, 0.4591164613639005), (934, 0.2277845066340535), (935, 0.3965834797435125), (936, 0.3557198413279878), (937, 0.7847345223856955), (938, 0.22359906332596213), (939, 0.7662010593444261), (940, 0.27879021383104813), (941, 0.4591164613639005), (942, 1.0000000000000002), (943, 0.30727150565679506), (944, 0.40581718644558207), (945, 0.12664807556954774), (946, 0.16226274576508318), (947, 0.8841088739713499), (948, 0.5030167105041878), (949, 0.5774435394444509), (950, 0.18815706255397033), (951, 0.2185144420484703), (952, 0.4127903558165141), (953, 0.4617262313952808), (954, 0.1607743591221443), (955, 0.30727150565679506), (956, 0.18708521078998225), (957, 0.319552926072337), (958, 0.30727150565679506), (959, 0.40581718644558207), (960, 0.23041109959965103), (961, 0.10863252887759527), (962, 0.3044315391294435), (963, 0.38737320187183427), (964, 0.20336414250433205), (965, 0.18708521078998225), (966, 0.2893544097541062), (967, 0.769820204749827), (968, 0.5686715595662128), (969, 0.2855207834326321), (970, 0.42174269187594), (971, 0.22359906332596213), (972, 0.17038021244339496), (973, 0.3576638379410599), (974, 0.5267049190476042), (975, 0.40581718644558207), (976, 0.7043042793313414), (977, 0.11821978749917517), (978, 0.30727150565679506), (979, 0.3592694433924497), (980, 0.5373059199009915), (981, 0.4360523884611756), (982, 0.22359906332596213), (983, 0.22359906332596213), (984, 0.4591164613639005), (985, 0.3576638379410599), (986, 0.6874969011292323), (987, 0.5774435394444509), (988, 0.6375435177933285), (989, 1.0000000000000002), (990, 0.15070320163922404), (991, 0.4617262313952808), (992, 0.34450803013496983), (993, 0.5774435394444509), (994, 0.7334595797119441), (995, 0.30727150565679506), (996, 0.46809077396036614), (997, 0.34450803013496983), (998, 0.3576638379410599), (999, 0.3576638379410599), (1000, 0.8841088739713499), (1001, 0.5310261898743222), (1002, 0.3576638379410599), (1003, 0.3247189447150259), (1004, 0.5774435394444509), (1005, 0.7334595797119441), (1006, 0.4591164613639005), (1007, 0.24824492023968106), (1008, 0.14837694196736156), (1009, 0.4736216531563412), (1010, 0.23385887808755573), (1011, 0.10852116605390283), (1012, 0.4283064344424885), (1013, 0.12758253214920692), (1014, 0.1367180430680673), (1015, 0.8841088739713499), (1016, 0.1409088165797575), (1017, 0.7248604787214318), (1018, 0.9258025488242041), (1019, 0.5774435394444509), (1020, 0.21794801308456926), (1021, 0.4591164613639005), (1022, 0.14474245341341693), (1023, 0.3413027748180781), (1024, 0.7430748036499564), (1025, 0.14837694196736156), (1026, 0.40581718644558207), (1027, 0.40581718644558207), (1028, 0.30727150565679506), (1029, 0.30727150565679506), (1030, 0.769820204749827), (1031, 0.1368653969522434), (1032, 0.5774435394444509), (1033, 0.5774435394444509), (1034, 0.40581718644558207), (1035, 0.8841088739713499), (1036, 0.5774435394444509), (1037, 0.5774435394444509), (1038, 0.22359906332596213), (1039, 0.13039438170649992), (1040, 0.3576638379410599), (1041, 0.5686715595662128), (1042, 0.5774435394444509), (1043, 0.35249976392931137), (1044, 0.4362957329724029), (1045, 0.1607743591221443), (1046, 0.13452743077000665), (1047, 0.8360032290838819), (1048, 0.5774435394444509), (1049, 0.3576638379410599), (1050, 0.43026315176081376), (1051, 0.1440738786382356), (1052, 0.40581718644558207), (1053, 0.7120316658355228), (1054, 0.8040074807703947), (1055, 0.1764942897342443), (1056, 0.1368653969522434), (1057, 0.1368653969522434), (1058, 0.9258025488242041), (1059, 0.5774435394444509), (1060, 0.27121684321353084), (1061, 0.7262588564160934), (1062, 0.30727150565679506), (1063, 0.6975216542850202), (1064, 0.7847345223856955), (1065, 0.5379389656746906), (1066, 0.15851877355284183), (1067, 0.14957546926195867), (1068, 0.7043042793313414), (1069, 0.13147855014820073), (1070, 0.30727150565679506), (1071, 0.5373059199009915), (1072, 0.5774435394444509), (1073, 0.22359906332596213), (1074, 0.5644793667461723), (1075, 0.40581718644558207), (1076, 0.6383825828910616), (1077, 0.40581718644558207), (1078, 0.7662010593444261), (1079, 0.2819593462201688), (1080, 0.26857806743842627), (1081, 0.1666241508970162), (1082, 0.3033790084483862), (1083, 0.40031233256108867), (1084, 0.3576638379410599), (1085, 0.1339804769463195), (1086, 0.1691327460931872), (1087, 0.3965834797435125), (1088, 0.3293444695981306), (1089, 0.30727150565679506), (1090, 0.25372413601828575), (1091, 0.14130588500477448), (1092, 0.8040074807703947), (1093, 0.30727150565679506), (1094, 0.22359906332596213), (1095, 0.14794007329031442), (1096, 0.42595503959828285), (1097, 0.12611540498270837), (1098, 0.5774435394444509), (1099, 0.394962243287461), (1100, 0.4591164613639005), (1101, 0.1764942897342443), (1102, 0.42595503959828285), (1103, 0.30727150565679506), (1104, 0.7375470759529579), (1105, 0.30727150565679506), (1106, 0.30727150565679506), (1107, 1.0000000000000002), (1108, 0.10588104836379152), (1109, 0.3576638379410599), (1110, 0.5774435394444509), (1111, 0.12352111685766987), (1112, 0.4591164613639005), (1113, 0.12664807556954774), (1114, 0.2637619683082465), (1115, 0.6566099254452886), (1116, 0.5723659671859165), (1117, 0.4591164613639005), (1118, 0.25372413601828575), (1119, 0.8183021649040023), (1120, 0.3767693137687599), (1121, 0.5774435394444509), (1122, 0.3413027748180781), (1123, 0.4957502148880942), (1124, 0.4591164613639005), (1125, 0.30727150565679506), (1126, 0.18170645844696837), (1127, 0.5267049190476042), (1128, 0.5409376158501148), (1129, 0.29879405421154237), (1130, 0.30727150565679506), (1131, 0.2277845066340535), (1132, 1.0000000000000002), (1133, 0.30727150565679506), (1134, 0.31201096671970374), (1135, 0.1648105036988375), (1136, 0.23368257964629513), (1137, 0.5898435522384278), (1138, 0.48454509986888894), (1139, 0.30727150565679506), (1140, 0.40031233256108867), (1141, 0.8841088739713499), (1142, 0.15860076967123563), (1143, 0.21975177990042366), (1144, 0.5774435394444509), (1145, 0.40581718644558207), (1146, 0.3247189447150259), (1147, 0.1691327460931872), (1148, 1.0000000000000002), (1149, 0.30727150565679506), (1150, 0.2768448102385988), (1151, 0.14130588500477448), (1152, 0.30727150565679506), (1153, 0.3778751321162639), (1154, 0.34450803013496983), (1155, 0.15860076967123563), (1156, 0.17038021244339496), (1157, 0.22359906332596213), (1158, 0.4630964659918842), (1159, 0.14369192887740181), (1160, 0.46389843560433514), (1161, 0.23155669549641672), (1162, 0.8040074807703947), (1163, 0.3667002823386262), (1164, 0.34450803013496983), (1165, 0.1339804769463195), (1166, 0.14837694196736156), (1167, 0.4630964659918842), (1168, 0.5774435394444509), (1169, 0.4591164613639005), (1170, 0.3576638379410599), (1171, 0.1206574990646967), (1172, 0.1876423760366753), (1173, 0.6566099254452886), (1174, 0.6346403716990514), (1175, 0.26279337899351646), (1176, 0.35249976392931137), (1177, 0.45320442654918003), (1178, 0.30727150565679506), (1179, 0.5310261898743222), (1180, 0.30727150565679506), (1181, 0.6706217317165154), (1182, 0.3657767348484995), (1183, 0.8841088739713499), (1184, 0.7132756155289268), (1185, 0.6975216542850202), (1186, 0.29172256125015494), (1187, 0.3576638379410599), (1188, 0.769820204749827), (1189, 0.23041109959965103), (1190, 0.16792779426448132), (1191, 0.769820204749827), (1192, 0.5686715595662128), (1193, 0.15752160674772606), (1194, 0.5538682521915437), (1195, 0.10387465320830426), (1196, 0.15860076967123563), (1197, 0.3592694433924497), (1198, 0.10571369199972992), (1199, 0.2553241092406733), (1200, 0.22359906332596213), (1201, 0.22359906332596213), (1202, 0.5686715595662128), (1203, 0.4591164613639005), (1204, 0.4591164613639005), (1205, 0.13998097458365774), (1206, 0.3038212571040355), (1207, 0.3559969100791259), (1208, 0.3576638379410599), (1209, 0.3082907043434548), (1210, 0.4283064344424885), (1211, 0.42174269187594), (1212, 0.12845940888230234), (1213, 0.6718928346490409), (1214, 0.577688746972546), (1215, 0.4736216531563412), (1216, 0.3576638379410599), (1217, 0.3576638379410599), (1218, 0.1707565841605188), (1219, 0.2345145279923613), (1220, 0.49597815622800423), (1221, 0.25372413601828575), (1222, 0.2028816862494748), (1223, 0.4617262313952808), (1224, 0.6793065611941891), (1225, 0.5310261898743222), (1226, 0.8040074807703947), (1227, 0.30727150565679506), (1228, 0.25372413601828575), (1229, 0.48454509986888894), (1230, 0.5898435522384278), (1231, 0.5538682521915437), (1232, 0.91515310954445), (1233, 0.12611540498270837), (1234, 0.7662010593444261), (1235, 0.2028816862494748), (1236, 0.7828280243787114), (1237, 0.8633296093440735), (1238, 0.21885832786238832), (1239, 0.1666241508970162), (1240, 0.1607743591221443), (1241, 0.21424721266559527), (1242, 0.21885832786238832), (1243, 0.4591164613639005), (1244, 0.18708521078998225), (1245, 0.22421828401292448), (1246, 0.12816087067782467), (1247, 0.40581718644558207), (1248, 0.8633296093440735), (1249, 0.1374826137678041), (1250, 0.12787902919334002), (1251, 0.3293444695981306), (1252, 0.7248604787214318), (1253, 0.1876423760366753), (1254, 0.33575478425716265), (1255, 0.5373059199009915), (1256, 0.12667784137277716), (1257, 0.6346403716990514), (1258, 0.1607743591221443), (1259, 0.8040074807703947), (1260, 0.6718928346490409), (1261, 0.27879021383104813), (1262, 0.31201096671970374), (1263, 0.20749214135139132), (1264, 0.8607077864206123), (1265, 0.1368653969522434), (1266, 0.4283064344424885), (1267, 0.30727150565679506), (1268, 0.2028816862494748), (1269, 0.14130588500477448), (1270, 0.4630964659918842), (1271, 0.1666241508970162), (1272, 0.3919481797240909), (1273, 0.2266517504491562), (1274, 0.19414865168855144), (1275, 1.0000000000000002), (1276, 0.8040074807703947), (1277, 0.263096936344874), (1278, 0.19592263977429356), (1279, 0.4630964659918842), (1280, 0.31201096671970374), (1281, 0.34450803013496983), (1282, 0.6718928346490409), (1283, 0.1607743591221443), (1284, 0.4591164613639005), (1285, 0.12811759332953596), (1286, 0.3576638379410599), (1287, 0.18530589300900707), (1288, 0.21885832786238832), (1289, 0.30727150565679506), (1290, 0.7334595797119441), (1291, 0.14837694196736156), (1292, 0.7430748036499564), (1293, 0.18708521078998225), (1294, 0.5774435394444509), (1295, 0.12611540498270837), (1296, 0.12254151628580802), (1297, 0.30727150565679506), (1298, 0.4591164613639005), (1299, 0.30727150565679506), (1300, 0.8360032290838819), (1301, 0.33575478425716265), (1302, 0.39989718917961703), (1303, 0.7847345223856955), (1304, 0.4591164613639005), (1305, 0.40581718644558207), (1306, 0.3082907043434548), (1307, 0.1579588169861995), (1308, 0.2381809166223546), (1309, 0.394962243287461), (1310, 0.13160851562164844), (1311, 0.30727150565679506), (1312, 0.4591164613639005), (1313, 0.3576638379410599), (1314, 0.6460088754953779), (1315, 0.1253234985382669), (1316, 0.11053363205213958), (1317, 0.655690308578482), (1318, 0.4591164613639005), (1319, 0.5774435394444509), (1320, 0.4679539367119162), (1321, 0.18708521078998225), (1322, 0.30727150565679506), (1323, 0.13414053781910748), (1324, 0.2893544097541062), (1325, 0.7847345223856955), (1326, 0.18708521078998225), (1327, 0.1339804769463195), (1328, 0.16455339316517587), (1329, 0.22359906332596213), (1330, 0.6718928346490409), (1331, 0.30727150565679506), (1332, 0.39590252545539845), (1333, 0.1339804769463195), (1334, 0.6341512839347304), (1335, 0.8841088739713499), (1336, 0.14837694196736156), (1337, 0.8238423462440216), (1338, 0.7334595797119441), (1339, 0.8607077864206123), (1340, 0.2824469353088492), (1341, 0.11877422450706457), (1342, 0.23041109959965103), (1343, 0.7375470759529579), (1344, 0.6718928346490409), (1345, 0.22359906332596213), (1346, 0.14419186318874466), (1347, 0.4630964659918842), (1348, 0.6131040858780553), (1349, 0.3082907043434548), (1350, 0.2893544097541062), (1351, 0.5686715595662128), (1352, 0.246983926945853), (1353, 0.30727150565679506), (1354, 0.14130588500477448), (1355, 0.5774435394444509), (1356, 0.5373059199009915), (1357, 0.26478478411239365), (1358, 0.1252103389348734), (1359, 0.4591164613639005), (1360, 0.7847345223856955), (1361, 0.13982333860009344), (1362, 0.22359906332596213), (1363, 0.22359906332596213), (1364, 0.3576638379410599), (1365, 0.40581718644558207), (1366, 0.208633730761682), (1367, 0.4591164613639005), (1368, 0.13160851562164844), (1369, 0.8841088739713499), (1370, 0.26473753543327366), (1371, 0.6718928346490409), (1372, 0.3576638379410599), (1373, 0.14136395646137015), (1374, 0.1607743591221443), (1375, 0.5373059199009915), (1376, 0.30727150565679506), (1377, 0.8841088739713499), (1378, 0.21734046070819804), (1379, 0.18708521078998225), (1380, 0.4283064344424885), (1381, 0.27362186846558306), (1382, 0.3576638379410599), (1383, 0.769820204749827), (1384, 0.5267049190476042), (1385, 0.7778335661712803), (1386, 0.1607743591221443), (1387, 0.5215573891916054), (1388, 0.16209466522625643), (1389, 0.30727150565679506), (1390, 0.30727150565679506), (1391, 0.3592694433924497), (1392, 0.319552926072337), (1393, 0.6383825828910616), (1394, 0.2852211085074159), (1395, 0.4630964659918842), (1396, 0.31201096671970374), (1397, 0.25817389969764803), (1398, 0.2266517504491562), (1399, 0.17665044012719155), (1400, 0.44445798665561387), (1401, 0.21885832786238832), (1402, 0.5774435394444509), (1403, 0.3576638379410599), (1404, 0.5774435394444509), (1405, 0.16792779426448132), (1406, 0.8040074807703947), (1407, 0.4630964659918842), (1408, 0.29912386038042077), (1409, 0.4591164613639005), (1410, 0.3576638379410599), (1411, 0.4591164613639005), (1412, 0.6975216542850202), (1413, 0.4360523884611756), (1414, 0.44445798665561387), (1415, 0.40581718644558207), (1416, 0.5774435394444509), (1417, 0.8841088739713499), (1418, 0.1235746078575374), (1419, 0.8040074807703947), (1420, 0.2951136015064988), (1421, 0.6131070321933155), (1422, 0.4591164613639005), (1423, 0.40581718644558207), (1424, 0.15099995909686276), (1425, 0.30727150565679506), (1426, 0.4630964659918842), (1427, 0.3576638379410599), (1428, 0.4630964659918842), (1429, 0.5373059199009915), (1430, 0.4630964659918842), (1431, 0.4630964659918842), (1432, 0.7430748036499564), (1433, 0.4733104037758452), (1434, 0.5774435394444509), (1435, 0.6706217317165154), (1436, 0.6975216542850202), (1437, 0.18708521078998225), (1438, 0.5306860349019304), (1439, 0.5774435394444509), (1440, 0.627531961545164), (1441, 0.22359906332596213), (1442, 0.6346403716990514), (1443, 0.5267049190476042), (1444, 0.30727150565679506), (1445, 0.22359906332596213), (1446, 0.4591164613639005), (1447, 0.17038021244339496), (1448, 0.769820204749827), (1449, 0.4630964659918842), (1450, 0.5774435394444509), (1451, 0.4630964659918842), (1452, 0.4630964659918842), (1453, 0.22359906332596213), (1454, 0.6346403716990514), (1455, 0.8040074807703947), (1456, 0.5774435394444509), (1457, 0.22359906332596213), (1458, 0.4283064344424885), (1459, 0.20749214135139132), (1460, 0.1312410132956222), (1461, 0.6718928346490409), (1462, 0.769820204749827), (1463, 0.23351820229851009), (1464, 0.5774435394444509), (1465, 0.4591164613639005), (1466, 0.1381572297460495), (1467, 0.13452743077000665), (1468, 0.11877422450706457), (1469, 0.29081256664902744), (1470, 0.20749214135139132), (1471, 0.6874969011292323), (1472, 0.6131070321933155), (1473, 0.17755886999618145), (1474, 0.19793636865813383), (1475, 0.2345145279923613), (1476, 0.3576638379410599), (1477, 0.23577155474146153), (1478, 0.8841088739713499), (1479, 0.3576638379410599), (1480, 0.4630964659918842), (1481, 1.0000000000000002), (1482, 0.172248003771445), (1483, 0.8841088739713499), (1484, 0.6346403716990514), (1485, 0.22359906332596213), (1486, 0.14884076262022553), (1487, 0.2028816862494748), (1488, 0.668173214222155), (1489, 0.5579081625137269), (1490, 0.21885832786238832), (1491, 0.17038021244339496), (1492, 0.30727150565679506), (1493, 0.4630964659918842), (1494, 0.4591164613639005), (1495, 0.11853812865975578), (1496, 0.14837694196736156), (1497, 0.5774435394444509), (1498, 0.45320442654918003), (1499, 0.5774435394444509), (1500, 0.5774435394444509), (1501, 0.22359906332596213), (1502, 0.34450803013496983), (1503, 0.3965834797435125), (1504, 0.6383825828910616), (1505, 0.11762536313038877), (1506, 0.806951503211971), (1507, 0.6718928346490409), (1508, 0.30727150565679506), (1509, 0.7847345223856955), (1510, 0.4269439779203559), (1511, 0.12999984178843924), (1512, 0.1876423760366753), (1513, 0.6723084070971053), (1514, 0.257259746572226), (1515, 0.11241636910737939), (1516, 0.37122154887184156), (1517, 0.30727150565679506), (1518, 0.3576638379410599), (1519, 0.5373059199009915), (1520, 0.2028816862494748), (1521, 0.1339804769463195), (1522, 0.16455339316517587), (1523, 0.172248003771445), (1524, 0.14837694196736156), (1525, 0.15860076967123563), (1526, 0.30727150565679506), (1527, 0.7334595797119441), (1528, 0.4591164613639005), (1529, 0.12325563192382069), (1530, 0.28914054734308436), (1531, 0.4630964659918842), (1532, 0.20336414250433205), (1533, 0.27879021383104813), (1534, 0.23041109959965103), (1535, 0.1368653969522434), (1536, 0.36473815628256395), (1537, 0.4739375769385006), (1538, 0.5774435394444509), (1539, 0.2401372978688642), (1540, 0.6383825828910616), (1541, 0.13838576346473608), (1542, 0.8360032290838819), (1543, 0.3576638379410599), (1544, 0.577688746972546), (1545, 0.23385887808755573), (1546, 0.34450803013496983), (1547, 0.19942360278492544), (1548, 0.2779777042354511), (1549, 0.22359906332596213), (1550, 0.5774435394444509), (1551, 0.4630964659918842), (1552, 0.15380226153821258), (1553, 0.5774435394444509), (1554, 0.31201096671970374), (1555, 0.5686715595662128), (1556, 0.23041109959965103), (1557, 0.2028816862494748), (1558, 0.40581718644558207), (1559, 0.4630964659918842), (1560, 0.177128102819213), (1561, 0.30727150565679506), (1562, 0.4630964659918842), (1563, 0.30727150565679506), (1564, 0.23385887808755573), (1565, 0.2535215527191442), (1566, 0.31201096671970374), (1567, 0.497449500523525), (1568, 0.4630964659918842), (1569, 0.16792779426448132), (1570, 0.19942360278492544), (1571, 0.4591164613639005), (1572, 0.5879387810257914), (1573, 0.4630964659918842), (1574, 0.5774435394444509), (1575, 0.31420713206026873), (1576, 0.5267049190476042), (1577, 0.18708521078998225), (1578, 0.12816087067782467), (1579, 0.14130588500477448), (1580, 0.3082907043434548), (1581, 0.14957546926195867), (1582, 0.7662010593444261), (1583, 0.30727150565679506), (1584, 0.1764942897342443), (1585, 0.5615838293282571), (1586, 0.30727150565679506), (1587, 0.394962243287461), (1588, 0.4630964659918842), (1589, 0.22359906332596213), (1590, 0.3247189447150259), (1591, 0.8040074807703947), (1592, 0.14884076262022553), (1593, 0.5774435394444509), (1594, 0.3576638379410599), (1595, 0.6872454807923735), (1596, 0.17038021244339496), (1597, 0.4591164613639005), (1598, 0.2819593462201688), (1599, 0.23385887808755573), (1600, 0.12325563192382069), (1601, 0.11853812865975578), (1602, 0.14837694196736156), (1603, 0.1607743591221443), (1604, 0.1381572297460495), (1605, 0.26857806743842627), (1606, 0.11676565516017659), (1607, 0.1409088165797575), (1608, 0.4733104037758452), (1609, 0.30727150565679506), (1610, 0.14261763069071842), (1611, 0.18708521078998225), (1612, 0.40581718644558207), (1613, 0.12252717413877086), (1614, 0.29253543545856003), (1615, 0.14136395646137015), (1616, 0.27879021383104813), (1617, 0.5774435394444509), (1618, 0.22359906332596213), (1619, 0.40581718644558207), (1620, 0.8607077864206123), (1621, 1.0000000000000002), (1622, 0.3592694433924497), (1623, 0.3592694433924497), (1624, 0.40581718644558207), (1625, 0.5774435394444509), (1626, 0.30727150565679506), (1627, 0.4269439779203559), (1628, 0.26857806743842627), (1629, 0.8633296093440735), (1630, 0.4630964659918842), (1631, 0.4630964659918842), (1632, 0.4630964659918842), (1633, 0.36666009095912633), (1634, 0.2856583398863515), (1635, 0.4630964659918842), (1636, 0.23041109959965103), (1637, 0.4591164613639005), (1638, 0.1635409235867997), (1639, 0.22359906332596213), (1640, 0.1339804769463195), (1641, 0.5774435394444509), (1642, 0.4591164613639005), (1643, 0.5686715595662128), (1644, 0.30727150565679506), (1645, 0.20738116202245635), (1646, 0.30727150565679506), (1647, 0.23041109959965103), (1648, 0.40581718644558207), (1649, 0.11241636910737939), (1650, 0.3965834797435125), (1651, 0.15851877355284183), (1652, 0.19592263977429356), (1653, 0.4360523884611756), (1654, 0.30727150565679506), (1655, 0.40581718644558207), (1656, 0.27220916764545056), (1657, 0.15851877355284183), (1658, 0.27220916764545056), (1659, 0.5267049190476042), (1660, 0.4591164613639005), (1661, 0.4630964659918842), (1662, 0.3247189447150259), (1663, 0.4591164613639005), (1664, 0.10387465320830426), (1665, 0.7248604787214318), (1666, 0.40581718644558207), (1667, 0.8183021649040023), (1668, 0.30727150565679506), (1669, 0.21975177990042366), (1670, 0.5774435394444509), (1671, 0.7847345223856955), (1672, 0.5774435394444509), (1673, 0.30727150565679506), (1674, 0.49926223431627714), (1675, 0.5310261898743222), (1676, 0.2028816862494748), (1677, 0.24553450999011456), (1678, 0.8841088739713499), (1679, 0.30727150565679506), (1680, 0.8841088739713499), (1681, 0.8040074807703947), (1682, 0.40581718644558207), (1683, 0.26473753543327366), (1684, 0.15860076967123563), (1685, 0.40581718644558207), (1686, 0.25372413601828575), (1687, 0.8841088739713499), (1688, 0.4591164613639005), (1689, 0.30727150565679506), (1690, 0.2852211085074159), (1691, 0.5774435394444509), (1692, 0.2779777042354511), (1693, 0.3576638379410599), (1694, 0.8360032290838819), (1695, 0.2028816862494748), (1696, 0.34450803013496983), (1697, 0.14136395646137015), (1698, 0.30727150565679506), (1699, 0.4630964659918842), (1700, 0.1339804769463195), (1701, 0.3767693137687599), (1702, 0.30727150565679506), (1703, 0.3082907043434548), (1704, 0.1579588169861995), (1705, 0.4367076321405793), (1706, 0.2374697216550154), (1707, 0.27121684321353084), (1708, 0.42595503959828285), (1709, 0.23385887808755573), (1710, 0.3044315391294435), (1711, 0.2637619683082465), (1712, 0.5774435394444509), (1713, 0.4283064344424885), (1714, 0.13721109506064919), (1715, 0.30727150565679506), (1716, 0.7115528171529892), (1717, 0.3044315391294435), (1718, 0.22359906332596213), (1719, 0.3576638379410599), (1720, 0.1579588169861995), (1721, 0.577688746972546), (1722, 0.3576638379410599), (1723, 0.4630964659918842), (1724, 0.4630964659918842), (1725, 0.25372413601828575), (1726, 0.15860076967123563), (1727, 0.6723084070971053), (1728, 0.12621518576123342), (1729, 0.30727150565679506), (1730, 0.29172256125015494), (1731, 0.15077175259748674), (1732, 0.36912403452895737), (1733, 0.4591164613639005), (1734, 0.23385887808755573), (1735, 0.577688746972546), (1736, 0.7334595797119441), (1737, 0.30727150565679506), (1738, 0.5538682521915437), (1739, 1.0000000000000002), (1740, 0.8841088739713499), (1741, 0.30727150565679506), (1742, 0.5774435394444509), (1743, 0.40581718644558207), (1744, 0.2852211085074159), (1745, 0.1253234985382669), (1746, 0.22359906332596213), (1747, 0.40581718644558207), (1748, 0.2277845066340535), (1749, 0.5267049190476042), (1750, 0.1374826137678041), (1751, 0.23385887808755573), (1752, 0.30727150565679506), (1753, 0.4630964659918842), (1754, 0.8607077864206123), (1755, 0.1409088165797575), (1756, 0.12611540498270837), (1757, 0.30727150565679506), (1758, 0.1579588169861995), (1759, 0.4591164613639005), (1760, 0.4005005870311142), (1761, 0.43404109111602796), (1762, 0.40581718644558207), (1763, 0.40581718644558207), (1764, 0.20056769700958), (1765, 0.4591164613639005), (1766, 0.2028816862494748), (1767, 0.30727150565679506), (1768, 0.40581718644558207), (1769, 0.14837694196736156), (1770, 0.2779777042354511), (1771, 0.15860076967123563), (1772, 0.31201096671970374), (1773, 0.4630964659918842), (1774, 0.7847345223856955), (1775, 0.10608649124240252), (1776, 0.8607077864206123), (1777, 0.30727150565679506), (1778, 0.22359906332596213), (1779, 0.5373059199009915), (1780, 0.3082907043434548), (1781, 0.7430748036499564), (1782, 0.40581718644558207), (1783, 0.13982333860009344), (1784, 0.29484833768038476), (1785, 0.30727150565679506), (1786, 0.30727150565679506), (1787, 0.22359906332596213), (1788, 0.394962243287461), (1789, 0.6975216542850202), (1790, 0.30727150565679506), (1791, 0.32642666854752855), (1792, 0.4591164613639005), (1793, 0.5774435394444509), (1794, 0.14428334476989374), (1795, 0.23041109959965103), (1796, 0.7248604787214318), (1797, 0.44735664657660573), (1798, 0.2893544097541062), (1799, 0.34450803013496983), (1800, 0.1579588169861995), (1801, 0.5774435394444509), (1802, 0.12964980505830329), (1803, 0.22359906332596213), (1804, 0.14261763069071842), (1805, 0.5774435394444509), (1806, 0.5615838293282571), (1807, 0.5774435394444509), (1808, 0.3082907043434548), (1809, 0.4283064344424885), (1810, 0.11379889037533251), (1811, 0.5373059199009915), (1812, 0.3422784385794593), (1813, 0.3667002823386262), (1814, 0.5774435394444509), (1815, 0.8040074807703947), (1816, 0.5615838293282571), (1817, 0.3592694433924497), (1818, 0.23385887808755573), (1819, 0.49597815622800423), (1820, 0.1579588169861995), (1821, 0.655690308578482), (1822, 0.23384803091896067), (1823, 0.2779777042354511), (1824, 0.20336414250433205), (1825, 0.23041109959965103), (1826, 0.5774435394444509), (1827, 0.3576638379410599), (1828, 0.2038524624218245), (1829, 0.43404109111602796), (1830, 0.12668005682176656), (1831, 0.5774435394444509), (1832, 0.9258025488242041), (1833, 0.2440650529316623), (1834, 0.30727150565679506), (1835, 0.1666241508970162), (1836, 0.1374826137678041), (1837, 0.14837694196736156), (1838, 0.4630964659918842), (1839, 0.2028816862494748), (1840, 0.4630964659918842), (1841, 0.11662827270923572), (1842, 0.2028816862494748), (1843, 0.5774435394444509), (1844, 0.1339804769463195), (1845, 0.6131070321933155), (1846, 0.4283064344424885), (1847, 0.577688746972546), (1848, 0.4591164613639005), (1849, 0.30727150565679506), (1850, 0.2028816862494748), (1851, 0.3576638379410599), (1852, 0.3592694433924497), (1853, 0.8841088739713499), (1854, 0.8607077864206123), (1855, 0.13669242292689052), (1856, 0.30727150565679506), (1857, 0.3592694433924497), (1858, 0.7120316658355228), (1859, 0.3592694433924497), (1860, 0.40581718644558207), (1861, 0.7662010593444261), (1862, 0.5774435394444509), (1863, 0.23041109959965103), (1864, 0.4127903558165141), (1865, 0.769820204749827), (1866, 0.6131070321933155), (1867, 0.22359906332596213), (1868, 0.15013270928701225), (1869, 0.40581718644558207), (1870, 0.23385887808755573), (1871, 0.3576638379410599), (1872, 0.5774435394444509), (1873, 0.3592694433924497), (1874, 0.8607077864206123), (1875, 0.23351820229851009), (1876, 0.6346403716990514), (1877, 0.4591164613639005), (1878, 0.2852211085074159), (1879, 0.30727150565679506), (1880, 0.22359906332596213), (1881, 0.39989718917961703), (1882, 0.3667002823386262), (1883, 0.18170645844696837), (1884, 0.3082907043434548), (1885, 0.40581718644558207), (1886, 0.19942360278492544), (1887, 0.5774435394444509), (1888, 0.15099995909686276), (1889, 0.1700525804638725), (1890, 0.5774435394444509), (1891, 0.3667002823386262), (1892, 0.5373059199009915), (1893, 0.3576638379410599), (1894, 0.13744214051270282), (1895, 0.18708521078998225), (1896, 0.2277845066340535), (1897, 0.47475552534576915), (1898, 0.15380226153821258), (1899, 0.20336414250433205), (1900, 0.3994455840457396), (1901, 0.4283064344424885), (1902, 0.668173214222155), (1903, 0.12667784137277716), (1904, 0.2804798504488143), (1905, 0.3576638379410599), (1906, 0.30727150565679506), (1907, 0.3300181449486483), (1908, 0.13147855014820073), (1909, 0.40581718644558207), (1910, 0.6706217317165154), (1911, 0.12758253214920692), (1912, 0.21885832786238832), (1913, 0.15860076967123563), (1914, 0.42174269187594), (1915, 0.30727150565679506), (1916, 0.3667002823386262), (1917, 0.30727150565679506), (1918, 0.769820204749827), (1919, 0.4591164613639005), (1920, 0.34079230902503704), (1921, 0.5774435394444509), (1922, 0.5898874798986284), (1923, 0.7662010593444261), (1924, 0.5373059199009915), (1925, 0.3247189447150259), (1926, 0.14152686682485033), (1927, 0.4630964659918842), (1928, 0.30727150565679506), (1929, 0.4591164613639005), (1930, 0.4630964659918842), (1931, 0.5310261898743222), (1932, 0.14957546926195867), (1933, 0.4630964659918842), (1934, 0.5310261898743222), (1935, 0.22359906332596213), (1936, 0.33575478425716265), (1937, 0.8040074807703947), (1938, 0.30727150565679506), (1939, 0.394962243287461), (1940, 0.3592694433924497), (1941, 0.46809077396036614), (1942, 0.8633296093440735), (1943, 0.26473753543327366), (1944, 0.30727150565679506), (1945, 0.5346424141802321), (1946, 0.27121684321353084), (1947, 0.4591164613639005), (1948, 0.14130588500477448), (1949, 0.6460088754953779), (1950, 0.25973000988105666), (1951, 0.3576638379410599), (1952, 0.43404109111602796), (1953, 0.4630964659918842), (1954, 0.4591164613639005), (1955, 0.12969465431262295), (1956, 0.22359906332596213), (1957, 0.30727150565679506), (1958, 0.7043042793313414), (1959, 0.5774435394444509), (1960, 0.769820204749827), (1961, 0.1700525804638725), (1962, 0.4630964659918842), (1963, 0.22359906332596213), (1964, 0.5373059199009915), (1965, 0.16589153441041044), (1966, 0.14794007329031442), (1967, 1.0000000000000002), (1968, 0.4269439779203559), (1969, 0.3082907043434548), (1970, 0.6099880806643851), (1971, 0.4942620398997659), (1972, 0.1691327460931872), (1973, 0.577688746972546), (1974, 0.22359906332596213), (1975, 0.3592694433924497), (1976, 0.34450803013496983), (1977, 0.3413027748180781), (1978, 0.30727150565679506), (1979, 0.1579588169861995), (1980, 0.4591164613639005), (1981, 0.6718928346490409), (1982, 0.11877422450706457), (1983, 0.7847345223856955), (1984, 0.14608904778251988), (1985, 0.7510659303654675), (1986, 0.6718928346490409), (1987, 0.497449500523525), (1988, 0.16008222106639874), (1989, 0.8532756552998135), (1990, 0.36666009095912633), (1991, 0.31420713206026873), (1992, 0.689667712718292), (1993, 0.30827167824681295), (1994, 0.30727150565679506), (1995, 0.29172256125015494), (1996, 0.3592694433924497), (1997, 1.0000000000000002), (1998, 0.30827167824681295), (1999, 0.1339804769463195), (2000, 0.27121684321353084), (2001, 0.22359906332596213), (2002, 0.30727150565679506), (2003, 0.22359906332596213), (2004, 0.40581718644558207), (2005, 0.30727150565679506), (2006, 0.15077175259748674), (2007, 0.22359906332596213), (2008, 0.5373059199009915), (2009, 0.22359906332596213), (2010, 0.19942360278492544), (2011, 0.1821583505228625), (2012, 0.46809077396036614), (2013, 0.4283064344424885), (2014, 0.18708521078998225), (2015, 0.4283064344424885), (2016, 0.5215573891916054), (2017, 0.23041109959965103), (2018, 0.1374826137678041), (2019, 0.11853812865975578), (2020, 0.2779777042354511), (2021, 0.14884076262022553), (2022, 0.16008222106639874), (2023, 0.8607077864206123), (2024, 0.8841088739713499), (2025, 0.23385887808755573), (2026, 0.5615838293282571), (2027, 0.29172256125015494), (2028, 0.25372413601828575), (2029, 0.8607077864206123), (2030, 0.1579588169861995), (2031, 0.5686715595662128), (2032, 0.22359906332596213), (2033, 0.17214580967483317), (2034, 0.33575478425716265), (2035, 0.40581718644558207), (2036, 0.22359906332596213), (2037, 1.0000000000000002), (2038, 0.1370638340429739), (2039, 0.24896854770831514), (2040, 0.8841088739713499), (2041, 0.14837694196736156), (2042, 0.30727150565679506), (2043, 0.1635409235867997), (2044, 0.34547530882139205), (2045, 0.5310261898743222), (2046, 0.2028816862494748), (2047, 0.5774435394444509), (2048, 0.2345145279923613), (2049, 0.22314230517737652), (2050, 0.1700525804638725), (2051, 0.40581718644558207), (2052, 0.23385887808755573), (2053, 1.0000000000000002), (2054, 0.16008222106639874), (2055, 0.5386932597465466), (2056, 0.20336414250433205), (2057, 0.7375470759529579), (2058, 0.14884076262022553), (2059, 0.20336414250433205), (2060, 0.4591164613639005), (2061, 0.4360523884611756), (2062, 0.28560677226429165), (2063, 0.30727150565679506), (2064, 0.30727150565679506), (2065, 0.45767996092056107), (2066, 0.6975216542850202), (2067, 0.19095958552644232), (2068, 0.3576638379410599), (2069, 0.769820204749827), (2070, 1.0000000000000002), (2071, 0.30727150565679506), (2072, 0.5774435394444509), (2073, 0.28300670409861617), (2074, 0.36666009095912633), (2075, 0.4704068890948624), (2076, 0.7662010593444261), (2077, 0.577688746972546), (2078, 0.34450803013496983), (2079, 0.30727150565679506), (2080, 0.8607077864206123), (2081, 0.14434538665221427), (2082, 0.4037891638346528), (2083, 0.21424721266559527), (2084, 0.6706217317165154), (2085, 0.14630797812603838), (2086, 0.12667784137277716), (2087, 0.2824469353088492), (2088, 0.6346403716990514), (2089, 0.5373059199009915), (2090, 0.1634169981293903), (2091, 0.4360523884611756), (2092, 0.30727150565679506), (2093, 0.6566099254452886), (2094, 0.33672873670931036), (2095, 0.1409088165797575), (2096, 1.0000000000000002), (2097, 0.6341512839347304), (2098, 0.30727150565679506), (2099, 0.3293444695981306), (2100, 0.14957546926195867), (2101, 0.17254296125350047), (2102, 0.2998670239757553), (2103, 0.24587390161476608), (2104, 0.4736216531563412), (2105, 0.40581718644558207), (2106, 0.22359906332596213), (2107, 0.15099995909686276), (2108, 0.3576638379410599), (2109, 0.5774435394444509), (2110, 0.7375470759529579), (2111, 0.3576638379410599), (2112, 0.7847345223856955), (2113, 0.23385887808755573), (2114, 0.13452743077000665), (2115, 0.23041109959965103), (2116, 0.3576638379410599), (2117, 0.2737325622987961), (2118, 0.13131525332088015), (2119, 0.7043042793313414), (2120, 0.1880367218302339), (2121, 0.769820204749827), (2122, 0.3576638379410599), (2123, 0.5774435394444509), (2124, 0.23385887808755573), (2125, 0.12027375650197368), (2126, 0.8607077864206123), (2127, 0.33575478425716265), (2128, 0.30727150565679506), (2129, 0.5774435394444509), (2130, 0.3738583956475672), (2131, 0.3576638379410599), (2132, 0.40581718644558207), (2133, 0.5774435394444509), (2134, 0.29172256125015494), (2135, 0.1579588169861995), (2136, 0.2768448102385988), (2137, 0.4591164613639005), (2138, 0.30727150565679506), (2139, 0.3559969100791259), (2140, 0.15752160674772606), (2141, 0.5774435394444509), (2142, 0.5774435394444509), (2143, 0.2824469353088492), (2144, 0.40581718644558207), (2145, 0.17038021244339496), (2146, 0.4591164613639005), (2147, 0.30727150565679506), (2148, 0.4591164613639005), (2149, 0.40581718644558207), (2150, 0.12558874378392645), (2151, 0.4591164613639005), (2152, 0.13013076033984725), (2153, 0.12558874378392645), (2154, 1.0000000000000002), (2155, 0.40581718644558207), (2156, 0.22359906332596213), (2157, 0.17038021244339496), (2158, 0.6718928346490409), (2159, 0.26857806743842627), (2160, 0.22359906332596213), (2161, 0.22359906332596213), (2162, 0.5281913747410142), (2163, 0.5774435394444509), (2164, 0.18708521078998225), (2165, 0.18536232552710183), (2166, 0.37122154887184156), (2167, 0.22359906332596213), (2168, 0.22359906332596213), (2169, 0.27121684321353084), (2170, 0.16792779426448132), (2171, 0.1579588169861995), (2172, 0.25372413601828575), (2173, 0.5774435394444509), (2174, 1.0000000000000002), (2175, 0.1691327460931872), (2176, 0.3657767348484995), (2177, 0.15359494732499762), (2178, 0.5310540129539911), (2179, 0.15752160674772606), (2180, 0.1368653969522434), (2181, 0.3866449009039665), (2182, 0.2779777042354511), (2183, 0.1339804769463195), (2184, 0.6383825828910616), (2185, 0.18708521078998225), (2186, 0.22359906332596213), (2187, 0.3576638379410599), (2188, 0.6346403716990514), (2189, 0.5774435394444509), (2190, 0.5774435394444509), (2191, 0.5373059199009915), (2192, 0.4591164613639005), (2193, 0.3576638379410599), (2194, 0.20336414250433205), (2195, 0.40581718644558207), (2196, 1.0000000000000002), (2197, 0.5267049190476042), (2198, 0.14957546926195867), (2199, 0.3293444695981306), (2200, 0.17755886999618145), (2201, 0.3576638379410599), (2202, 0.30727150565679506), (2203, 0.30727150565679506), (2204, 0.30727150565679506), (2205, 0.1324786861639953), (2206, 0.8040074807703947), (2207, 0.0736921652799127), (2208, 0.394962243287461), (2209, 0.4591164613639005), (2210, 0.7248604787214318), (2211, 0.27879021383104813), (2212, 0.6348171697915972), (2213, 0.5774435394444509), (2214, 1.0000000000000002), (2215, 0.30727150565679506), (2216, 1.0000000000000002), (2217, 0.14884076262022553), (2218, 0.21885832786238832), (2219, 0.30727150565679506), (2220, 0.1691327460931872), (2221, 0.29149286277339803), (2222, 0.17038021244339496), (2223, 0.3293444695981306), (2224, 0.8841088739713499), (2225, 0.17038021244339496), (2226, 0.29172256125015494), (2227, 0.23385887808755573), (2228, 0.6718928346490409), (2229, 0.8183021649040023), (2230, 0.40581718644558207), (2231, 0.43404109111602796), (2232, 0.34450803013496983), (2233, 0.14130588500477448), (2234, 0.22359906332596213), (2235, 0.7043042793313414), (2236, 0.4591164613639005), (2237, 0.2893544097541062), (2238, 0.2779777042354511), (2239, 0.14630797812603838), (2240, 0.25311891209322196), (2241, 0.23385887808755573), (2242, 0.22002217554964743), (2243, 0.14630797812603838), (2244, 0.1691327460931872), (2245, 0.4630964659918842), (2246, 0.3592694433924497), (2247, 0.1691327460931872), (2248, 0.28058888994388304), (2249, 0.18170645844696837), (2250, 0.6341512839347304), (2251, 0.3082907043434548), (2252, 0.6706217317165154), (2253, 0.26119490088809655), (2254, 0.7847345223856955), (2255, 0.5686715595662128), (2256, 0.13039438170649992), (2257, 0.3657767348484995), (2258, 0.22359906332596213), (2259, 0.14957546926195867), (2260, 0.242462337358551), (2261, 0.2028816862494748), (2262, 0.2028816862494748), (2263, 0.1579588169861995), (2264, 0.7662010593444261), (2265, 0.20834108413764743), (2266, 0.40581718644558207), (2267, 0.1579588169861995), (2268, 0.5774435394444509), (2269, 0.20258409676655387), (2270, 0.4591164613639005), (2271, 0.30727150565679506), (2272, 0.30727150565679506), (2273, 0.3592694433924497), (2274, 0.23385887808755573), (2275, 0.8040074807703947), (2276, 0.8040074807703947), (2277, 0.20738116202245635), (2278, 0.3247189447150259), (2279, 0.5843839857047233), (2280, 0.6021347898966749), (2281, 0.2028816862494748), (2282, 0.30727150565679506), (2283, 0.2660627677429875), (2284, 0.689667712718292), (2285, 0.3965834797435125), (2286, 0.24384450176171585), (2287, 0.32562370813905783), (2288, 0.5774435394444509), (2289, 0.23584008869096734), (2290, 0.2028816862494748), (2291, 0.16008222106639874), (2292, 0.4591164613639005), (2293, 0.5774435394444509), (2294, 0.12621518576123342), (2295, 0.8183021649040023), (2296, 0.18708521078998225), (2297, 0.19592263977429356), (2298, 0.18708521078998225), (2299, 0.5774435394444509), (2300, 0.13039438170649992), (2301, 0.30791356210803467), (2302, 0.3576638379410599), (2303, 0.4591164613639005), (2304, 0.6718928346490409), (2305, 0.30727150565679506), (2306, 0.5774435394444509), (2307, 0.30727150565679506), (2308, 0.15099995909686276), (2309, 0.4591164613639005), (2310, 0.5774435394444509), (2311, 0.30727150565679506), (2312, 0.30727150565679506), (2313, 0.26857806743842627), (2314, 0.3592694433924497), (2315, 0.23385887808755573), (2316, 0.38821576521900714), (2317, 0.5774435394444509), (2318, 0.5147789952058865), (2319, 0.40581718644558207), (2320, 0.3576638379410599), (2321, 0.8607077864206123), (2322, 0.15860076967123563), (2323, 0.5774435394444509), (2324, 0.3965834797435125), (2325, 0.30727150565679506), (2326, 0.3767693137687599), (2327, 0.2028816862494748), (2328, 0.5055398515547863), (2329, 0.1339804769463195), (2330, 0.2768448102385988), (2331, 0.172248003771445), (2332, 0.1409088165797575), (2333, 0.22359906332596213), (2334, 1.0000000000000002), (2335, 0.14261763069071842), (2336, 0.8360032290838819), (2337, 0.13352132291109028), (2338, 0.40581718644558207), (2339, 0.30727150565679506), (2340, 0.4591164613639005), (2341, 0.1691327460931872), (2342, 0.1691327460931872), (2343, 0.1691327460931872), (2344, 0.3806068106965542), (2345, 0.1691327460931872), (2346, 0.8607077864206123), (2347, 0.3082907043434548), (2348, 0.668173214222155), (2349, 0.40581718644558207), (2350, 0.23368257964629513), (2351, 0.2028816862494748), (2352, 0.1409088165797575), (2353, 0.16226274576508318), (2354, 0.5774435394444509), (2355, 0.4733104037758452), (2356, 0.33575478425716265), (2357, 0.11555432863330443), (2358, 0.1433535293418951), (2359, 0.34079230902503704), (2360, 0.30727150565679506), (2361, 0.27698770748760076), (2362, 0.40581718644558207), (2363, 0.577688746972546), (2364, 0.1700525804638725), (2365, 0.1409088165797575), (2366, 0.30727150565679506), (2367, 0.2852211085074159), (2368, 0.22359906332596213), (2369, 0.1666241508970162), (2370, 0.5774435394444509), (2371, 0.15860076967123563), (2372, 0.1579588169861995), (2373, 0.20336414250433205), (2374, 0.5373059199009915), (2375, 0.3576638379410599), (2376, 0.21975177990042366), (2377, 0.30727150565679506), (2378, 0.27698770748760076), (2379, 0.3293444695981306), (2380, 0.30727150565679506), (2381, 0.15380226153821258), (2382, 0.29172256125015494), (2383, 0.8040074807703947), (2384, 0.30727150565679506), (2385, 0.3576638379410599), (2386, 0.21154287565204807), (2387, 0.4591164613639005), (2388, 0.21794801308456926), (2389, 0.13160851562164844), (2390, 0.30791356210803467), (2391, 0.3576638379410599), (2392, 0.5774435394444509), (2393, 0.3657767348484995), (2394, 0.22516560505177652), (2395, 0.17038021244339496), (2396, 0.4591164613639005), (2397, 0.3576638379410599), (2398, 0.12694204207990217), (2399, 0.31114051927818076), (2400, 0.3667002823386262), (2401, 0.5774435394444509), (2402, 0.3576638379410599), (2403, 0.4591164613639005), (2404, 0.4591164613639005), (2405, 0.40581718644558207), (2406, 1.0000000000000002), (2407, 0.40581718644558207), (2408, 0.1579588169861995), (2409, 0.22359906332596213), (2410, 0.3576638379410599), (2411, 0.319552926072337), (2412, 0.7854268364702914), (2413, 0.31201096671970374), (2414, 0.1409088165797575), (2415, 0.1919633817146778), (2416, 0.5774435394444509), (2417, 0.5774435394444509), (2418, 0.5774435394444509), (2419, 0.5774435394444509), (2420, 0.22359906332596213), (2421, 0.2968125359872721), (2422, 0.3576638379410599), (2423, 0.3293444695981306), (2424, 0.577688746972546), (2425, 0.5774435394444509), (2426, 0.12664807556954774), (2427, 0.5310261898743222), (2428, 0.5310261898743222), (2429, 0.8040074807703947), (2430, 0.23351820229851009), (2431, 0.22359906332596213), (2432, 0.3033790084483862), (2433, 0.12558874378392645), (2434, 0.3576638379410599), (2435, 0.2028816862494748), (2436, 0.4591164613639005), (2437, 0.35249976392931137), (2438, 0.3044315391294435), (2439, 0.13049036608523196), (2440, 0.4591164613639005), (2441, 0.3576638379410599), (2442, 0.31201096671970374), (2443, 0.3659532158453298), (2444, 0.497449500523525), (2445, 0.30727150565679506), (2446, 0.4591164613639005), (2447, 1.0000000000000002), (2448, 0.3657767348484995), (2449, 0.2028816862494748), (2450, 0.11005470921244818), (2451, 0.11379889037533251), (2452, 0.30727150565679506), (2453, 0.40581718644558207), (2454, 0.5774435394444509), (2455, 0.30727150565679506), (2456, 0.15860076967123563), (2457, 0.40581718644558207), (2458, 0.30727150565679506), (2459, 0.6346403716990514), (2460, 0.30727150565679506), (2461, 0.2852211085074159), (2462, 0.1579588169861995), (2463, 0.5774435394444509), (2464, 0.7662010593444261), (2465, 0.30727150565679506), (2466, 0.21103345162918685), (2467, 0.3576638379410599), (2468, 0.46809077396036614), (2469, 0.3044315391294435), (2470, 0.2779777042354511), (2471, 0.1691327460931872), (2472, 0.18170645844696837), (2473, 0.3038212571040355), (2474, 0.26840773230598897), (2475, 0.40581718644558207), (2476, 0.5267049190476042), (2477, 0.5373059199009915), (2478, 0.2855207834326321), (2479, 0.11429316835427743), (2480, 0.4630964659918842), (2481, 0.5774435394444509), (2482, 0.2277845066340535), (2483, 0.30727150565679506), (2484, 0.20786459912472552), (2485, 0.22971011708578323), (2486, 0.6622583088160293), (2487, 0.6718928346490409), (2488, 0.3576638379410599), (2489, 0.7120316658355228), (2490, 0.4591164613639005), (2491, 0.30727150565679506), (2492, 0.3576638379410599), (2493, 0.177128102819213), (2494, 0.3576638379410599), (2495, 0.4591164613639005), (2496, 0.4127903558165141), (2497, 0.15883093657515635), (2498, 0.23041109959965103), (2499, 0.14434538665221427), (2500, 0.12667784137277716), (2501, 0.31201096671970374), (2502, 0.26857806743842627), (2503, 0.23041109959965103), (2504, 0.1339804769463195), (2505, 0.29172256125015494), (2506, 0.4283064344424885), (2507, 0.4591164613639005), (2508, 0.30727150565679506), (2509, 0.3576638379410599), (2510, 0.30727150565679506), (2511, 0.22359906332596213), (2512, 0.6476717774762546), (2513, 0.1876423760366753), (2514, 0.17038021244339496), (2515, 0.30727150565679506), (2516, 0.14837694196736156), (2517, 0.1704706783522149), (2518, 0.30727150565679506), (2519, 0.5615838293282571), (2520, 0.2277845066340535), (2521, 0.11575859863505093), (2522, 0.7778335661712803), (2523, 0.30727150565679506), (2524, 0.7043042793313414), (2525, 0.5774435394444509), (2526, 0.3044315391294435), (2527, 0.22421828401292448), (2528, 0.40581718644558207), (2529, 0.3576638379410599), (2530, 0.2737325622987961), (2531, 0.2852211085074159), (2532, 0.12325563192382069), (2533, 0.5774435394444509), (2534, 0.3044315391294435), (2535, 0.3576638379410599), (2536, 0.30727150565679506), (2537, 0.4591164613639005), (2538, 0.3044315391294435), (2539, 0.11005470921244818), (2540, 0.4362957329724029), (2541, 0.4630964659918842), (2542, 0.30727150565679506), (2543, 0.22359906332596213), (2544, 0.29879405421154237), (2545, 0.5774435394444509), (2546, 0.7662010593444261), (2547, 0.2779777042354511), (2548, 0.30727150565679506), (2549, 0.16455339316517587), (2550, 0.25973000988105666), (2551, 0.30727150565679506), (2552, 0.5774435394444509), (2553, 0.3576638379410599), (2554, 0.2574196628712301), (2555, 0.5310261898743222), (2556, 0.19802379253344496), (2557, 0.5774435394444509), (2558, 0.769820204749827), (2559, 0.2893544097541062), (2560, 0.40581718644558207), (2561, 0.4591164613639005), (2562, 0.18494066450496752), (2563, 0.3082907043434548), (2564, 0.20336414250433205), (2565, 0.5774435394444509), (2566, 0.22359906332596213), (2567, 0.3121657490926757), (2568, 0.3657767348484995), (2569, 0.3512942857639538), (2570, 0.3576638379410599), (2571, 0.29149286277339803), (2572, 0.5774435394444509), (2573, 0.3033790084483862), (2574, 0.13628080113994606), (2575, 0.21885832786238832), (2576, 0.5267049190476042), (2577, 0.22971011708578323), (2578, 0.1764942897342443), (2579, 0.3657767348484995), (2580, 0.769820204749827), (2581, 0.577688746972546), (2582, 0.172248003771445), (2583, 0.1579588169861995), (2584, 0.12558874378392645), (2585, 0.5774435394444509), (2586, 0.17038021244339496), (2587, 0.4591164613639005), (2588, 0.22359906332596213), (2589, 0.1611348231302914), (2590, 0.14136395646137015), (2591, 0.3293444695981306), (2592, 0.3293444695981306), (2593, 0.2559461986028658), (2594, 0.22359906332596213), (2595, 0.3178415518220633), (2596, 0.23041109959965103), (2597, 0.15752160674772606), (2598, 0.5373059199009915), (2599, 0.3247189447150259), (2600, 0.577688746972546), (2601, 0.2824469353088492), (2602, 1.0000000000000002), (2603, 0.22314230517737652), (2604, 0.2028816862494748), (2605, 0.14474245341341693), (2606, 0.769820204749827), (2607, 0.8633296093440735), (2608, 0.20336414250433205), (2609, 0.26279337899351646), (2610, 0.3576638379410599), (2611, 0.3082907043434548), (2612, 0.3657767348484995), (2613, 0.5774435394444509), (2614, 0.27121684321353084), (2615, 0.1700525804638725), (2616, 0.13160851562164844), (2617, 0.8183021649040023), (2618, 0.3247189447150259), (2619, 0.4591164613639005), (2620, 0.30727150565679506), (2621, 1.0000000000000002), (2622, 0.34450803013496983), (2623, 0.29172256125015494), (2624, 0.5774435394444509), (2625, 0.7334595797119441), (2626, 0.46809077396036614), (2627, 0.1691327460931872), (2628, 0.5774435394444509), (2629, 0.2925601067357096), (2630, 0.4630964659918842), (2631, 0.30727150565679506), (2632, 0.5373059199009915), (2633, 0.3576638379410599), (2634, 0.21424721266559527), (2635, 0.6718928346490409), (2636, 0.5774435394444509), (2637, 0.2028816862494748), (2638, 0.7847345223856955), (2639, 0.30727150565679506), (2640, 0.33575478425716265), (2641, 0.1607743591221443), (2642, 0.27028212962596143), (2643, 0.23524638426091615), (2644, 0.13998097458365774), (2645, 0.8841088739713499), (2646, 0.15380226153821258), (2647, 0.5310261898743222), (2648, 0.30727150565679506), (2649, 0.8607077864206123), (2650, 0.40581718644558207), (2651, 0.5774435394444509), (2652, 0.21083785751180942), (2653, 0.4591164613639005), (2654, 0.13418467210678842), (2655, 0.769820204749827), (2656, 0.2028816862494748), (2657, 0.23385887808755573), (2658, 0.1691327460931872), (2659, 0.23385887808755573), (2660, 0.23041109959965103), (2661, 0.3576638379410599), (2662, 0.22359906332596213), (2663, 0.22359906332596213), (2664, 0.40581718644558207), (2665, 0.17038021244339496), (2666, 0.11762536313038877), (2667, 0.23385887808755573), (2668, 0.8841088739713499), (2669, 0.30727150565679506), (2670, 0.12621518576123342), (2671, 0.22359906332596213), (2672, 0.13160851562164844), (2673, 0.5774435394444509), (2674, 0.27698770748760076), (2675, 0.30727150565679506), (2676, 0.23385887808755573), (2677, 0.22359906332596213), (2678, 0.3576638379410599), (2679, 0.5774435394444509), (2680, 0.2677442706066254), (2681, 0.22359906332596213), (2682, 0.2707616739296186), (2683, 0.3592694433924497), (2684, 0.30727150565679506), (2685, 0.20336414250433205), (2686, 0.1666241508970162), (2687, 0.3576638379410599), (2688, 0.11853812865975578), (2689, 0.34450803013496983), (2690, 0.20336414250433205), (2691, 0.12352111685766987), (2692, 1.0000000000000002), (2693, 0.22359906332596213), (2694, 0.5774435394444509), (2695, 0.7847345223856955), (2696, 0.3576638379410599), (2697, 0.8841088739713499), (2698, 0.34079230902503704), (2699, 0.22359906332596213), (2700, 0.6706217317165154), (2701, 0.22359906332596213), (2702, 0.3576638379410599), (2703, 0.30727150565679506), (2704, 0.1579588169861995), (2705, 0.21794801308456926), (2706, 0.1958243706547828), (2707, 0.33575478425716265), (2708, 0.11016779911410146), (2709, 0.13308404729192927), (2710, 0.16455339316517587), (2711, 0.34450803013496983), (2712, 0.4591164613639005), (2713, 0.14130588500477448), (2714, 0.36338357710880953), (2715, 0.10890235106247904), (2716, 0.769820204749827), (2717, 0.10786535732283437), (2718, 0.20749214135139132), (2719, 0.1579588169861995), (2720, 0.37122154887184156), (2721, 0.3293444695981306), (2722, 0.4591164613639005), (2723, 0.5774435394444509), (2724, 0.4733104037758452), (2725, 0.3965834797435125), (2726, 0.30727150565679506), (2727, 0.8360032290838819), (2728, 0.4591164613639005), (2729, 0.11403822893073125), (2730, 0.22359906332596213), (2731, 0.4591164613639005), (2732, 0.22359906332596213), (2733, 0.36666009095912633), (2734, 0.30727150565679506), (2735, 0.5774435394444509), (2736, 0.3592694433924497), (2737, 0.22359906332596213), (2738, 0.4591164613639005), (2739, 0.8607077864206123), (2740, 0.32562370813905783), (2741, 0.3293444695981306), (2742, 0.8040074807703947), (2743, 0.2277845066340535), (2744, 0.3576638379410599), (2745, 0.24181072126238312), (2746, 0.3576638379410599), (2747, 0.3576638379410599), (2748, 0.3576638379410599), (2749, 0.14130588500477448), (2750, 0.13039438170649992), (2751, 0.8040074807703947), (2752, 0.8607077864206123), (2753, 0.5774435394444509), (2754, 0.15404452966563836), (2755, 0.29912386038042077), (2756, 0.13982333860009344), (2757, 0.5774435394444509), (2758, 0.26473753543327366), (2759, 0.4630964659918842), (2760, 0.5774435394444509), (2761, 0.40581718644558207), (2762, 0.1691327460931872), (2763, 0.1700525804638725), (2764, 0.3576638379410599), (2765, 0.5774435394444509), (2766, 0.19667044748796922), (2767, 0.27698770748760076), (2768, 0.8841088739713499), (2769, 0.3576638379410599), (2770, 0.13982333860009344), (2771, 0.7320124966083728), (2772, 0.13448567487693908), (2773, 0.23041109959965103), (2774, 0.18708521078998225), (2775, 0.40581718644558207), (2776, 0.3576638379410599), (2777, 0.45204789618693036), (2778, 0.6346403716990514), (2779, 0.25973000988105666), (2780, 0.6460088754953779), (2781, 0.14837694196736156), (2782, 0.3293444695981306), (2783, 0.5774435394444509), (2784, 1.0000000000000002), (2785, 0.1666241508970162), (2786, 0.4591164613639005), (2787, 0.46809077396036614), (2788, 0.8040074807703947), (2789, 0.31420713206026873), (2790, 0.3767693137687599), (2791, 0.8040074807703947), (2792, 0.5774435394444509), (2793, 0.23041109959965103), (2794, 0.22359906332596213), (2795, 0.8841088739713499), (2796, 0.22516560505177652), (2797, 0.3576638379410599), (2798, 0.40581718644558207), (2799, 0.2028816862494748), (2800, 0.3082907043434548), (2801, 0.4630964659918842), (2802, 0.25973000988105666), (2803, 0.3978795572181292), (2804, 0.14474245341341693), (2805, 0.22359906332596213), (2806, 0.1608576001419115), (2807, 0.16792779426448132), (2808, 1.0000000000000002), (2809, 0.40581718644558207), (2810, 0.17680904444007864), (2811, 0.13859598807839074), (2812, 0.242462337358551), (2813, 0.10863252887759527), (2814, 0.2028816862494748), (2815, 0.6383825828910616), (2816, 0.22359906332596213), (2817, 0.22359906332596213), (2818, 0.30727150565679506), (2819, 0.39590252545539845), (2820, 0.46809077396036614), (2821, 0.26857806743842627), (2822, 0.1238843679566299), (2823, 0.30727150565679506), (2824, 0.14794007329031442), (2825, 0.577688746972546), (2826, 0.33575478425716265), (2827, 0.1666241508970162), (2828, 0.12611540498270837), (2829, 0.20336414250433205), (2830, 0.26279337899351646), (2831, 0.21240623395744487), (2832, 0.3576638379410599), (2833, 0.6718928346490409), (2834, 0.3576638379410599), (2835, 0.17530483251041676), (2836, 0.22359906332596213), (2837, 0.12787902919334002), (2838, 0.3576638379410599), (2839, 0.23041109959965103), (2840, 0.6346403716990514), (2841, 0.5774435394444509), (2842, 0.2779777042354511), (2843, 0.11877422450706457), (2844, 0.2037433132727724), (2845, 0.3044315391294435), (2846, 0.4591164613639005), (2847, 0.34865103470234526), (2848, 0.2998670239757553), (2849, 0.8607077864206123), (2850, 0.14130588500477448), (2851, 0.22971011708578323), (2852, 0.30727150565679506), (2853, 0.5774435394444509), (2854, 0.6346403716990514), (2855, 0.22359906332596213), (2856, 0.1201436669948557), (2857, 0.3576638379410599), (2858, 0.4591164613639005), (2859, 0.40581718644558207), (2860, 0.14130588500477448), (2861, 0.5774435394444509), (2862, 0.24587390161476608), (2863, 0.40581718644558207), (2864, 0.1876423760366753), (2865, 0.1666241508970162), (2866, 0.22359906332596213), (2867, 0.12077730185898669), (2868, 0.3082907043434548), (2869, 0.1691327460931872), (2870, 0.40581718644558207), (2871, 0.7375470759529579), (2872, 0.3576638379410599), (2873, 0.2028816862494748), (2874, 0.5025081407437699), (2875, 0.30727150565679506), (2876, 0.3576638379410599), (2877, 0.22359906332596213), (2878, 0.26857806743842627), (2879, 0.5373059199009915), (2880, 0.10825805430376051), (2881, 0.48454509986888894), (2882, 0.4591164613639005), (2883, 0.40581718644558207), (2884, 0.4591164613639005), (2885, 0.1409088165797575), (2886, 0.5671193506520789), (2887, 0.3038212571040355), (2888, 0.23821532322863345), (2889, 0.34079230902503704), (2890, 0.40581718644558207), (2891, 0.22359906332596213), (2892, 0.40581718644558207), (2893, 0.3576638379410599), (2894, 0.40581718644558207), (2895, 0.33575478425716265), (2896, 0.30727150565679506), (2897, 0.5615838293282571), (2898, 0.14130588500477448), (2899, 0.38737320187183427), (2900, 0.5774435394444509), (2901, 0.3657767348484995), (2902, 0.5774435394444509), (2903, 0.8841088739713499), (2904, 0.40581718644558207), (2905, 0.1691327460931872), (2906, 0.1666241508970162), (2907, 0.40581718644558207), (2908, 0.8841088739713499), (2909, 0.5774435394444509), (2910, 0.7248604787214318), (2911, 0.40581718644558207), (2912, 0.2824469353088492), (2913, 0.577688746972546), (2914, 0.4591164613639005), (2915, 0.40581718644558207), (2916, 0.21103345162918685), (2917, 0.5373059199009915), (2918, 0.8040074807703947), (2919, 1.0000000000000002), (2920, 0.26840773230598897), (2921, 0.23041109959965103), (2922, 0.23385887808755573), (2923, 0.5774435394444509), (2924, 0.3576638379410599), (2925, 0.91515310954445), (2926, 0.22516560505177652), (2927, 0.10387465320830426), (2928, 0.22359906332596213), (2929, 0.3592694433924497), (2930, 0.30727150565679506), (2931, 0.2925601067357096), (2932, 0.7847345223856955), (2933, 0.3576638379410599), (2934, 0.5843839857047233), (2935, 0.12621518576123342), (2936, 0.5774435394444509), (2937, 0.33575478425716265), (2938, 0.13418467210678842), (2939, 0.8360032290838819), (2940, 0.25266231148432144), (2941, 0.30727150565679506), (2942, 0.5774435394444509), (2943, 0.3413027748180781), (2944, 0.27362186846558306), (2945, 0.3576638379410599), (2946, 0.17086395110136657), (2947, 0.5267049190476042), (2948, 0.6718928346490409), (2949, 0.4630964659918842), (2950, 0.14130588500477448), (2951, 0.30727150565679506), (2952, 0.23041109959965103), (2953, 0.5774435394444509), (2954, 0.4591164613639005), (2955, 0.12352111685766987), (2956, 0.1796235970270272), (2957, 0.5774435394444509), (2958, 0.2779777042354511), (2959, 0.3866449009039665), (2960, 0.4283064344424885), (2961, 1.0000000000000002), (2962, 0.577688746972546), (2963, 0.8040074807703947), (2964, 0.5774435394444509), (2965, 0.3044315391294435), (2966, 0.3084638857039771), (2967, 0.1611348231302914), (2968, 0.30727150565679506), (2969, 0.27698770748760076), (2970, 0.4591164613639005), (2971, 0.577688746972546), (2972, 0.3293444695981306), (2973, 0.22359906332596213), (2974, 0.27121684321353084), (2975, 0.40581718644558207), (2976, 0.4591164613639005), (2977, 0.3082907043434548), (2978, 0.7262588564160934), (2979, 0.177128102819213), (2980, 0.3657767348484995), (2981, 0.5373059199009915), (2982, 0.1286241867123072), (2983, 0.22359906332596213), (2984, 0.3592694433924497), (2985, 0.5774435394444509), (2986, 0.25311891209322196), (2987, 0.5774435394444509), (2988, 0.769820204749827), (2989, 0.42595503959828285), (2990, 0.23385887808755573), (2991, 0.4630964659918842), (2992, 0.39989718917961703), (2993, 0.5774435394444509), (2994, 0.6718928346490409), (2995, 0.2595678584515598), (2996, 0.7847345223856955), (2997, 0.5774435394444509), (2998, 0.2737325622987961), (2999, 0.3576638379410599), (3000, 0.5774435394444509), (3001, 0.14794007329031442), (3002, 0.15125181753421485), (3003, 0.4591164613639005), (3004, 0.26857806743842627), (3005, 0.4630964659918842), (3006, 0.1691327460931872), (3007, 0.5774435394444509), (3008, 0.12325948642298551), (3009, 0.22359906332596213), (3010, 0.5774435394444509), (3011, 0.43404109111602796), (3012, 1.0000000000000002), (3013, 0.40581718644558207), (3014, 0.21154287565204807), (3015, 0.40581718644558207), (3016, 0.4591164613639005), (3017, 0.22359906332596213), (3018, 0.39580945858235794), (3019, 1.0000000000000002), (3020, 0.4591164613639005), (3021, 0.14794007329031442), (3022, 0.34450803013496983), (3023, 0.23041109959965103), (3024, 0.27698770748760076), (3025, 0.13039438170649992), (3026, 0.4591164613639005), (3027, 0.34079230902503704), (3028, 0.3082907043434548), (3029, 0.1691327460931872), (3030, 0.40581718644558207), (3031, 0.5774435394444509), (3032, 0.769820204749827), (3033, 0.2028816862494748), (3034, 0.12321209246935137), (3035, 0.769820204749827), (3036, 0.29172256125015494), (3037, 0.4591164613639005), (3038, 0.30727150565679506), (3039, 0.22359906332596213), (3040, 0.4591164613639005), (3041, 0.30727150565679506), (3042, 0.4591164613639005), (3043, 1.0000000000000002), (3044, 0.26012124331153214), (3045, 0.5898435522384278), (3046, 0.3082907043434548), (3047, 0.1764942897342443), (3048, 0.14794007329031442), (3049, 0.6706217317165154), (3050, 0.3576638379410599), (3051, 0.24384450176171585), (3052, 0.5774435394444509), (3053, 0.16008222106639874), (3054, 0.30727150565679506), (3055, 0.5774435394444509), (3056, 0.40581718644558207), (3057, 0.5774435394444509), (3058, 0.14957546926195867), (3059, 0.15851877355284183), (3060, 0.30727150565679506), (3061, 0.22359906332596213), (3062, 0.1976590979531213), (3063, 0.1634169981293903), (3064, 0.27698770748760076), (3065, 0.5310261898743222), (3066, 0.2028816862494748), (3067, 0.40581718644558207), (3068, 0.14794007329031442), (3069, 0.5774435394444509), (3070, 0.7430748036499564), (3071, 0.3576638379410599), (3072, 0.40581718644558207), (3073, 0.30727150565679506), (3074, 0.4591164613639005), (3075, 0.40581718644558207), (3076, 0.8607077864206123), (3077, 0.22359906332596213), (3078, 0.172248003771445), (3079, 0.31420713206026873), (3080, 0.13982333860009344), (3081, 0.2559461986028658), (3082, 0.30727150565679506), (3083, 0.22359906332596213), (3084, 0.4591164613639005), (3085, 0.8040074807703947), (3086, 0.8183021649040023), (3087, 0.30727150565679506), (3088, 0.30727150565679506), (3089, 0.12252717413877086), (3090, 0.30727150565679506), (3091, 0.25092512930727573), (3092, 0.23041109959965103), (3093, 0.35249976392931137), (3094, 0.40581718644558207), (3095, 0.8607077864206123), (3096, 0.2737325622987961), (3097, 0.6723084070971053), (3098, 0.22359906332596213), (3099, 0.5867569026003305), (3100, 0.31201096671970374), (3101, 0.5774435394444509), (3102, 0.19592263977429356), (3103, 0.1611348231302914), (3104, 0.30727150565679506), (3105, 0.13365857011569546), (3106, 0.30727150565679506), (3107, 0.1691327460931872), (3108, 0.49898537118682296), (3109, 0.22359906332596213), (3110, 0.7043042793313414), (3111, 0.30791356210803467), (3112, 0.5063973393234065), (3113, 0.4591164613639005), (3114, 0.1253234985382669), (3115, 0.23385887808755573), (3116, 0.40581718644558207), (3117, 0.6706217317165154), (3118, 0.6099880806643851), (3119, 0.8607077864206123), (3120, 0.8607077864206123), (3121, 0.18494066450496752), (3122, 0.45320442654918003), (3123, 0.40031233256108867), (3124, 0.4283064344424885), (3125, 0.769820204749827), (3126, 0.33672873670931036), (3127, 0.6718928346490409), (3128, 0.5774435394444509), (3129, 0.4283064344424885), (3130, 0.19414865168855144), (3131, 0.2804798504488143), (3132, 0.14130588500477448), (3133, 0.31201096671970374), (3134, 0.31201096671970374), (3135, 0.4283064344424885), (3136, 0.4283064344424885), (3137, 0.3576638379410599), (3138, 0.1579588169861995), (3139, 0.4591164613639005), (3140, 0.40581718644558207), (3141, 0.11403822893073125), (3142, 0.5265446363222682), (3143, 0.5267049190476042), (3144, 0.1433535293418951), (3145, 0.13039438170649992), (3146, 0.2824469353088492), (3147, 0.3576638379410599), (3148, 0.40581718644558207), (3149, 0.6718928346490409), (3150, 0.4591164613639005), (3151, 0.3657767348484995), (3152, 0.2164822372691919), (3153, 0.5373059199009915), (3154, 1.0000000000000002), (3155, 0.7662010593444261), (3156, 0.4283064344424885), (3157, 0.5774435394444509), (3158, 0.31420713206026873), (3159, 0.5774435394444509), (3160, 0.3247189447150259), (3161, 0.4346206688770935), (3162, 0.19592263977429356), (3163, 0.4283064344424885), (3164, 0.30727150565679506), (3165, 0.3413027748180781), (3166, 0.3576638379410599), (3167, 0.5774435394444509), (3168, 0.39989718917961703), (3169, 0.23385887808755573), (3170, 0.40581718644558207), (3171, 0.6341512839347304), (3172, 0.18708521078998225), (3173, 0.5774435394444509), (3174, 0.3077229199237533), (3175, 0.22359906332596213), (3176, 0.1691327460931872), (3177, 0.22359906332596213), (3178, 0.3576638379410599), (3179, 0.4630964659918842), (3180, 0.3383759536327736), (3181, 0.11182430368884916), (3182, 0.3576638379410599), (3183, 0.3576638379410599), (3184, 0.2998670239757553), (3185, 0.5267049190476042), (3186, 0.5774435394444509), (3187, 0.3293444695981306), (3188, 0.22359906332596213), (3189, 0.172248003771445), (3190, 0.30727150565679506), (3191, 0.2707616739296186), (3192, 0.577688746972546), (3193, 0.14130588500477448), (3194, 0.3576638379410599), (3195, 0.5686715595662128), (3196, 0.769820204749827), (3197, 0.30727150565679506), (3198, 0.20944021403338411), (3199, 0.19802379253344496), (3200, 0.40581718644558207), (3201, 0.1764942897342443), (3202, 0.13402430615096272), (3203, 0.30727150565679506), (3204, 0.2028816862494748), (3205, 0.12270947298424212), (3206, 0.33575478425716265), (3207, 0.30727150565679506), (3208, 0.1579588169861995), (3209, 0.30727150565679506), (3210, 0.8841088739713499), (3211, 0.5774435394444509), (3212, 0.2028816862494748), (3213, 0.5267049190476042), (3214, 0.3576638379410599), (3215, 0.4283064344424885), (3216, 0.5774435394444509), (3217, 0.22359906332596213), (3218, 0.3576638379410599), (3219, 0.3657767348484995), (3220, 0.3576638379410599), (3221, 0.17680904444007864), (3222, 0.1691327460931872), (3223, 0.16008222106639874), (3224, 0.4591164613639005), (3225, 0.2646129863594115), (3226, 0.5774435394444509), (3227, 0.6346403716990514), (3228, 0.769820204749827), (3229, 0.22359906332596213), (3230, 0.5774435394444509), (3231, 0.14474245341341693), (3232, 0.6566099254452886), (3233, 0.4733104037758452), (3234, 0.3293444695981306), (3235, 0.3084638857039771), (3236, 0.2028816862494748), (3237, 0.40581718644558207), (3238, 0.4591164613639005), (3239, 0.4591164613639005), (3240, 0.5774435394444509), (3241, 0.19102089666932973), (3242, 0.5774435394444509), (3243, 0.5774435394444509), (3244, 0.20336414250433205), (3245, 0.5025081407437699), (3246, 0.3576638379410599), (3247, 0.34450803013496983), (3248, 0.40581718644558207), (3249, 0.4591164613639005), (3250, 0.20336414250433205), (3251, 0.1691327460931872), (3252, 0.5774435394444509), (3253, 0.23385887808755573), (3254, 0.40581718644558207), (3255, 0.11122973900828269), (3256, 0.14837694196736156), (3257, 0.4591164613639005), (3258, 0.3576638379410599), (3259, 0.577688746972546), (3260, 0.4591164613639005), (3261, 0.1691327460931872), (3262, 0.23584008869096734), (3263, 0.5267049190476042), (3264, 0.3044315391294435), (3265, 0.17038021244339496), (3266, 0.30727150565679506), (3267, 0.6723084070971053), (3268, 0.40581718644558207), (3269, 0.5774435394444509), (3270, 0.14884076262022553), (3271, 0.3576638379410599), (3272, 0.12325563192382069), (3273, 0.40581718644558207), (3274, 0.40581718644558207), (3275, 0.8841088739713499), (3276, 0.2893544097541062), (3277, 0.30727150565679506), (3278, 0.2768398572587637), (3279, 0.4630964659918842), (3280, 0.5723659671859165), (3281, 0.1666241508970162), (3282, 0.3576638379410599), (3283, 0.4591164613639005), (3284, 0.769820204749827), (3285, 0.29172256125015494), (3286, 0.11853812865975578), (3287, 0.1339804769463195), (3288, 0.22359906332596213), (3289, 0.4591164613639005), (3290, 0.4591164613639005), (3291, 0.40581718644558207), (3292, 0.5774435394444509), (3293, 0.8607077864206123), (3294, 0.1764942897342443), (3295, 0.22359906332596213), (3296, 0.40581718644558207), (3297, 0.37122154887184156), (3298, 0.2595678584515598), (3299, 0.5774435394444509), (3300, 0.40581718644558207), (3301, 0.3082907043434548), (3302, 0.40581718644558207), (3303, 0.41962107900769013), (3304, 0.25311891209322196), (3305, 0.1764942897342443), (3306, 0.7334595797119441), (3307, 0.5774435394444509), (3308, 0.3576638379410599), (3309, 0.30727150565679506), (3310, 0.17214580967483317), (3311, 0.23384803091896067), (3312, 0.8040074807703947), (3313, 0.5774435394444509), (3314, 0.25973000988105666), (3315, 0.3576638379410599), (3316, 0.2277845066340535), (3317, 0.7379372233470538), (3318, 0.8633296093440735), (3319, 0.17038021244339496), (3320, 0.20336414250433205), (3321, 0.30727150565679506), (3322, 0.5774435394444509), (3323, 0.14884076262022553), (3324, 0.30727150565679506), (3325, 0.5373059199009915), (3326, 0.26857806743842627), (3327, 0.32562370813905783), (3328, 0.23821532322863345), (3329, 0.4591164613639005), (3330, 0.45320442654918003), (3331, 0.4733104037758452), (3332, 0.1147759279185542), (3333, 0.1691327460931872), (3334, 0.7375470759529579), (3335, 0.40581718644558207), (3336, 0.42595503959828285), (3337, 0.4591164613639005), (3338, 0.3592694433924497), (3339, 0.5267049190476042), (3340, 0.1667228701444556), (3341, 0.5774435394444509), (3342, 0.602930992583247), (3343, 0.23385887808755573), (3344, 0.769820204749827), (3345, 0.1691327460931872), (3346, 0.23981349497614568), (3347, 0.23584008869096734), (3348, 0.4591164613639005), (3349, 0.668173214222155), (3350, 0.30727150565679506), (3351, 0.4591164613639005), (3352, 0.3576638379410599), (3353, 0.35249976392931137), (3354, 0.5774435394444509), (3355, 0.35249976392931137), (3356, 0.1691327460931872), (3357, 0.31075363466315664), (3358, 0.5774435394444509), (3359, 0.40581718644558207), (3360, 0.3038212571040355), (3361, 0.31201096671970374), (3362, 0.5774435394444509), (3363, 0.24181072126238312), (3364, 0.3576638379410599), (3365, 0.27698770748760076), (3366, 0.10571369199972992), (3367, 0.31201096671970374), (3368, 0.15851877355284183), (3369, 0.5774435394444509), (3370, 1.0000000000000002), (3371, 0.22359906332596213), (3372, 0.5774435394444509), (3373, 0.37122154887184156), (3374, 0.5827303378243531), (3375, 0.22359906332596213), (3376, 0.5774435394444509), (3377, 0.7726460271249525), (3378, 0.30727150565679506), (3379, 0.3082907043434548), (3380, 0.40581718644558207), (3381, 0.5774435394444509), (3382, 0.7662010593444261), (3383, 0.23385887808755573), (3384, 0.8040074807703947), (3385, 0.31420713206026873), (3386, 0.2244958607882379), (3387, 0.3822079424089763), (3388, 0.3576638379410599), (3389, 0.23577155474146153), (3390, 0.5774435394444509), (3391, 0.40581718644558207), (3392, 0.5774435394444509), (3393, 0.2855207834326321), (3394, 0.1707565841605188), (3395, 0.1339804769463195), (3396, 0.5774435394444509), (3397, 0.1339804769463195), (3398, 0.36666009095912633), (3399, 0.3082907043434548), (3400, 0.22359906332596213), (3401, 0.23041109959965103), (3402, 0.2824469353088492), (3403, 0.7132756155289268), (3404, 0.26453767309268333), (3405, 0.31201096671970374), (3406, 0.40581718644558207), (3407, 0.7120316658355228), (3408, 0.21498599025731457), (3409, 0.23999448181596864), (3410, 0.4591164613639005), (3411, 0.20336414250433205), (3412, 0.5774435394444509), (3413, 0.3576638379410599), (3414, 0.5774435394444509), (3415, 0.30727150565679506), (3416, 0.6577983726942829), (3417, 0.21794801308456926), (3418, 0.7662010593444261), (3419, 0.33575478425716265), (3420, 0.1691327460931872), (3421, 0.3576638379410599), (3422, 0.30727150565679506), (3423, 0.5774435394444509), (3424, 0.19002061681524599), (3425, 0.40581718644558207), (3426, 0.3738583956475672), (3427, 0.14130588500477448), (3428, 0.30727150565679506), (3429, 0.5267049190476042), (3430, 0.4591164613639005), (3431, 0.5774435394444509), (3432, 0.3866449009039665), (3433, 0.5686715595662128), (3434, 0.40581718644558207), (3435, 0.769820204749827), (3436, 0.769820204749827), (3437, 0.8183021649040023), (3438, 0.5267049190476042), (3439, 0.1703363842822038), (3440, 0.4067582448305178), (3441, 0.42595503959828285), (3442, 0.30727150565679506), (3443, 0.46809077396036614), (3444, 0.1339804769463195), (3445, 0.20519745249983273), (3446, 0.4630964659918842), (3447, 0.3576638379410599), (3448, 0.4283064344424885), (3449, 0.3576638379410599), (3450, 0.8841088739713499), (3451, 0.5267049190476042), (3452, 0.4733104037758452), (3453, 0.15851877355284183), (3454, 0.1607743591221443), (3455, 0.5774435394444509), (3456, 0.4630964659918842), (3457, 0.1579588169861995), (3458, 0.5774435394444509), (3459, 0.15411137993676727), (3460, 0.5373059199009915), (3461, 0.11853812865975578), (3462, 0.30727150565679506), (3463, 0.12352111685766987), (3464, 0.4679539367119162), (3465, 0.8040074807703947), (3466, 0.8040074807703947), (3467, 0.14130588500477448), (3468, 0.34450803013496983), (3469, 0.14130588500477448), (3470, 0.36666009095912633), (3471, 0.5686715595662128), (3472, 0.15411137993676727), (3473, 0.12506358450692168), (3474, 0.5686715595662128), (3475, 0.30727150565679506), (3476, 0.1579588169861995), (3477, 0.3576638379410599), (3478, 0.5774435394444509), (3479, 0.3576638379410599), (3480, 0.12787902919334002), (3481, 0.14837694196736156), (3482, 0.1409088165797575), (3483, 1.0000000000000002), (3484, 0.3247189447150259), (3485, 0.14837694196736156), (3486, 0.4283064344424885), (3487, 0.5686715595662128), (3488, 0.3592694433924497), (3489, 0.22359906332596213), (3490, 0.22359906332596213), (3491, 0.29172256125015494), (3492, 0.26279337899351646), (3493, 0.3576638379410599), (3494, 0.30727150565679506), (3495, 0.4630964659918842), (3496, 0.3576638379410599), (3497, 0.5774435394444509), (3498, 0.769820204749827), (3499, 0.769820204749827), (3500, 0.3576638379410599), (3501, 0.769820204749827), (3502, 0.3247189447150259), (3503, 0.2490754051331004), (3504, 0.7043042793313414), (3505, 0.1579588169861995), (3506, 0.40581718644558207), (3507, 0.8040074807703947), (3508, 0.6718928346490409), (3509, 0.30727150565679506), (3510, 0.30727150565679506), (3511, 0.40581718644558207), (3512, 0.29305754701071135), (3513, 0.3005001522082398), (3514, 0.5739861797454447), (3515, 0.1370638340429739), (3516, 0.38737320187183427), (3517, 0.29305754701071135), (3518, 0.30727150565679506), (3519, 0.30727150565679506), (3520, 0.4283064344424885), (3521, 0.769820204749827), (3522, 0.1543225237431612), (3523, 0.5774435394444509), (3524, 0.40581718644558207), (3525, 0.15863187854618097), (3526, 0.3576638379410599), (3527, 0.29172256125015494), (3528, 0.1368653969522434), (3529, 0.22359906332596213), (3530, 0.23041109959965103), (3531, 0.577688746972546), (3532, 0.14130588500477448), (3533, 0.11742978219178365), (3534, 0.5774435394444509), (3535, 0.7375470759529579), (3536, 0.5774435394444509), (3537, 0.4591164613639005), (3538, 0.4591164613639005), (3539, 0.10863252887759527), (3540, 0.5774435394444509), (3541, 0.3576638379410599), (3542, 0.29149286277339803), (3543, 0.30727150565679506), (3544, 0.4591164613639005), (3545, 0.14411074064953874), (3546, 0.32562370813905783), (3547, 0.23041109959965103), (3548, 0.5774435394444509), (3549, 0.22359906332596213), (3550, 0.1666241508970162), (3551, 0.40581718644558207), (3552, 0.3576638379410599), (3553, 0.6125049220161798), (3554, 0.17680904444007864), (3555, 0.4283064344424885), (3556, 0.6346403716990514), (3557, 0.3657767348484995), (3558, 0.21794801308456926), (3559, 0.1374826137678041), (3560, 0.3413027748180781), (3561, 0.5774435394444509), (3562, 0.14837694196736156), (3563, 0.30727150565679506), (3564, 0.26698480367073396), (3565, 0.4591164613639005), (3566, 0.1796235970270272), (3567, 0.25372413601828575), (3568, 0.13245132184062358), (3569, 0.29172256125015494), (3570, 0.6718928346490409), (3571, 0.668173214222155), (3572, 0.30727150565679506), (3573, 0.1691327460931872), (3574, 0.1339804769463195), (3575, 0.25311891209322196), (3576, 0.3247189447150259), (3577, 0.27879021383104813), (3578, 0.25372413601828575), (3579, 0.20944021403338411), (3580, 0.20336414250433205), (3581, 0.2028816862494748), (3582, 0.6566099254452886), (3583, 0.4630964659918842), (3584, 0.36982651650649817), (3585, 0.15752160674772606), (3586, 0.4367076321405793), (3587, 0.29608335997396873), (3588, 0.5267049190476042), (3589, 0.22359906332596213), (3590, 0.3082907043434548), (3591, 0.23385887808755573), (3592, 0.16792779426448132), (3593, 0.42595503959828285), (3594, 0.1552068803720693), (3595, 0.14884076262022553), (3596, 0.5774435394444509), (3597, 0.5346424141802321), (3598, 0.18170645844696837), (3599, 0.3576638379410599), (3600, 0.20749214135139132), (3601, 0.3576638379410599), (3602, 0.5267049190476042), (3603, 0.19002061681524599), (3604, 0.3866449009039665), (3605, 0.34450803013496983), (3606, 0.4591164613639005), (3607, 0.12506358450692168), (3608, 0.5774435394444509), (3609, 0.1543225237431612), (3610, 0.2028816862494748), (3611, 0.5774435394444509), (3612, 0.5898874798986284), (3613, 0.28258151787370384), (3614, 0.40581718644558207), (3615, 0.5774435394444509), (3616, 0.4591164613639005), (3617, 0.18536232552710183), (3618, 0.769820204749827), (3619, 0.3592694433924497), (3620, 0.3657767348484995), (3621, 0.4591164613639005), (3622, 0.30727150565679506), (3623, 0.4360523884611756), (3624, 0.4957502148880942), (3625, 0.1764942897342443), (3626, 0.3576638379410599), (3627, 0.5774435394444509), (3628, 0.12558874378392645), (3629, 0.3965834797435125), (3630, 0.18708521078998225), (3631, 0.1579588169861995), (3632, 0.19592263977429356), (3633, 0.14837694196736156), (3634, 0.29149286277339803), (3635, 0.5310261898743222), (3636, 0.5774435394444509), (3637, 0.6663154977057076), (3638, 0.602930992583247), (3639, 0.3044315391294435), (3640, 1.0000000000000002), (3641, 0.21357878542373773), (3642, 0.8841088739713499), (3643, 0.3657767348484995), (3644, 0.22359906332596213), (3645, 0.45204789618693036), (3646, 0.3576638379410599), (3647, 0.5774435394444509), (3648, 0.22359906332596213), (3649, 0.17038021244339496), (3650, 0.14411074064953874), (3651, 0.5774435394444509), (3652, 0.8360032290838819), (3653, 0.769820204749827), (3654, 0.40581718644558207), (3655, 0.40581718644558207), (3656, 0.5774435394444509), (3657, 0.26803277869985076), (3658, 0.577688746972546), (3659, 0.9258025488242041), (3660, 0.8841088739713499), (3661, 0.769820204749827), (3662, 0.30727150565679506), (3663, 0.1691327460931872), (3664, 0.4630964659918842), (3665, 0.4591164613639005), (3666, 0.5686715595662128), (3667, 0.26857806743842627), (3668, 0.42595503959828285), (3669, 0.21794801308456926), (3670, 0.7847345223856955), (3671, 0.14837694196736156), (3672, 0.5774435394444509), (3673, 0.3293444695981306), (3674, 0.8360032290838819), (3675, 1.0000000000000002), (3676, 0.12484952683481595), (3677, 0.3044315391294435), (3678, 0.3576638379410599), (3679, 0.30922509667064235), (3680, 0.6346403716990514), (3681, 0.22359906332596213), (3682, 0.11742978219178365), (3683, 0.30727150565679506), (3684, 0.7430748036499564), (3685, 0.11005470921244818), (3686, 0.22359906332596213), (3687, 0.5774435394444509), (3688, 0.13998097458365774), (3689, 0.26698480367073396), (3690, 0.14130588500477448), (3691, 0.5774435394444509), (3692, 0.4360523884611756), (3693, 0.14130588500477448), (3694, 0.7847345223856955), (3695, 0.14957546926195867), (3696, 0.769820204749827), (3697, 0.1607743591221443), (3698, 0.1796235970270272), (3699, 1.0000000000000002), (3700, 0.13245132184062358), (3701, 0.5774435394444509), (3702, 0.23041109959965103), (3703, 0.14630797812603838), (3704, 0.5373059199009915), (3705, 0.5373059199009915), (3706, 0.2038524624218245), (3707, 0.42595503959828285), (3708, 0.8040074807703947), (3709, 0.13147855014820073), (3710, 0.5267049190476042), (3711, 0.7043042793313414), (3712, 0.30727150565679506), (3713, 0.9258025488242041), (3714, 0.29149286277339803), (3715, 0.46809077396036614), (3716, 0.22359906332596213), (3717, 0.1691327460931872), (3718, 0.12956401823871008), (3719, 0.5774435394444509), (3720, 0.3033790084483862), (3721, 0.5055398515547863), (3722, 0.30727150565679506), (3723, 0.39590252545539845), (3724, 0.1368653969522434), (3725, 0.3082907043434548), (3726, 0.18494066450496752), (3727, 0.769820204749827), (3728, 0.26473753543327366), (3729, 0.5774435394444509), (3730, 0.30727150565679506), (3731, 0.5723659671859165), (3732, 0.19592263977429356), (3733, 0.4591164613639005), (3734, 0.38737320187183427), (3735, 0.1339804769463195), (3736, 0.30727150565679506), (3737, 0.5774435394444509), (3738, 0.1543225237431612), (3739, 0.4591164613639005), (3740, 0.30727150565679506), (3741, 0.8040074807703947), (3742, 0.19942360278492544), (3743, 0.14130588500477448), (3744, 0.31201096671970374), (3745, 0.40581718644558207), (3746, 0.23041109959965103), (3747, 0.28914054734308436), (3748, 0.22359906332596213), (3749, 0.2277845066340535), (3750, 0.1691327460931872), (3751, 0.3082907043434548), (3752, 0.13100453370147502), (3753, 0.172248003771445), (3754, 0.4591164613639005), (3755, 0.4591164613639005), (3756, 1.0000000000000002), (3757, 0.5774435394444509), (3758, 0.17254296125350047), (3759, 0.30727150565679506), (3760, 0.1691327460931872), (3761, 0.26119490088809655), (3762, 0.5774435394444509), (3763, 0.3293444695981306), (3764, 0.15752160674772606), (3765, 0.4591164613639005), (3766, 1.0000000000000002), (3767, 0.3576638379410599), (3768, 0.7375470759529579), (3769, 0.3592694433924497), (3770, 0.5774435394444509), (3771, 0.6346403716990514), (3772, 0.4591164613639005), (3773, 0.12192952638084655), (3774, 0.6706217317165154), (3775, 0.9258025488242041), (3776, 0.3447164220251139), (3777, 1.0000000000000002), (3778, 0.3044315391294435), (3779, 0.5774435394444509), (3780, 0.769820204749827), (3781, 0.5774435394444509), (3782, 0.4283064344424885), (3783, 0.12352111685766987), (3784, 0.3082907043434548), (3785, 0.14957546926195867), (3786, 0.1607743591221443), (3787, 0.31201096671970374), (3788, 0.4630964659918842), (3789, 0.30727150565679506), (3790, 0.12816087067782467), (3791, 0.30727150565679506), (3792, 0.3576638379410599), (3793, 0.4630964659918842), (3794, 0.8040074807703947), (3795, 0.2266517504491562), (3796, 0.2028816862494748), (3797, 0.4733104037758452), (3798, 0.12352111685766987), (3799, 0.2277845066340535), (3800, 0.22359906332596213), (3801, 1.0000000000000002), (3802, 0.3033790084483862), (3803, 0.1339804769463195), (3804, 0.40581718644558207), (3805, 0.11853812865975578), (3806, 0.6706217317165154), (3807, 0.8841088739713499), (3808, 0.22359906332596213), (3809, 0.40581718644558207), (3810, 0.4630964659918842), (3811, 0.4591164613639005), (3812, 0.12816087067782467), (3813, 0.3657767348484995), (3814, 0.5267049190476042), (3815, 0.4630964659918842), (3816, 0.1579588169861995), (3817, 0.1409088165797575), (3818, 0.30727150565679506), (3819, 1.0000000000000002), (3820, 0.30727150565679506), (3821, 0.5774435394444509), (3822, 0.3293444695981306), (3823, 0.4630964659918842), (3824, 0.4630964659918842), (3825, 0.1691327460931872), (3826, 0.32562370813905783), (3827, 0.23584008869096734), (3828, 0.40699644825579906), (3829, 0.40581718644558207), (3830, 0.1691327460931872), (3831, 0.23041109959965103), (3832, 0.4591164613639005), (3833, 0.4630964659918842), (3834, 0.12964980505830329), (3835, 0.25973000988105666), (3836, 0.30727150565679506), (3837, 0.30727150565679506), (3838, 0.1691327460931872), (3839, 0.3576638379410599), (3840, 0.14130588500477448), (3841, 0.769820204749827), (3842, 0.15013270928701225), (3843, 0.1579588169861995), (3844, 0.42174269187594), (3845, 0.25311891209322196), (3846, 0.15411137993676727), (3847, 0.13418467210678842), (3848, 0.5774435394444509), (3849, 0.6975216542850202), (3850, 0.34450803013496983), (3851, 0.22359906332596213), (3852, 0.4630964659918842), (3853, 0.3592694433924497), (3854, 1.0000000000000002), (3855, 0.4591164613639005), (3856, 0.22359906332596213), (3857, 0.5774435394444509), (3858, 0.2028816862494748), (3859, 0.17254296125350047), (3860, 0.8040074807703947), (3861, 0.30727150565679506), (3862, 0.8841088739713499), (3863, 0.5774435394444509), (3864, 0.30727150565679506), (3865, 0.1339804769463195), (3866, 0.3576638379410599), (3867, 0.26857806743842627), (3868, 0.3576638379410599), (3869, 0.14130588500477448), (3870, 0.1238843679566299), (3871, 0.1409088165797575), (3872, 0.23041109959965103), (3873, 0.29149286277339803), (3874, 0.5774435394444509), (3875, 0.3576638379410599), (3876, 0.769820204749827), (3877, 0.3965834797435125), (3878, 0.5774435394444509), (3879, 0.22359906332596213), (3880, 0.35249976392931137), (3881, 0.4630964659918842), (3882, 0.3576638379410599), (3883, 1.0000000000000002), (3884, 0.5774435394444509), (3885, 0.30727150565679506), (3886, 0.3094459538872651), (3887, 0.1691327460931872), (3888, 0.5360475441653118), (3889, 0.24553450999011456), (3890, 0.4591164613639005), (3891, 0.1691327460931872), (3892, 0.3293444695981306), (3893, 0.40581718644558207), (3894, 0.5774435394444509), (3895, 0.26857806743842627), (3896, 0.30727150565679506), (3897, 0.3767693137687599), (3898, 0.40581718644558207), (3899, 0.5774435394444509), (3900, 0.23986653849940837), (3901, 0.5686715595662128), (3902, 0.3044315391294435), (3903, 0.3965834797435125), (3904, 0.40581718644558207), (3905, 0.6718928346490409), (3906, 0.5774435394444509), (3907, 0.31201096671970374), (3908, 0.34450803013496983), (3909, 0.30727150565679506), (3910, 0.769820204749827), (3911, 0.5774435394444509), (3912, 0.30727150565679506), (3913, 0.40581718644558207), (3914, 0.30727150565679506), (3915, 0.40581718644558207), (3916, 0.30727150565679506), (3917, 0.33575478425716265), (3918, 0.1691327460931872), (3919, 0.24553450999011456), (3920, 0.3044315391294435), (3921, 0.30727150565679506), (3922, 0.4591164613639005), (3923, 0.12027375650197368), (3924, 0.5898874798986284), (3925, 0.40581718644558207), (3926, 0.30727150565679506), (3927, 0.23584008869096734), (3928, 0.28058888994388304), (3929, 0.1691327460931872), (3930, 0.30727150565679506), (3931, 0.30727150565679506), (3932, 0.40581718644558207), (3933, 0.22359906332596213), (3934, 0.30727150565679506), (3935, 0.5774435394444509), (3936, 0.22359906332596213), (3937, 0.14130588500477448), (3938, 0.4630964659918842), (3939, 0.5774435394444509), (3940, 0.1666241508970162), (3941, 0.7662010593444261), (3942, 0.4630964659918842), (3943, 0.14837694196736156), (3944, 0.4630964659918842), (3945, 0.5774435394444509), (3946, 0.8040074807703947), (3947, 0.6460088754953779), (3948, 0.1704706783522149), (3949, 0.6718928346490409), (3950, 0.22359906332596213), (3951, 0.3082907043434548), (3952, 0.3576638379410599), (3953, 0.42595503959828285), (3954, 0.40581718644558207), (3955, 0.15851877355284183), (3956, 0.8607077864206123), (3957, 0.4733104037758452), (3958, 0.2779777042354511), (3959, 1.0000000000000002), (3960, 0.4957502148880942), (3961, 1.0000000000000002), (3962, 0.4591164613639005), (3963, 0.11177824108498909), (3964, 0.22359906332596213), (3965, 0.11877422450706457), (3966, 0.31420713206026873), (3967, 0.4591164613639005), (3968, 0.14130588500477448), (3969, 0.30727150565679506), (3970, 0.4630964659918842), (3971, 0.20336414250433205), (3972, 0.14130588500477448), (3973, 0.4591164613639005), (3974, 0.769820204749827), (3975, 0.3592694433924497), (3976, 0.13039438170649992), (3977, 0.14130588500477448), (3978, 0.8841088739713499), (3979, 0.1607743591221443), (3980, 0.12720498879890832), (3981, 0.1691327460931872), (3982, 0.14130588500477448), (3983, 0.35249976392931137), (3984, 0.7662010593444261), (3985, 0.23041109959965103), (3986, 0.5774435394444509), (3987, 0.5774435394444509), (3988, 0.30727150565679506), (3989, 0.4630964659918842), (3990, 0.3657767348484995), (3991, 0.1409088165797575), (3992, 0.7662010593444261), (3993, 0.8040074807703947), (3994, 0.14794007329031442), (3995, 0.4630964659918842), (3996, 0.30727150565679506), (3997, 0.5267049190476042), (3998, 0.14884076262022553), (3999, 0.40581718644558207), (4000, 1.0000000000000002), (4001, 0.23385887808755573), (4002, 0.3044315391294435), (4003, 0.30727150565679506), (4004, 1.0000000000000002), (4005, 0.6346403716990514), (4006, 0.23041109959965103), (4007, 0.6718928346490409), (4008, 0.30727150565679506), (4009, 0.1409088165797575), (4010, 0.14837694196736156), (4011, 0.2998670239757553), (4012, 0.19002061681524599), (4013, 0.769820204749827), (4014, 0.29149286277339803), (4015, 0.2646129863594115), (4016, 0.3965834797435125), (4017, 0.5774435394444509), (4018, 0.22359906332596213), (4019, 0.5774435394444509), (4020, 0.42595503959828285), (4021, 0.22971011708578323), (4022, 0.26119490088809655), (4023, 0.4591164613639005), (4024, 0.2277845066340535), (4025, 0.3576638379410599), (4026, 0.17038021244339496), (4027, 0.15099995909686276), (4028, 0.23041109959965103), (4029, 0.23041109959965103), (4030, 0.5774435394444509), (4031, 0.2028816862494748), (4032, 0.5774435394444509), (4033, 0.7334595797119441), (4034, 0.12325563192382069), (4035, 0.30727150565679506), (4036, 0.27574182097319916), (4037, 0.13721109506064919), (4038, 0.6346403716990514), (4039, 0.5267049190476042), (4040, 0.20336414250433205), (4041, 0.14130588500477448), (4042, 0.5774435394444509), (4043, 0.43404109111602796), (4044, 0.4067582448305178), (4045, 0.6383825828910616), (4046, 0.4360523884611756), (4047, 0.6706217317165154), (4048, 0.8607077864206123), (4049, 0.4591164613639005), (4050, 0.5055398515547863), (4051, 0.3576638379410599), (4052, 0.4591164613639005), (4053, 0.8607077864206123), (4054, 0.2720225199556624), (4055, 0.1607743591221443), (4056, 0.23867071397805087), (4057, 0.1691327460931872), (4058, 0.30727150565679506), (4059, 0.5774435394444509), (4060, 0.7120316658355228), (4061, 0.22359906332596213), (4062, 0.5774435394444509), (4063, 0.14794007329031442), (4064, 0.22359906332596213), (4065, 0.1691327460931872), (4066, 0.2490754051331004), (4067, 0.1691327460931872), (4068, 0.8841088739713499), (4069, 0.3082907043434548), (4070, 0.12352111685766987), (4071, 0.409678406292377), (4072, 0.1691327460931872), (4073, 0.22359906332596213), (4074, 0.3965834797435125), (4075, 0.5774435394444509), (4076, 0.3353704519243936), (4077, 0.14130588500477448), (4078, 0.23041109959965103), (4079, 0.40581718644558207), (4080, 0.40581718644558207), (4081, 0.5774435394444509), (4082, 0.40581718644558207), (4083, 0.5774435394444509), (4084, 0.22359906332596213), (4085, 0.3667002823386262), (4086, 0.1339804769463195), (4087, 0.23986653849940837), (4088, 0.8040074807703947), (4089, 0.769820204749827), (4090, 0.4630964659918842), (4091, 0.31201096671970374), (4092, 0.769820204749827), (4093, 0.577688746972546), (4094, 0.577688746972546), (4095, 0.8841088739713499), (4096, 0.9258025488242041), (4097, 0.30727150565679506), (4098, 0.6346403716990514), (4099, 0.11853812865975578), (4100, 0.15851877355284183), (4101, 0.244468240405529), (4102, 0.4591164613639005), (4103, 0.4283064344424885), (4104, 0.3576638379410599), (4105, 0.6718928346490409), (4106, 0.4630964659918842), (4107, 0.5774435394444509), (4108, 0.20336414250433205), (4109, 0.20336414250433205), (4110, 0.11122973900828269), (4111, 0.4591164613639005), (4112, 0.12558874378392645), (4113, 0.2855207834326321), (4114, 0.17132582101448102), (4115, 0.30727150565679506), (4116, 0.8841088739713499), (4117, 0.3576638379410599), (4118, 0.4636641386938303), (4119, 0.5267049190476042), (4120, 0.4630964659918842), (4121, 0.7430748036499564), (4122, 0.6383825828910616), (4123, 1.0000000000000002), (4124, 1.0000000000000002), (4125, 0.30727150565679506), (4126, 0.5774435394444509), (4127, 0.30727150565679506), (4128, 0.14130588500477448), (4129, 0.5774435394444509), (4130, 0.33575478425716265), (4131, 0.23385887808755573), (4132, 0.4591164613639005), (4133, 0.5686715595662128), (4134, 0.4630964659918842), (4135, 0.2490754051331004), (4136, 0.25321576014001396), (4137, 0.3082907043434548), (4138, 0.40581718644558207), (4139, 0.2595678584515598), (4140, 0.4591164613639005), (4141, 0.5671193506520789), (4142, 0.33575478425716265), (4143, 0.21424721266559527), (4144, 0.14732841469685587), (4145, 0.13951531660357577), (4146, 0.1579588169861995), (4147, 0.4591164613639005), (4148, 0.8040074807703947), (4149, 0.30727150565679506), (4150, 0.23041109959965103), (4151, 0.3044315391294435), (4152, 0.2571021750988782), (4153, 0.14130588500477448), (4154, 0.40031233256108867), (4155, 0.5774435394444509), (4156, 0.3576638379410599), (4157, 0.23041109959965103), (4158, 0.4630964659918842), (4159, 0.23041109959965103), (4160, 0.3038212571040355), (4161, 0.5774435394444509), (4162, 0.6706217317165154), (4163, 0.769820204749827), (4164, 0.9258025488242041), (4165, 0.3247189447150259), (4166, 0.07937427926055521), (4167, 0.1707565841605188), (4168, 0.11682219378854788), (4169, 0.5774435394444509), (4170, 0.13039438170649992), (4171, 0.22236434337959707), (4172, 0.5774435394444509), (4173, 0.14837694196736156), (4174, 0.4591164613639005), (4175, 0.40581718644558207), (4176, 0.769820204749827), (4177, 0.15460715745972428), (4178, 1.0000000000000002), (4179, 0.13039438170649992), (4180, 0.20336414250433205), (4181, 0.14130588500477448), (4182, 0.4591164613639005), (4183, 0.40581718644558207), (4184, 0.30727150565679506), (4185, 0.2779777042354511), (4186, 0.23385887808755573), (4187, 0.8607077864206123), (4188, 0.13830929143241597), (4189, 0.7847345223856955), (4190, 0.2028816862494748), (4191, 0.12816087067782467), (4192, 0.5373898574516885), (4193, 0.3559969100791259), (4194, 0.18494066450496752), (4195, 0.1339804769463195), (4196, 0.1409088165797575), (4197, 0.40581718644558207), (4198, 0.15099995909686276), (4199, 0.12558874378392645), (4200, 0.4591164613639005), (4201, 0.1691327460931872), (4202, 0.24587390161476608), (4203, 0.7662010593444261), (4204, 0.30727150565679506), (4205, 0.3044315391294435), (4206, 0.4591164613639005), (4207, 0.14837694196736156), (4208, 0.6706217317165154), (4209, 0.5774435394444509), (4210, 0.12558874378392645), (4211, 0.4283064344424885), (4212, 0.1691327460931872), (4213, 0.4591164613639005), (4214, 0.30727150565679506), (4215, 0.1691327460931872), (4216, 0.9258025488242041), (4217, 0.15752160674772606), (4218, 0.14136395646137015), (4219, 0.43404109111602796), (4220, 0.5774435394444509), (4221, 0.42595503959828285), (4222, 0.3576638379410599), (4223, 0.22359906332596213), (4224, 0.20749214135139132), (4225, 0.5774435394444509), (4226, 0.20336414250433205), (4227, 0.7375470759529579), (4228, 0.2277845066340535), (4229, 0.26119490088809655), (4230, 0.5774435394444509), (4231, 1.0000000000000002), (4232, 0.8607077864206123), (4233, 0.577688746972546), (4234, 0.15013270928701225), (4235, 0.9258025488242041), (4236, 0.20749214135139132), (4237, 0.14155200280059702), (4238, 0.14130588500477448), (4239, 0.20336414250433205), (4240, 0.3247189447150259), (4241, 0.15863187854618097), (4242, 1.0000000000000002), (4243, 0.40581718644558207), (4244, 0.8841088739713499), (4245, 0.5774435394444509), (4246, 0.7662010593444261), (4247, 0.3082907043434548), (4248, 0.5267049190476042), (4249, 0.6346403716990514), (4250, 0.1370638340429739), (4251, 0.4630964659918842), (4252, 0.22359906332596213), (4253, 0.18536232552710183), (4254, 0.4591164613639005), (4255, 0.4362957329724029), (4256, 0.30727150565679506), (4257, 0.4591164613639005), (4258, 0.30727150565679506), (4259, 0.3293444695981306), (4260, 0.30727150565679506), (4261, 0.43932542539692765), (4262, 0.5774435394444509), (4263, 0.25311891209322196), (4264, 0.2947537324589387), (4265, 0.9258025488242041), (4266, 0.23986653849940837), (4267, 0.5774435394444509), (4268, 0.6341512839347304), (4269, 0.24952683681265078), (4270, 0.12325563192382069), (4271, 0.12334565168973559), (4272, 0.18708521078998225), (4273, 0.5774435394444509), (4274, 0.5267049190476042), (4275, 0.43404109111602796), (4276, 0.15851877355284183), (4277, 0.5774435394444509), (4278, 0.07966723658655649), (4279, 0.21975177990042366), (4280, 0.5774435394444509), (4281, 0.6706217317165154), (4282, 0.38237554658117917), (4283, 0.4107304289062772), (4284, 0.5373059199009915), (4285, 0.32642666854752855), (4286, 0.3044315391294435), (4287, 0.25311891209322196), (4288, 0.8532756552998135), (4289, 0.5346424141802321), (4290, 0.4630964659918842), (4291, 0.30727150565679506), (4292, 0.317340743707742), (4293, 0.6723084070971053), (4294, 0.1607743591221443), (4295, 0.3576638379410599), (4296, 0.5774435394444509), (4297, 0.30727150565679506), (4298, 0.3044315391294435), (4299, 0.5373059199009915), (4300, 0.21885832786238832), (4301, 0.28058888994388304), (4302, 0.14794007329031442), (4303, 0.1339804769463195), (4304, 0.4591164613639005), (4305, 0.30727150565679506), (4306, 0.40581718644558207), (4307, 0.6706217317165154), (4308, 0.4591164613639005), (4309, 0.6131070321933155), (4310, 0.5267049190476042), (4311, 0.3576638379410599), (4312, 0.34450803013496983), (4313, 0.16008222106639874), (4314, 0.2028816862494748), (4315, 0.22359906332596213), (4316, 0.23041109959965103), (4317, 0.30727150565679506), (4318, 0.5774435394444509), (4319, 0.22359906332596213), (4320, 0.40581718644558207), (4321, 0.3576638379410599), (4322, 0.3166076414755141), (4323, 0.13191688212230118), (4324, 0.14155200280059702), (4325, 0.7430748036499564), (4326, 0.5774435394444509), (4327, 0.22359906332596213), (4328, 0.3866449009039665), (4329, 0.30727150565679506), (4330, 0.3657767348484995), (4331, 0.4630964659918842), (4332, 0.30727150565679506), (4333, 0.40581718644558207), (4334, 0.29149286277339803), (4335, 0.30727150565679506), (4336, 0.29172256125015494), (4337, 0.4630964659918842), (4338, 0.14957546926195867), (4339, 0.3767693137687599), (4340, 0.3657767348484995), (4341, 0.1339804769463195), (4342, 0.19471633069021793), (4343, 0.5774435394444509), (4344, 0.4733104037758452), (4345, 0.26478478411239365), (4346, 0.10676026275270302), (4347, 0.1339804769463195), (4348, 0.5774435394444509), (4349, 0.5774435394444509), (4350, 0.40581718644558207), (4351, 0.12392243941718889), (4352, 0.23041109959965103), (4353, 0.23385887808755573), (4354, 0.5774435394444509), (4355, 0.5774435394444509), (4356, 0.4591164613639005), (4357, 0.13720455940456128), (4358, 0.30727150565679506), (4359, 0.5774435394444509), (4360, 0.4630964659918842), (4361, 0.5774435394444509), (4362, 0.769820204749827), (4363, 0.5774435394444509), (4364, 0.13352132291109028), (4365, 0.31420713206026873), (4366, 0.4630964659918842), (4367, 0.30727150565679506), (4368, 0.3044315391294435), (4369, 0.40581718644558207), (4370, 0.30727150565679506), (4371, 0.4591164613639005), (4372, 0.19471633069021793), (4373, 0.15851877355284183), (4374, 1.0000000000000002), (4375, 0.6706217317165154), (4376, 0.5267049190476042), (4377, 0.3592694433924497), (4378, 0.21975177990042366), (4379, 0.7248604787214318), (4380, 0.7043042793313414), (4381, 0.40581718644558207), (4382, 0.4591164613639005), (4383, 0.3767693137687599), (4384, 0.5267049190476042), (4385, 0.23041109959965103), (4386, 0.5774435394444509), (4387, 1.0000000000000002), (4388, 0.30727150565679506), (4389, 0.4630964659918842), (4390, 0.6383825828910616), (4391, 0.29149286277339803), (4392, 0.4067582448305178), (4393, 0.2779777042354511), (4394, 0.2824469353088492), (4395, 0.4591164613639005), (4396, 0.5774435394444509), (4397, 0.5774435394444509), (4398, 0.5774435394444509), (4399, 0.5774435394444509), (4400, 0.3082907043434548), (4401, 0.2571021750988782), (4402, 0.769820204749827), (4403, 0.7847345223856955), (4404, 0.20336414250433205), (4405, 0.18494066450496752), (4406, 0.1764942897342443), (4407, 0.5774435394444509), (4408, 0.22359906332596213), (4409, 0.5774435394444509), (4410, 0.2779777042354511), (4411, 0.40581718644558207), (4412, 0.5686715595662128), (4413, 0.30727150565679506), (4414, 0.23041109959965103), (4415, 0.1691327460931872), (4416, 0.5774435394444509), (4417, 0.1691327460931872), (4418, 0.32562370813905783), (4419, 0.26803277869985076), (4420, 0.31075363466315664), (4421, 0.30727150565679506), (4422, 0.3576638379410599), (4423, 0.5774435394444509), (4424, 0.1691327460931872), (4425, 0.1691327460931872), (4426, 0.42174269187594), (4427, 0.5774435394444509), (4428, 0.3965834797435125), (4429, 0.27698770748760076), (4430, 0.6346403716990514), (4431, 0.769820204749827), (4432, 0.6346403716990514), (4433, 0.17038021244339496), (4434, 0.20336414250433205), (4435, 0.7334595797119441), (4436, 0.8040074807703947), (4437, 0.22359906332596213), (4438, 0.5055398515547863), (4439, 0.11699356661044975), (4440, 0.577688746972546), (4441, 0.4630964659918842), (4442, 0.655690308578482), (4443, 0.6346403716990514), (4444, 0.6346403716990514), (4445, 0.29172256125015494), (4446, 0.2824469353088492), (4447, 0.17680904444007864), (4448, 0.27220916764545056), (4449, 0.23041109959965103), (4450, 0.8040074807703947), (4451, 0.30727150565679506), (4452, 0.30727150565679506), (4453, 0.14884076262022553), (4454, 0.1703363842822038), (4455, 0.12325563192382069), (4456, 0.20749214135139132), (4457, 0.1339804769463195), (4458, 0.40581718644558207), (4459, 0.23041109959965103), (4460, 0.22359906332596213), (4461, 0.5774435394444509), (4462, 0.5267049190476042), (4463, 0.22359906332596213), (4464, 0.43404109111602796), (4465, 0.8607077864206123), (4466, 0.3353704519243936), (4467, 0.15359494732499762), (4468, 0.3767693137687599), (4469, 0.8607077864206123), (4470, 0.769820204749827), (4471, 0.26698480367073396), (4472, 0.29149286277339803), (4473, 0.2824469353088492), (4474, 1.0000000000000002), (4475, 1.0000000000000002), (4476, 0.5774435394444509), (4477, 0.7334595797119441), (4478, 0.14957546926195867), (4479, 0.40581718644558207), (4480, 0.30727150565679506), (4481, 0.8040074807703947), (4482, 0.14957546926195867), (4483, 0.172248003771445), (4484, 0.4591164613639005), (4485, 0.13039438170649992), (4486, 0.577688746972546), (4487, 0.22610738136476732), (4488, 0.4630964659918842), (4489, 0.31075363466315664), (4490, 0.4360523884611756), (4491, 0.20749214135139132), (4492, 0.1339804769463195), (4493, 0.14130588500477448), (4494, 0.5373059199009915), (4495, 0.5774435394444509), (4496, 0.30727150565679506), (4497, 0.5774435394444509), (4498, 0.22359906332596213), (4499, 0.16008222106639874), (4500, 0.22971011708578323), (4501, 0.3038212571040355), (4502, 0.46022901225643364), (4503, 0.7248604787214318), (4504, 0.3082907043434548), (4505, 0.5774435394444509), (4506, 0.30727150565679506), (4507, 0.4591164613639005), (4508, 0.1691327460931872), (4509, 0.1607743591221443), (4510, 0.9258025488242041), (4511, 0.3044315391294435), (4512, 0.9258025488242041), (4513, 0.4630964659918842), (4514, 0.45304627108562595), (4515, 0.6706217317165154), (4516, 0.25092512930727573), (4517, 0.5686715595662128), (4518, 0.4630964659918842), (4519, 0.154295052192017), (4520, 0.3082907043434548), (4521, 0.2277845066340535), (4522, 0.668173214222155), (4523, 0.40023427442266624), (4524, 0.6706217317165154), (4525, 0.23041109959965103), (4526, 0.1409088165797575), (4527, 0.4630964659918842), (4528, 0.29172256125015494), (4529, 0.5774435394444509), (4530, 0.4591164613639005), (4531, 1.0000000000000002), (4532, 0.15304667243394057), (4533, 0.602930992583247), (4534, 0.4067582448305178), (4535, 0.2571021750988782), (4536, 0.2925601067357096), (4537, 0.42174269187594), (4538, 0.23041109959965103), (4539, 0.23041109959965103), (4540, 0.5774435394444509), (4541, 0.1691327460931872), (4542, 0.15883093657515635), (4543, 0.8040074807703947), (4544, 0.5774435394444509), (4545, 0.5774435394444509), (4546, 0.4733104037758452), (4547, 0.1764942897342443), (4548, 0.4630964659918842), (4549, 0.19414865168855144), (4550, 0.33575478425716265), (4551, 0.6341512839347304), (4552, 0.345083014471362), (4553, 0.8040074807703947), (4554, 0.7847345223856955), (4555, 0.2606708472454479), (4556, 0.30727150565679506), (4557, 0.41572376215677864), (4558, 0.30727150565679506), (4559, 0.1579588169861995), (4560, 0.30727150565679506), (4561, 0.1691327460931872), (4562, 0.17755886999618145), (4563, 0.3082907043434548), (4564, 0.18708521078998225), (4565, 0.1666241508970162), (4566, 0.2998670239757553), (4567, 0.5774435394444509), (4568, 0.2779777042354511), (4569, 0.14957546926195867), (4570, 0.1339804769463195), (4571, 0.4591164613639005), (4572, 0.5774435394444509), (4573, 0.42595503959828285), (4574, 0.5774435394444509), (4575, 0.40581718644558207), (4576, 0.769820204749827), (4577, 0.30727150565679506), (4578, 0.1691327460931872), (4579, 0.769820204749827), (4580, 0.15099995909686276), (4581, 0.35815103401442505), (4582, 0.4630964659918842), (4583, 0.23041109959965103), (4584, 0.5774435394444509), (4585, 0.4630964659918842), (4586, 0.3447164220251139), (4587, 0.6706217317165154), (4588, 0.15359494732499762), (4589, 0.33575478425716265), (4590, 0.3619097433969105), (4591, 0.453409753862414), (4592, 0.30727150565679506), (4593, 0.45320442654918003), (4594, 0.26857806743842627), (4595, 0.4630964659918842), (4596, 0.30727150565679506), (4597, 0.2779777042354511), (4598, 0.5774435394444509), (4599, 0.172248003771445), (4600, 0.23385887808755573), (4601, 0.6706217317165154), (4602, 0.5774435394444509), (4603, 0.2824469353088492), (4604, 0.3657767348484995), (4605, 0.40581718644558207), (4606, 0.42595503959828285), (4607, 0.3667002823386262), (4608, 0.42595503959828285), (4609, 0.15070320163922404), (4610, 0.7662010593444261), (4611, 0.35249976392931137), (4612, 0.769820204749827), (4613, 0.1385140848438108), (4614, 0.45320442654918003), (4615, 0.1666241508970162), (4616, 0.5774435394444509), (4617, 0.8607077864206123), (4618, 0.23041109959965103), (4619, 0.7334595797119441), (4620, 0.5774435394444509), (4621, 0.4630964659918842), (4622, 0.1634169981293903), (4623, 0.7375470759529579), (4624, 0.4957502148880942), (4625, 0.40581718644558207), (4626, 0.21282199761409118), (4627, 0.4591164613639005), (4628, 0.22359906332596213), (4629, 0.3619097433969105), (4630, 0.4067582448305178), (4631, 0.23385887808755573), (4632, 0.40581718644558207), (4633, 0.4591164613639005), (4634, 0.5774435394444509), (4635, 0.13131525332088015), (4636, 0.2855207834326321), (4637, 0.7847345223856955), (4638, 0.29149286277339803), (4639, 0.3592694433924497), (4640, 0.3082907043434548), (4641, 0.5774435394444509), (4642, 0.3866449009039665), (4643, 0.23981349497614568), (4644, 0.1691327460931872), (4645, 0.23041109959965103), (4646, 0.4067582448305178), (4647, 0.23385887808755573), (4648, 0.30727150565679506), (4649, 0.42595503959828285), (4650, 0.4591164613639005), (4651, 0.13039438170649992), (4652, 0.3576638379410599), (4653, 0.5267049190476042), (4654, 0.23041109959965103), (4655, 0.30727150565679506), (4656, 0.6383825828910616), (4657, 0.40581718644558207), (4658, 1.0000000000000002), (4659, 0.2779777042354511), (4660, 0.4733104037758452), (4661, 0.6346403716990514), (4662, 0.1579588169861995), (4663, 0.4734015369148378), (4664, 0.43404109111602796), (4665, 0.4630964659918842), (4666, 0.5267049190476042), (4667, 0.30727150565679506), (4668, 0.2768398572587637), (4669, 1.0000000000000002), (4670, 0.4733104037758452), (4671, 0.1691327460931872), (4672, 0.23041109959965103), (4673, 0.8841088739713499), (4674, 0.5686715595662128), (4675, 0.2028816862494748), (4676, 0.10741583313977104), (4677, 0.4733104037758452), (4678, 0.6706217317165154), (4679, 1.0000000000000002), (4680, 0.5774435394444509), (4681, 0.1691327460931872), (4682, 0.2779777042354511), (4683, 0.14794007329031442), (4684, 0.8040074807703947), (4685, 0.5774435394444509), (4686, 0.5774435394444509), (4687, 0.5774435394444509), (4688, 0.22359906332596213), (4689, 0.6706217317165154), (4690, 0.23385887808755573), (4691, 0.43404109111602796), (4692, 0.5774435394444509), (4693, 0.5774435394444509), (4694, 0.5774435394444509), (4695, 0.4630964659918842), (4696, 0.5774435394444509), (4697, 0.3247189447150259), (4698, 0.4067582448305178), (4699, 0.45320442654918003), (4700, 0.15013270928701225), (4701, 0.45320442654918003), (4702, 0.22359906332596213), (4703, 0.4283064344424885), (4704, 0.26698480367073396), (4705, 0.42595503959828285), (4706, 0.4591164613639005), (4707, 0.7732582059147273), (4708, 0.4067582448305178), (4709, 0.8040074807703947), (4710, 0.769820204749827), (4711, 0.2028816862494748), (4712, 0.40581718644558207), (4713, 0.27121684321353084), (4714, 0.1764942897342443), (4715, 0.769820204749827), (4716, 0.19414865168855144), (4717, 0.2824469353088492), (4718, 0.30791356210803467), (4719, 0.3576638379410599), (4720, 0.20336414250433205), (4721, 0.3994455840457396), (4722, 0.8607077864206123), (4723, 0.27698770748760076), (4724, 1.0000000000000002), (4725, 0.14884076262022553), (4726, 0.1385140848438108), (4727, 0.6383825828910616), (4728, 0.1691327460931872), (4729, 0.5774435394444509), (4730, 0.14775402740964116), (4731, 0.769820204749827), (4732, 0.5774435394444509), (4733, 0.453409753862414), (4734, 0.4591164613639005), (4735, 1.0000000000000002), (4736, 0.16008222106639874), (4737, 0.30727150565679506), (4738, 0.22359906332596213), (4739, 0.7334595797119441), (4740, 0.22971011708578323), (4741, 0.21151862953968184), (4742, 0.1607743591221443), (4743, 0.42595503959828285), (4744, 0.4591164613639005), (4745, 0.25372413601828575), (4746, 0.42174269187594), (4747, 0.8040074807703947), (4748, 0.5774435394444509), (4749, 0.5774435394444509), (4750, 0.23041109959965103), (4751, 0.23041109959965103), (4752, 0.21424721266559527), (4753, 0.5774435394444509), (4754, 0.11662827270923572), (4755, 0.23041109959965103), (4756, 0.3293444695981306), (4757, 0.769820204749827), (4758, 0.22971011708578323), (4759, 0.1691327460931872)]\n"
          ]
        }
      ]
    },
    {
      "cell_type": "code",
      "source": [
        "len(Recommendation_Score)"
      ],
      "metadata": {
        "colab": {
          "base_uri": "https://localhost:8080/"
        },
        "id": "5zTBrUnRtxw8",
        "outputId": "bdb6a0e9-a4ed-4a25-80e5-168ecef8f613"
      },
      "execution_count": null,
      "outputs": [
        {
          "output_type": "execute_result",
          "data": {
            "text/plain": [
              "4760"
            ]
          },
          "metadata": {},
          "execution_count": 77
        }
      ]
    },
    {
      "cell_type": "code",
      "source": [
        "# sorting the movies based on their similarity score\n",
        "Sorted_Similar_Movies= sorted(Recommendation_Score, key = lambda x:x[1], reverse= True)\n",
        "print(Sorted_Similar_Movies)"
      ],
      "metadata": {
        "colab": {
          "base_uri": "https://localhost:8080/"
        },
        "id": "UsAcn08IuGZr",
        "outputId": "9c63524e-b0f0-4089-dfad-c914069fd0fb"
      },
      "execution_count": null,
      "outputs": [
        {
          "output_type": "stream",
          "name": "stdout",
          "text": [
            "[(18, 1.0000000000000002), (21, 1.0000000000000002), (112, 1.0000000000000002), (124, 1.0000000000000002), (149, 1.0000000000000002), (166, 1.0000000000000002), (190, 1.0000000000000002), (199, 1.0000000000000002), (276, 1.0000000000000002), (370, 1.0000000000000002), (447, 1.0000000000000002), (450, 1.0000000000000002), (463, 1.0000000000000002), (481, 1.0000000000000002), (502, 1.0000000000000002), (543, 1.0000000000000002), (584, 1.0000000000000002), (604, 1.0000000000000002), (643, 1.0000000000000002), (675, 1.0000000000000002), (799, 1.0000000000000002), (829, 1.0000000000000002), (853, 1.0000000000000002), (860, 1.0000000000000002), (876, 1.0000000000000002), (888, 1.0000000000000002), (942, 1.0000000000000002), (989, 1.0000000000000002), (1107, 1.0000000000000002), (1132, 1.0000000000000002), (1148, 1.0000000000000002), (1275, 1.0000000000000002), (1481, 1.0000000000000002), (1621, 1.0000000000000002), (1739, 1.0000000000000002), (1967, 1.0000000000000002), (1997, 1.0000000000000002), (2037, 1.0000000000000002), (2053, 1.0000000000000002), (2070, 1.0000000000000002), (2096, 1.0000000000000002), (2154, 1.0000000000000002), (2174, 1.0000000000000002), (2196, 1.0000000000000002), (2214, 1.0000000000000002), (2216, 1.0000000000000002), (2334, 1.0000000000000002), (2406, 1.0000000000000002), (2447, 1.0000000000000002), (2602, 1.0000000000000002), (2621, 1.0000000000000002), (2692, 1.0000000000000002), (2784, 1.0000000000000002), (2808, 1.0000000000000002), (2919, 1.0000000000000002), (2961, 1.0000000000000002), (3012, 1.0000000000000002), (3019, 1.0000000000000002), (3043, 1.0000000000000002), (3154, 1.0000000000000002), (3370, 1.0000000000000002), (3483, 1.0000000000000002), (3640, 1.0000000000000002), (3675, 1.0000000000000002), (3699, 1.0000000000000002), (3756, 1.0000000000000002), (3766, 1.0000000000000002), (3777, 1.0000000000000002), (3801, 1.0000000000000002), (3819, 1.0000000000000002), (3854, 1.0000000000000002), (3883, 1.0000000000000002), (3959, 1.0000000000000002), (3961, 1.0000000000000002), (4000, 1.0000000000000002), (4004, 1.0000000000000002), (4123, 1.0000000000000002), (4124, 1.0000000000000002), (4178, 1.0000000000000002), (4231, 1.0000000000000002), (4242, 1.0000000000000002), (4374, 1.0000000000000002), (4387, 1.0000000000000002), (4474, 1.0000000000000002), (4475, 1.0000000000000002), (4531, 1.0000000000000002), (4658, 1.0000000000000002), (4669, 1.0000000000000002), (4679, 1.0000000000000002), (4724, 1.0000000000000002), (4735, 1.0000000000000002), (47, 0.9258025488242041), (70, 0.9258025488242041), (72, 0.9258025488242041), (83, 0.9258025488242041), (89, 0.9258025488242041), (137, 0.9258025488242041), (138, 0.9258025488242041), (207, 0.9258025488242041), (304, 0.9258025488242041), (530, 0.9258025488242041), (1018, 0.9258025488242041), (1058, 0.9258025488242041), (1832, 0.9258025488242041), (3659, 0.9258025488242041), (3713, 0.9258025488242041), (3775, 0.9258025488242041), (4096, 0.9258025488242041), (4164, 0.9258025488242041), (4216, 0.9258025488242041), (4235, 0.9258025488242041), (4265, 0.9258025488242041), (4510, 0.9258025488242041), (4512, 0.9258025488242041), (1232, 0.91515310954445), (2925, 0.91515310954445), (48, 0.8841088739713499), (68, 0.8841088739713499), (210, 0.8841088739713499), (458, 0.8841088739713499), (533, 0.8841088739713499), (534, 0.8841088739713499), (653, 0.8841088739713499), (669, 0.8841088739713499), (673, 0.8841088739713499), (866, 0.8841088739713499), (878, 0.8841088739713499), (947, 0.8841088739713499), (1000, 0.8841088739713499), (1015, 0.8841088739713499), (1035, 0.8841088739713499), (1141, 0.8841088739713499), (1183, 0.8841088739713499), (1335, 0.8841088739713499), (1369, 0.8841088739713499), (1377, 0.8841088739713499), (1417, 0.8841088739713499), (1478, 0.8841088739713499), (1483, 0.8841088739713499), (1678, 0.8841088739713499), (1680, 0.8841088739713499), (1687, 0.8841088739713499), (1740, 0.8841088739713499), (1853, 0.8841088739713499), (2024, 0.8841088739713499), (2040, 0.8841088739713499), (2224, 0.8841088739713499), (2645, 0.8841088739713499), (2668, 0.8841088739713499), (2697, 0.8841088739713499), (2768, 0.8841088739713499), (2795, 0.8841088739713499), (2903, 0.8841088739713499), (2908, 0.8841088739713499), (3210, 0.8841088739713499), (3275, 0.8841088739713499), (3450, 0.8841088739713499), (3642, 0.8841088739713499), (3660, 0.8841088739713499), (3807, 0.8841088739713499), (3862, 0.8841088739713499), (3978, 0.8841088739713499), (4068, 0.8841088739713499), (4095, 0.8841088739713499), (4116, 0.8841088739713499), (4244, 0.8841088739713499), (4673, 0.8841088739713499), (51, 0.8633296093440735), (1237, 0.8633296093440735), (1248, 0.8633296093440735), (1629, 0.8633296093440735), (1942, 0.8633296093440735), (2607, 0.8633296093440735), (3318, 0.8633296093440735), (43, 0.8607077864206123), (96, 0.8607077864206123), (105, 0.8607077864206123), (106, 0.8607077864206123), (108, 0.8607077864206123), (109, 0.8607077864206123), (111, 0.8607077864206123), (126, 0.8607077864206123), (142, 0.8607077864206123), (172, 0.8607077864206123), (173, 0.8607077864206123), (209, 0.8607077864206123), (216, 0.8607077864206123), (254, 0.8607077864206123), (256, 0.8607077864206123), (274, 0.8607077864206123), (280, 0.8607077864206123), (281, 0.8607077864206123), (285, 0.8607077864206123), (287, 0.8607077864206123), (342, 0.8607077864206123), (396, 0.8607077864206123), (485, 0.8607077864206123), (544, 0.8607077864206123), (828, 0.8607077864206123), (874, 0.8607077864206123), (894, 0.8607077864206123), (1264, 0.8607077864206123), (1339, 0.8607077864206123), (1620, 0.8607077864206123), (1754, 0.8607077864206123), (1776, 0.8607077864206123), (1854, 0.8607077864206123), (1874, 0.8607077864206123), (2023, 0.8607077864206123), (2029, 0.8607077864206123), (2080, 0.8607077864206123), (2126, 0.8607077864206123), (2321, 0.8607077864206123), (2346, 0.8607077864206123), (2649, 0.8607077864206123), (2739, 0.8607077864206123), (2752, 0.8607077864206123), (2849, 0.8607077864206123), (3076, 0.8607077864206123), (3095, 0.8607077864206123), (3119, 0.8607077864206123), (3120, 0.8607077864206123), (3293, 0.8607077864206123), (3956, 0.8607077864206123), (4048, 0.8607077864206123), (4053, 0.8607077864206123), (4187, 0.8607077864206123), (4232, 0.8607077864206123), (4465, 0.8607077864206123), (4469, 0.8607077864206123), (4617, 0.8607077864206123), (4722, 0.8607077864206123), (1989, 0.8532756552998135), (4288, 0.8532756552998135), (667, 0.8360032290838819), (678, 0.8360032290838819), (916, 0.8360032290838819), (931, 0.8360032290838819), (1047, 0.8360032290838819), (1300, 0.8360032290838819), (1542, 0.8360032290838819), (1694, 0.8360032290838819), (2336, 0.8360032290838819), (2727, 0.8360032290838819), (2939, 0.8360032290838819), (3652, 0.8360032290838819), (3674, 0.8360032290838819), (1337, 0.8238423462440216), (1119, 0.8183021649040023), (1667, 0.8183021649040023), (2229, 0.8183021649040023), (2295, 0.8183021649040023), (2617, 0.8183021649040023), (3086, 0.8183021649040023), (3437, 0.8183021649040023), (879, 0.806951503211971), (1506, 0.806951503211971), (88, 0.8040074807703947), (170, 0.8040074807703947), (244, 0.8040074807703947), (435, 0.8040074807703947), (500, 0.8040074807703947), (560, 0.8040074807703947), (621, 0.8040074807703947), (668, 0.8040074807703947), (682, 0.8040074807703947), (753, 0.8040074807703947), (825, 0.8040074807703947), (827, 0.8040074807703947), (928, 0.8040074807703947), (1054, 0.8040074807703947), (1092, 0.8040074807703947), (1162, 0.8040074807703947), (1226, 0.8040074807703947), (1259, 0.8040074807703947), (1276, 0.8040074807703947), (1406, 0.8040074807703947), (1419, 0.8040074807703947), (1455, 0.8040074807703947), (1591, 0.8040074807703947), (1681, 0.8040074807703947), (1815, 0.8040074807703947), (1937, 0.8040074807703947), (2206, 0.8040074807703947), (2275, 0.8040074807703947), (2276, 0.8040074807703947), (2383, 0.8040074807703947), (2429, 0.8040074807703947), (2742, 0.8040074807703947), (2751, 0.8040074807703947), (2788, 0.8040074807703947), (2791, 0.8040074807703947), (2918, 0.8040074807703947), (2963, 0.8040074807703947), (3085, 0.8040074807703947), (3312, 0.8040074807703947), (3384, 0.8040074807703947), (3465, 0.8040074807703947), (3466, 0.8040074807703947), (3507, 0.8040074807703947), (3708, 0.8040074807703947), (3741, 0.8040074807703947), (3794, 0.8040074807703947), (3860, 0.8040074807703947), (3946, 0.8040074807703947), (3993, 0.8040074807703947), (4088, 0.8040074807703947), (4148, 0.8040074807703947), (4436, 0.8040074807703947), (4450, 0.8040074807703947), (4481, 0.8040074807703947), (4543, 0.8040074807703947), (4553, 0.8040074807703947), (4684, 0.8040074807703947), (4709, 0.8040074807703947), (4747, 0.8040074807703947), (2412, 0.7854268364702914), (87, 0.7847345223856955), (147, 0.7847345223856955), (236, 0.7847345223856955), (429, 0.7847345223856955), (622, 0.7847345223856955), (652, 0.7847345223856955), (676, 0.7847345223856955), (701, 0.7847345223856955), (870, 0.7847345223856955), (896, 0.7847345223856955), (937, 0.7847345223856955), (1064, 0.7847345223856955), (1303, 0.7847345223856955), (1325, 0.7847345223856955), (1360, 0.7847345223856955), (1509, 0.7847345223856955), (1671, 0.7847345223856955), (1774, 0.7847345223856955), (1983, 0.7847345223856955), (2112, 0.7847345223856955), (2254, 0.7847345223856955), (2638, 0.7847345223856955), (2695, 0.7847345223856955), (2932, 0.7847345223856955), (2996, 0.7847345223856955), (3670, 0.7847345223856955), (3694, 0.7847345223856955), (4189, 0.7847345223856955), (4403, 0.7847345223856955), (4554, 0.7847345223856955), (4637, 0.7847345223856955), (1236, 0.7828280243787114), (1385, 0.7778335661712803), (2522, 0.7778335661712803), (4707, 0.7732582059147273), (3377, 0.7726460271249525), (16, 0.769820204749827), (34, 0.769820204749827), (107, 0.769820204749827), (243, 0.769820204749827), (562, 0.769820204749827), (563, 0.769820204749827), (571, 0.769820204749827), (581, 0.769820204749827), (628, 0.769820204749827), (637, 0.769820204749827), (642, 0.769820204749827), (689, 0.769820204749827), (694, 0.769820204749827), (732, 0.769820204749827), (743, 0.769820204749827), (761, 0.769820204749827), (831, 0.769820204749827), (861, 0.769820204749827), (863, 0.769820204749827), (900, 0.769820204749827), (967, 0.769820204749827), (1030, 0.769820204749827), (1188, 0.769820204749827), (1191, 0.769820204749827), (1383, 0.769820204749827), (1448, 0.769820204749827), (1462, 0.769820204749827), (1865, 0.769820204749827), (1918, 0.769820204749827), (1960, 0.769820204749827), (2069, 0.769820204749827), (2121, 0.769820204749827), (2558, 0.769820204749827), (2580, 0.769820204749827), (2606, 0.769820204749827), (2655, 0.769820204749827), (2716, 0.769820204749827), (2988, 0.769820204749827), (3032, 0.769820204749827), (3035, 0.769820204749827), (3125, 0.769820204749827), (3196, 0.769820204749827), (3228, 0.769820204749827), (3284, 0.769820204749827), (3344, 0.769820204749827), (3435, 0.769820204749827), (3436, 0.769820204749827), (3498, 0.769820204749827), (3499, 0.769820204749827), (3501, 0.769820204749827), (3521, 0.769820204749827), (3618, 0.769820204749827), (3653, 0.769820204749827), (3661, 0.769820204749827), (3696, 0.769820204749827), (3727, 0.769820204749827), (3780, 0.769820204749827), (3841, 0.769820204749827), (3876, 0.769820204749827), (3910, 0.769820204749827), (3974, 0.769820204749827), (4013, 0.769820204749827), (4089, 0.769820204749827), (4092, 0.769820204749827), (4163, 0.769820204749827), (4176, 0.769820204749827), (4362, 0.769820204749827), (4402, 0.769820204749827), (4431, 0.769820204749827), (4470, 0.769820204749827), (4576, 0.769820204749827), (4579, 0.769820204749827), (4612, 0.769820204749827), (4710, 0.769820204749827), (4715, 0.769820204749827), (4731, 0.769820204749827), (4757, 0.769820204749827), (479, 0.7662010593444261), (757, 0.7662010593444261), (939, 0.7662010593444261), (1078, 0.7662010593444261), (1234, 0.7662010593444261), (1582, 0.7662010593444261), (1861, 0.7662010593444261), (1923, 0.7662010593444261), (2076, 0.7662010593444261), (2264, 0.7662010593444261), (2464, 0.7662010593444261), (2546, 0.7662010593444261), (3155, 0.7662010593444261), (3382, 0.7662010593444261), (3418, 0.7662010593444261), (3941, 0.7662010593444261), (3984, 0.7662010593444261), (3992, 0.7662010593444261), (4203, 0.7662010593444261), (4246, 0.7662010593444261), (4610, 0.7662010593444261), (1985, 0.7510659303654675), (532, 0.7430748036499564), (904, 0.7430748036499564), (905, 0.7430748036499564), (1024, 0.7430748036499564), (1292, 0.7430748036499564), (1432, 0.7430748036499564), (1781, 0.7430748036499564), (3070, 0.7430748036499564), (3684, 0.7430748036499564), (4121, 0.7430748036499564), (4325, 0.7430748036499564), (52, 0.7379372233470538), (3317, 0.7379372233470538), (99, 0.7375470759529579), (291, 0.7375470759529579), (1104, 0.7375470759529579), (1343, 0.7375470759529579), (2057, 0.7375470759529579), (2110, 0.7375470759529579), (2871, 0.7375470759529579), (3334, 0.7375470759529579), (3535, 0.7375470759529579), (3768, 0.7375470759529579), (4227, 0.7375470759529579), (4623, 0.7375470759529579), (123, 0.7334595797119441), (683, 0.7334595797119441), (994, 0.7334595797119441), (1005, 0.7334595797119441), (1290, 0.7334595797119441), (1338, 0.7334595797119441), (1527, 0.7334595797119441), (1736, 0.7334595797119441), (2625, 0.7334595797119441), (3306, 0.7334595797119441), (4033, 0.7334595797119441), (4435, 0.7334595797119441), (4477, 0.7334595797119441), (4619, 0.7334595797119441), (4739, 0.7334595797119441), (2771, 0.7320124966083728), (1061, 0.7262588564160934), (2978, 0.7262588564160934), (542, 0.7248604787214318), (1017, 0.7248604787214318), (1252, 0.7248604787214318), (1665, 0.7248604787214318), (1796, 0.7248604787214318), (2210, 0.7248604787214318), (2910, 0.7248604787214318), (4379, 0.7248604787214318), (4503, 0.7248604787214318), (1184, 0.7132756155289268), (3403, 0.7132756155289268), (408, 0.7120316658355228), (547, 0.7120316658355228), (1053, 0.7120316658355228), (1858, 0.7120316658355228), (2489, 0.7120316658355228), (3407, 0.7120316658355228), (4060, 0.7120316658355228), (1716, 0.7115528171529892), (144, 0.704985672625155), (145, 0.7043042793313414), (360, 0.7043042793313414), (695, 0.7043042793313414), (790, 0.7043042793313414), (801, 0.7043042793313414), (976, 0.7043042793313414), (1068, 0.7043042793313414), (1958, 0.7043042793313414), (2119, 0.7043042793313414), (2235, 0.7043042793313414), (2524, 0.7043042793313414), (3110, 0.7043042793313414), (3504, 0.7043042793313414), (3711, 0.7043042793313414), (4380, 0.7043042793313414), (201, 0.6975216542850202), (501, 0.6975216542850202), (692, 0.6975216542850202), (875, 0.6975216542850202), (1063, 0.6975216542850202), (1185, 0.6975216542850202), (1412, 0.6975216542850202), (1436, 0.6975216542850202), (1789, 0.6975216542850202), (2066, 0.6975216542850202), (3849, 0.6975216542850202), (1992, 0.689667712718292), (2284, 0.689667712718292), (986, 0.6874969011292323), (1471, 0.6874969011292323), (1595, 0.6872454807923735), (1224, 0.6793065611941891), (1513, 0.6723084070971053), (1727, 0.6723084070971053), (3097, 0.6723084070971053), (3267, 0.6723084070971053), (4293, 0.6723084070971053), (0, 0.6718928346490409), (42, 0.6718928346490409), (50, 0.6718928346490409), (503, 0.6718928346490409), (664, 0.6718928346490409), (862, 0.6718928346490409), (1213, 0.6718928346490409), (1260, 0.6718928346490409), (1282, 0.6718928346490409), (1330, 0.6718928346490409), (1344, 0.6718928346490409), (1371, 0.6718928346490409), (1461, 0.6718928346490409), (1507, 0.6718928346490409), (1981, 0.6718928346490409), (1986, 0.6718928346490409), (2158, 0.6718928346490409), (2228, 0.6718928346490409), (2304, 0.6718928346490409), (2487, 0.6718928346490409), (2635, 0.6718928346490409), (2833, 0.6718928346490409), (2948, 0.6718928346490409), (2994, 0.6718928346490409), (3127, 0.6718928346490409), (3149, 0.6718928346490409), (3508, 0.6718928346490409), (3570, 0.6718928346490409), (3905, 0.6718928346490409), (3949, 0.6718928346490409), (4007, 0.6718928346490409), (4105, 0.6718928346490409), (148, 0.6713724460827621), (334, 0.6713724460827621), (685, 0.6706217317165154), (1181, 0.6706217317165154), (1435, 0.6706217317165154), (1910, 0.6706217317165154), (2084, 0.6706217317165154), (2252, 0.6706217317165154), (2700, 0.6706217317165154), (3049, 0.6706217317165154), (3117, 0.6706217317165154), (3774, 0.6706217317165154), (3806, 0.6706217317165154), (4047, 0.6706217317165154), (4162, 0.6706217317165154), (4208, 0.6706217317165154), (4281, 0.6706217317165154), (4307, 0.6706217317165154), (4375, 0.6706217317165154), (4515, 0.6706217317165154), (4524, 0.6706217317165154), (4587, 0.6706217317165154), (4601, 0.6706217317165154), (4678, 0.6706217317165154), (4689, 0.6706217317165154), (923, 0.668173214222155), (1488, 0.668173214222155), (1902, 0.668173214222155), (2348, 0.668173214222155), (3349, 0.668173214222155), (3571, 0.668173214222155), (4522, 0.668173214222155), (558, 0.6668339314631981), (3637, 0.6663154977057076), (120, 0.6657074209466027), (2486, 0.6622583088160293), (3416, 0.6577983726942829), (417, 0.6566099254452886), (418, 0.6566099254452886), (842, 0.6566099254452886), (1115, 0.6566099254452886), (1173, 0.6566099254452886), (2093, 0.6566099254452886), (3232, 0.6566099254452886), (3582, 0.6566099254452886), (1317, 0.655690308578482), (1821, 0.655690308578482), (4442, 0.655690308578482), (206, 0.6491998009149268), (483, 0.6491998009149268), (2512, 0.6476717774762546), (654, 0.6460088754953779), (1314, 0.6460088754953779), (1949, 0.6460088754953779), (2780, 0.6460088754953779), (3947, 0.6460088754953779), (10, 0.6383825828910616), (143, 0.6383825828910616), (1076, 0.6383825828910616), (1393, 0.6383825828910616), (1504, 0.6383825828910616), (1540, 0.6383825828910616), (2184, 0.6383825828910616), (2815, 0.6383825828910616), (4045, 0.6383825828910616), (4122, 0.6383825828910616), (4390, 0.6383825828910616), (4656, 0.6383825828910616), (4727, 0.6383825828910616), (988, 0.6375435177933285), (2212, 0.6348171697915972), (44, 0.6346403716990514), (442, 0.6346403716990514), (470, 0.6346403716990514), (670, 0.6346403716990514), (688, 0.6346403716990514), (728, 0.6346403716990514), (845, 0.6346403716990514), (868, 0.6346403716990514), (1174, 0.6346403716990514), (1257, 0.6346403716990514), (1442, 0.6346403716990514), (1454, 0.6346403716990514), (1484, 0.6346403716990514), (1876, 0.6346403716990514), (2088, 0.6346403716990514), (2188, 0.6346403716990514), (2459, 0.6346403716990514), (2778, 0.6346403716990514), (2840, 0.6346403716990514), (2854, 0.6346403716990514), (3227, 0.6346403716990514), (3556, 0.6346403716990514), (3680, 0.6346403716990514), (3771, 0.6346403716990514), (4005, 0.6346403716990514), (4038, 0.6346403716990514), (4098, 0.6346403716990514), (4249, 0.6346403716990514), (4430, 0.6346403716990514), (4432, 0.6346403716990514), (4443, 0.6346403716990514), (4444, 0.6346403716990514), (4661, 0.6346403716990514), (251, 0.6341512839347304), (270, 0.6341512839347304), (806, 0.6341512839347304), (816, 0.6341512839347304), (864, 0.6341512839347304), (1334, 0.6341512839347304), (2097, 0.6341512839347304), (2250, 0.6341512839347304), (3171, 0.6341512839347304), (4268, 0.6341512839347304), (4551, 0.6341512839347304), (1440, 0.627531961545164), (255, 0.6131070321933155), (356, 0.6131070321933155), (406, 0.6131070321933155), (930, 0.6131070321933155), (1421, 0.6131070321933155), (1472, 0.6131070321933155), (1845, 0.6131070321933155), (1866, 0.6131070321933155), (4309, 0.6131070321933155), (1348, 0.6131040858780553), (3553, 0.6125049220161798), (1970, 0.6099880806643851), (3118, 0.6099880806643851), (760, 0.6035557466692558), (3342, 0.602930992583247), (3638, 0.602930992583247), (4533, 0.602930992583247), (2280, 0.6021347898966749), (792, 0.5898874798986284), (1922, 0.5898874798986284), (3612, 0.5898874798986284), (3924, 0.5898874798986284), (333, 0.5898435522384278), (1137, 0.5898435522384278), (1230, 0.5898435522384278), (3045, 0.5898435522384278), (1572, 0.5879387810257914), (915, 0.5867569026003305), (3099, 0.5867569026003305), (5, 0.5843839857047233), (566, 0.5843839857047233), (2279, 0.5843839857047233), (2934, 0.5843839857047233), (3374, 0.5827303378243531), (38, 0.577688746972546), (40, 0.577688746972546), (139, 0.577688746972546), (494, 0.577688746972546), (869, 0.577688746972546), (1214, 0.577688746972546), (1544, 0.577688746972546), (1721, 0.577688746972546), (1735, 0.577688746972546), (1847, 0.577688746972546), (1973, 0.577688746972546), (2077, 0.577688746972546), (2363, 0.577688746972546), (2424, 0.577688746972546), (2581, 0.577688746972546), (2600, 0.577688746972546), (2825, 0.577688746972546), (2913, 0.577688746972546), (2962, 0.577688746972546), (2971, 0.577688746972546), (3192, 0.577688746972546), (3259, 0.577688746972546), (3531, 0.577688746972546), (3658, 0.577688746972546), (4093, 0.577688746972546), (4094, 0.577688746972546), (4233, 0.577688746972546), (4440, 0.577688746972546), (4486, 0.577688746972546), (4, 0.5774435394444509), (20, 0.5774435394444509), (24, 0.5774435394444509), (26, 0.5774435394444509), (66, 0.5774435394444509), (98, 0.5774435394444509), (140, 0.5774435394444509), (154, 0.5774435394444509), (164, 0.5774435394444509), (167, 0.5774435394444509), (176, 0.5774435394444509), (196, 0.5774435394444509), (203, 0.5774435394444509), (213, 0.5774435394444509), (226, 0.5774435394444509), (229, 0.5774435394444509), (235, 0.5774435394444509), (249, 0.5774435394444509), (262, 0.5774435394444509), (268, 0.5774435394444509), (293, 0.5774435394444509), (308, 0.5774435394444509), (317, 0.5774435394444509), (324, 0.5774435394444509), (395, 0.5774435394444509), (399, 0.5774435394444509), (402, 0.5774435394444509), (412, 0.5774435394444509), (432, 0.5774435394444509), (444, 0.5774435394444509), (445, 0.5774435394444509), (446, 0.5774435394444509), (449, 0.5774435394444509), (466, 0.5774435394444509), (476, 0.5774435394444509), (478, 0.5774435394444509), (499, 0.5774435394444509), (518, 0.5774435394444509), (526, 0.5774435394444509), (527, 0.5774435394444509), (541, 0.5774435394444509), (597, 0.5774435394444509), (611, 0.5774435394444509), (620, 0.5774435394444509), (624, 0.5774435394444509), (645, 0.5774435394444509), (647, 0.5774435394444509), (680, 0.5774435394444509), (706, 0.5774435394444509), (717, 0.5774435394444509), (731, 0.5774435394444509), (766, 0.5774435394444509), (767, 0.5774435394444509), (777, 0.5774435394444509), (782, 0.5774435394444509), (791, 0.5774435394444509), (805, 0.5774435394444509), (817, 0.5774435394444509), (823, 0.5774435394444509), (889, 0.5774435394444509), (895, 0.5774435394444509), (899, 0.5774435394444509), (901, 0.5774435394444509), (917, 0.5774435394444509), (922, 0.5774435394444509), (949, 0.5774435394444509), (987, 0.5774435394444509), (993, 0.5774435394444509), (1004, 0.5774435394444509), (1019, 0.5774435394444509), (1032, 0.5774435394444509), (1033, 0.5774435394444509), (1036, 0.5774435394444509), (1037, 0.5774435394444509), (1042, 0.5774435394444509), (1048, 0.5774435394444509), (1059, 0.5774435394444509), (1072, 0.5774435394444509), (1098, 0.5774435394444509), (1110, 0.5774435394444509), (1121, 0.5774435394444509), (1144, 0.5774435394444509), (1168, 0.5774435394444509), (1294, 0.5774435394444509), (1319, 0.5774435394444509), (1355, 0.5774435394444509), (1402, 0.5774435394444509), (1404, 0.5774435394444509), (1416, 0.5774435394444509), (1434, 0.5774435394444509), (1439, 0.5774435394444509), (1450, 0.5774435394444509), (1456, 0.5774435394444509), (1464, 0.5774435394444509), (1497, 0.5774435394444509), (1499, 0.5774435394444509), (1500, 0.5774435394444509), (1538, 0.5774435394444509), (1550, 0.5774435394444509), (1553, 0.5774435394444509), (1574, 0.5774435394444509), (1593, 0.5774435394444509), (1617, 0.5774435394444509), (1625, 0.5774435394444509), (1641, 0.5774435394444509), (1670, 0.5774435394444509), (1672, 0.5774435394444509), (1691, 0.5774435394444509), (1712, 0.5774435394444509), (1742, 0.5774435394444509), (1793, 0.5774435394444509), (1801, 0.5774435394444509), (1805, 0.5774435394444509), (1807, 0.5774435394444509), (1814, 0.5774435394444509), (1826, 0.5774435394444509), (1831, 0.5774435394444509), (1843, 0.5774435394444509), (1862, 0.5774435394444509), (1872, 0.5774435394444509), (1887, 0.5774435394444509), (1890, 0.5774435394444509), (1921, 0.5774435394444509), (1959, 0.5774435394444509), (2047, 0.5774435394444509), (2072, 0.5774435394444509), (2109, 0.5774435394444509), (2123, 0.5774435394444509), (2129, 0.5774435394444509), (2133, 0.5774435394444509), (2141, 0.5774435394444509), (2142, 0.5774435394444509), (2163, 0.5774435394444509), (2173, 0.5774435394444509), (2189, 0.5774435394444509), (2190, 0.5774435394444509), (2213, 0.5774435394444509), (2268, 0.5774435394444509), (2288, 0.5774435394444509), (2293, 0.5774435394444509), (2299, 0.5774435394444509), (2306, 0.5774435394444509), (2310, 0.5774435394444509), (2317, 0.5774435394444509), (2323, 0.5774435394444509), (2354, 0.5774435394444509), (2370, 0.5774435394444509), (2392, 0.5774435394444509), (2401, 0.5774435394444509), (2416, 0.5774435394444509), (2417, 0.5774435394444509), (2418, 0.5774435394444509), (2419, 0.5774435394444509), (2425, 0.5774435394444509), (2454, 0.5774435394444509), (2463, 0.5774435394444509), (2481, 0.5774435394444509), (2525, 0.5774435394444509), (2533, 0.5774435394444509), (2545, 0.5774435394444509), (2552, 0.5774435394444509), (2557, 0.5774435394444509), (2565, 0.5774435394444509), (2572, 0.5774435394444509), (2585, 0.5774435394444509), (2613, 0.5774435394444509), (2624, 0.5774435394444509), (2628, 0.5774435394444509), (2636, 0.5774435394444509), (2651, 0.5774435394444509), (2673, 0.5774435394444509), (2679, 0.5774435394444509), (2694, 0.5774435394444509), (2723, 0.5774435394444509), (2735, 0.5774435394444509), (2753, 0.5774435394444509), (2757, 0.5774435394444509), (2760, 0.5774435394444509), (2765, 0.5774435394444509), (2783, 0.5774435394444509), (2792, 0.5774435394444509), (2841, 0.5774435394444509), (2853, 0.5774435394444509), (2861, 0.5774435394444509), (2900, 0.5774435394444509), (2902, 0.5774435394444509), (2909, 0.5774435394444509), (2923, 0.5774435394444509), (2936, 0.5774435394444509), (2942, 0.5774435394444509), (2953, 0.5774435394444509), (2957, 0.5774435394444509), (2964, 0.5774435394444509), (2985, 0.5774435394444509), (2987, 0.5774435394444509), (2993, 0.5774435394444509), (2997, 0.5774435394444509), (3000, 0.5774435394444509), (3007, 0.5774435394444509), (3010, 0.5774435394444509), (3031, 0.5774435394444509), (3052, 0.5774435394444509), (3055, 0.5774435394444509), (3057, 0.5774435394444509), (3069, 0.5774435394444509), (3101, 0.5774435394444509), (3128, 0.5774435394444509), (3157, 0.5774435394444509), (3159, 0.5774435394444509), (3167, 0.5774435394444509), (3173, 0.5774435394444509), (3186, 0.5774435394444509), (3211, 0.5774435394444509), (3216, 0.5774435394444509), (3226, 0.5774435394444509), (3230, 0.5774435394444509), (3240, 0.5774435394444509), (3242, 0.5774435394444509), (3243, 0.5774435394444509), (3252, 0.5774435394444509), (3269, 0.5774435394444509), (3292, 0.5774435394444509), (3299, 0.5774435394444509), (3307, 0.5774435394444509), (3313, 0.5774435394444509), (3322, 0.5774435394444509), (3341, 0.5774435394444509), (3354, 0.5774435394444509), (3358, 0.5774435394444509), (3362, 0.5774435394444509), (3369, 0.5774435394444509), (3372, 0.5774435394444509), (3376, 0.5774435394444509), (3381, 0.5774435394444509), (3390, 0.5774435394444509), (3392, 0.5774435394444509), (3396, 0.5774435394444509), (3412, 0.5774435394444509), (3414, 0.5774435394444509), (3423, 0.5774435394444509), (3431, 0.5774435394444509), (3455, 0.5774435394444509), (3458, 0.5774435394444509), (3478, 0.5774435394444509), (3497, 0.5774435394444509), (3523, 0.5774435394444509), (3534, 0.5774435394444509), (3536, 0.5774435394444509), (3540, 0.5774435394444509), (3548, 0.5774435394444509), (3561, 0.5774435394444509), (3596, 0.5774435394444509), (3608, 0.5774435394444509), (3611, 0.5774435394444509), (3615, 0.5774435394444509), (3627, 0.5774435394444509), (3636, 0.5774435394444509), (3647, 0.5774435394444509), (3651, 0.5774435394444509), (3656, 0.5774435394444509), (3672, 0.5774435394444509), (3687, 0.5774435394444509), (3691, 0.5774435394444509), (3701, 0.5774435394444509), (3719, 0.5774435394444509), (3729, 0.5774435394444509), (3737, 0.5774435394444509), (3757, 0.5774435394444509), (3762, 0.5774435394444509), (3770, 0.5774435394444509), (3779, 0.5774435394444509), (3781, 0.5774435394444509), (3821, 0.5774435394444509), (3848, 0.5774435394444509), (3857, 0.5774435394444509), (3863, 0.5774435394444509), (3874, 0.5774435394444509), (3878, 0.5774435394444509), (3884, 0.5774435394444509), (3894, 0.5774435394444509), (3899, 0.5774435394444509), (3906, 0.5774435394444509), (3911, 0.5774435394444509), (3935, 0.5774435394444509), (3939, 0.5774435394444509), (3945, 0.5774435394444509), (3986, 0.5774435394444509), (3987, 0.5774435394444509), (4017, 0.5774435394444509), (4019, 0.5774435394444509), (4030, 0.5774435394444509), (4032, 0.5774435394444509), (4042, 0.5774435394444509), (4059, 0.5774435394444509), (4062, 0.5774435394444509), (4075, 0.5774435394444509), (4081, 0.5774435394444509), (4083, 0.5774435394444509), (4107, 0.5774435394444509), (4126, 0.5774435394444509), (4129, 0.5774435394444509), (4155, 0.5774435394444509), (4161, 0.5774435394444509), (4169, 0.5774435394444509), (4172, 0.5774435394444509), (4209, 0.5774435394444509), (4220, 0.5774435394444509), (4225, 0.5774435394444509), (4230, 0.5774435394444509), (4245, 0.5774435394444509), (4262, 0.5774435394444509), (4267, 0.5774435394444509), (4273, 0.5774435394444509), (4277, 0.5774435394444509), (4280, 0.5774435394444509), (4296, 0.5774435394444509), (4318, 0.5774435394444509), (4326, 0.5774435394444509), (4343, 0.5774435394444509), (4348, 0.5774435394444509), (4349, 0.5774435394444509), (4354, 0.5774435394444509), (4355, 0.5774435394444509), (4359, 0.5774435394444509), (4361, 0.5774435394444509), (4363, 0.5774435394444509), (4386, 0.5774435394444509), (4396, 0.5774435394444509), (4397, 0.5774435394444509), (4398, 0.5774435394444509), (4399, 0.5774435394444509), (4407, 0.5774435394444509), (4409, 0.5774435394444509), (4416, 0.5774435394444509), (4423, 0.5774435394444509), (4427, 0.5774435394444509), (4461, 0.5774435394444509), (4476, 0.5774435394444509), (4495, 0.5774435394444509), (4497, 0.5774435394444509), (4505, 0.5774435394444509), (4529, 0.5774435394444509), (4540, 0.5774435394444509), (4544, 0.5774435394444509), (4545, 0.5774435394444509), (4567, 0.5774435394444509), (4572, 0.5774435394444509), (4574, 0.5774435394444509), (4584, 0.5774435394444509), (4598, 0.5774435394444509), (4602, 0.5774435394444509), (4616, 0.5774435394444509), (4620, 0.5774435394444509), (4634, 0.5774435394444509), (4641, 0.5774435394444509), (4680, 0.5774435394444509), (4685, 0.5774435394444509), (4686, 0.5774435394444509), (4687, 0.5774435394444509), (4692, 0.5774435394444509), (4693, 0.5774435394444509), (4694, 0.5774435394444509), (4696, 0.5774435394444509), (4729, 0.5774435394444509), (4732, 0.5774435394444509), (4748, 0.5774435394444509), (4749, 0.5774435394444509), (4753, 0.5774435394444509), (350, 0.5739861797454447), (3514, 0.5739861797454447), (1116, 0.5723659671859165), (3280, 0.5723659671859165), (3731, 0.5723659671859165), (222, 0.5686715595662128), (968, 0.5686715595662128), (1041, 0.5686715595662128), (1192, 0.5686715595662128), (1202, 0.5686715595662128), (1351, 0.5686715595662128), (1555, 0.5686715595662128), (1643, 0.5686715595662128), (2031, 0.5686715595662128), (2255, 0.5686715595662128), (3195, 0.5686715595662128), (3433, 0.5686715595662128), (3471, 0.5686715595662128), (3474, 0.5686715595662128), (3487, 0.5686715595662128), (3666, 0.5686715595662128), (3901, 0.5686715595662128), (4133, 0.5686715595662128), (4412, 0.5686715595662128), (4517, 0.5686715595662128), (4674, 0.5686715595662128), (2886, 0.5671193506520789), (4141, 0.5671193506520789), (1074, 0.5644793667461723), (86, 0.5615838293282571), (474, 0.5615838293282571), (1585, 0.5615838293282571), (1806, 0.5615838293282571), (1816, 0.5615838293282571), (2026, 0.5615838293282571), (2519, 0.5615838293282571), (2897, 0.5615838293282571), (1489, 0.5579081625137269), (851, 0.5559641747963838), (1194, 0.5538682521915437), (1231, 0.5538682521915437), (1738, 0.5538682521915437), (918, 0.5437157036674519), (1128, 0.5409376158501148), (2055, 0.5386932597465466), (1065, 0.5379389656746906), (629, 0.5376681143414468), (4192, 0.5373898574516885), (200, 0.5373059199009915), (329, 0.5373059199009915), (433, 0.5373059199009915), (436, 0.5373059199009915), (443, 0.5373059199009915), (482, 0.5373059199009915), (636, 0.5373059199009915), (742, 0.5373059199009915), (808, 0.5373059199009915), (832, 0.5373059199009915), (910, 0.5373059199009915), (980, 0.5373059199009915), (1071, 0.5373059199009915), (1255, 0.5373059199009915), (1356, 0.5373059199009915), (1375, 0.5373059199009915), (1429, 0.5373059199009915), (1519, 0.5373059199009915), (1779, 0.5373059199009915), (1811, 0.5373059199009915), (1892, 0.5373059199009915), (1924, 0.5373059199009915), (1964, 0.5373059199009915), (2008, 0.5373059199009915), (2089, 0.5373059199009915), (2191, 0.5373059199009915), (2374, 0.5373059199009915), (2477, 0.5373059199009915), (2598, 0.5373059199009915), (2632, 0.5373059199009915), (2879, 0.5373059199009915), (2917, 0.5373059199009915), (2981, 0.5373059199009915), (3153, 0.5373059199009915), (3325, 0.5373059199009915), (3460, 0.5373059199009915), (3704, 0.5373059199009915), (3705, 0.5373059199009915), (4284, 0.5373059199009915), (4299, 0.5373059199009915), (4494, 0.5373059199009915), (3888, 0.5360475441653118), (539, 0.5346424141802321), (1945, 0.5346424141802321), (3597, 0.5346424141802321), (4289, 0.5346424141802321), (2178, 0.5310540129539911), (208, 0.5310261898743222), (519, 0.5310261898743222), (716, 0.5310261898743222), (911, 0.5310261898743222), (1001, 0.5310261898743222), (1179, 0.5310261898743222), (1225, 0.5310261898743222), (1675, 0.5310261898743222), (1931, 0.5310261898743222), (1934, 0.5310261898743222), (2045, 0.5310261898743222), (2427, 0.5310261898743222), (2428, 0.5310261898743222), (2555, 0.5310261898743222), (2647, 0.5310261898743222), (3065, 0.5310261898743222), (3635, 0.5310261898743222), (684, 0.5306860349019304), (1438, 0.5306860349019304), (2162, 0.5281913747410142), (311, 0.5274002381010251), (233, 0.5267049190476042), (512, 0.5267049190476042), (513, 0.5267049190476042), (514, 0.5267049190476042), (595, 0.5267049190476042), (723, 0.5267049190476042), (738, 0.5267049190476042), (803, 0.5267049190476042), (809, 0.5267049190476042), (974, 0.5267049190476042), (1127, 0.5267049190476042), (1384, 0.5267049190476042), (1443, 0.5267049190476042), (1576, 0.5267049190476042), (1659, 0.5267049190476042), (1749, 0.5267049190476042), (2197, 0.5267049190476042), (2476, 0.5267049190476042), (2576, 0.5267049190476042), (2947, 0.5267049190476042), (3143, 0.5267049190476042), (3185, 0.5267049190476042), (3213, 0.5267049190476042), (3263, 0.5267049190476042), (3339, 0.5267049190476042), (3429, 0.5267049190476042), (3438, 0.5267049190476042), (3451, 0.5267049190476042), (3588, 0.5267049190476042), (3602, 0.5267049190476042), (3710, 0.5267049190476042), (3814, 0.5267049190476042), (3997, 0.5267049190476042), (4039, 0.5267049190476042), (4119, 0.5267049190476042), (4248, 0.5267049190476042), (4274, 0.5267049190476042), (4310, 0.5267049190476042), (4376, 0.5267049190476042), (4384, 0.5267049190476042), (4462, 0.5267049190476042), (4653, 0.5267049190476042), (4666, 0.5267049190476042), (3142, 0.5265446363222682), (1387, 0.5215573891916054), (2016, 0.5215573891916054), (608, 0.5182179256267836), (2318, 0.5147789952058865), (515, 0.5136143592984428), (238, 0.5104283305674082), (3112, 0.5063973393234065), (2328, 0.5055398515547863), (3721, 0.5055398515547863), (4050, 0.5055398515547863), (4438, 0.5055398515547863), (795, 0.5030167105041878), (948, 0.5030167105041878), (2874, 0.5025081407437699), (3245, 0.5025081407437699), (1674, 0.49926223431627714), (3108, 0.49898537118682296), (180, 0.4985119092444133), (181, 0.4985119092444133), (1567, 0.497449500523525), (1987, 0.497449500523525), (2444, 0.497449500523525), (1220, 0.49597815622800423), (1819, 0.49597815622800423), (371, 0.4957502148880942), (590, 0.4957502148880942), (1123, 0.4957502148880942), (3624, 0.4957502148880942), (3960, 0.4957502148880942), (4624, 0.4957502148880942), (241, 0.4956782668177194), (775, 0.4956782668177194), (1971, 0.4942620398997659), (493, 0.4845789163360197), (296, 0.48454509986888894), (719, 0.48454509986888894), (727, 0.48454509986888894), (729, 0.48454509986888894), (1138, 0.48454509986888894), (1229, 0.48454509986888894), (2881, 0.48454509986888894), (660, 0.47475552534576915), (1897, 0.47475552534576915), (1537, 0.4739375769385006), (1009, 0.4736216531563412), (1215, 0.4736216531563412), (2104, 0.4736216531563412), (4663, 0.4734015369148378), (31, 0.4733104037758452), (769, 0.4733104037758452), (1433, 0.4733104037758452), (1608, 0.4733104037758452), (2355, 0.4733104037758452), (2724, 0.4733104037758452), (3233, 0.4733104037758452), (3331, 0.4733104037758452), (3452, 0.4733104037758452), (3797, 0.4733104037758452), (3957, 0.4733104037758452), (4344, 0.4733104037758452), (4546, 0.4733104037758452), (4660, 0.4733104037758452), (4670, 0.4733104037758452), (4677, 0.4733104037758452), (2075, 0.4704068890948624), (687, 0.46809077396036614), (690, 0.46809077396036614), (996, 0.46809077396036614), (1941, 0.46809077396036614), (2012, 0.46809077396036614), (2468, 0.46809077396036614), (2626, 0.46809077396036614), (2787, 0.46809077396036614), (2820, 0.46809077396036614), (3443, 0.46809077396036614), (3715, 0.46809077396036614), (1320, 0.4679539367119162), (3464, 0.4679539367119162), (1160, 0.46389843560433514), (345, 0.4636641386938303), (4118, 0.4636641386938303), (240, 0.4630964659918842), (313, 0.4630964659918842), (354, 0.4630964659918842), (420, 0.4630964659918842), (559, 0.4630964659918842), (634, 0.4630964659918842), (855, 0.4630964659918842), (893, 0.4630964659918842), (1158, 0.4630964659918842), (1167, 0.4630964659918842), (1270, 0.4630964659918842), (1279, 0.4630964659918842), (1347, 0.4630964659918842), (1395, 0.4630964659918842), (1407, 0.4630964659918842), (1426, 0.4630964659918842), (1428, 0.4630964659918842), (1430, 0.4630964659918842), (1431, 0.4630964659918842), (1449, 0.4630964659918842), (1451, 0.4630964659918842), (1452, 0.4630964659918842), (1480, 0.4630964659918842), (1493, 0.4630964659918842), (1531, 0.4630964659918842), (1551, 0.4630964659918842), (1559, 0.4630964659918842), (1562, 0.4630964659918842), (1568, 0.4630964659918842), (1573, 0.4630964659918842), (1588, 0.4630964659918842), (1630, 0.4630964659918842), (1631, 0.4630964659918842), (1632, 0.4630964659918842), (1635, 0.4630964659918842), (1661, 0.4630964659918842), (1699, 0.4630964659918842), (1723, 0.4630964659918842), (1724, 0.4630964659918842), (1753, 0.4630964659918842), (1773, 0.4630964659918842), (1838, 0.4630964659918842), (1840, 0.4630964659918842), (1927, 0.4630964659918842), (1930, 0.4630964659918842), (1933, 0.4630964659918842), (1953, 0.4630964659918842), (1962, 0.4630964659918842), (2245, 0.4630964659918842), (2480, 0.4630964659918842), (2541, 0.4630964659918842), (2630, 0.4630964659918842), (2759, 0.4630964659918842), (2801, 0.4630964659918842), (2949, 0.4630964659918842), (2991, 0.4630964659918842), (3005, 0.4630964659918842), (3179, 0.4630964659918842), (3279, 0.4630964659918842), (3446, 0.4630964659918842), (3456, 0.4630964659918842), (3495, 0.4630964659918842), (3583, 0.4630964659918842), (3664, 0.4630964659918842), (3788, 0.4630964659918842), (3793, 0.4630964659918842), (3810, 0.4630964659918842), (3815, 0.4630964659918842), (3823, 0.4630964659918842), (3824, 0.4630964659918842), (3833, 0.4630964659918842), (3852, 0.4630964659918842), (3881, 0.4630964659918842), (3938, 0.4630964659918842), (3942, 0.4630964659918842), (3944, 0.4630964659918842), (3970, 0.4630964659918842), (3989, 0.4630964659918842), (3995, 0.4630964659918842), (4090, 0.4630964659918842), (4106, 0.4630964659918842), (4120, 0.4630964659918842), (4134, 0.4630964659918842), (4158, 0.4630964659918842), (4251, 0.4630964659918842), (4290, 0.4630964659918842), (4331, 0.4630964659918842), (4337, 0.4630964659918842), (4360, 0.4630964659918842), (4366, 0.4630964659918842), (4389, 0.4630964659918842), (4441, 0.4630964659918842), (4488, 0.4630964659918842), (4513, 0.4630964659918842), (4518, 0.4630964659918842), (4527, 0.4630964659918842), (4548, 0.4630964659918842), (4582, 0.4630964659918842), (4585, 0.4630964659918842), (4595, 0.4630964659918842), (4621, 0.4630964659918842), (4665, 0.4630964659918842), (4695, 0.4630964659918842), (953, 0.4617262313952808), (991, 0.4617262313952808), (1223, 0.4617262313952808), (4502, 0.46022901225643364), (385, 0.45926980110323057), (908, 0.4592415195812251), (82, 0.4591164613639005), (115, 0.4591164613639005), (157, 0.4591164613639005), (175, 0.4591164613639005), (246, 0.4591164613639005), (253, 0.4591164613639005), (346, 0.4591164613639005), (377, 0.4591164613639005), (473, 0.4591164613639005), (505, 0.4591164613639005), (507, 0.4591164613639005), (508, 0.4591164613639005), (659, 0.4591164613639005), (691, 0.4591164613639005), (740, 0.4591164613639005), (755, 0.4591164613639005), (759, 0.4591164613639005), (787, 0.4591164613639005), (788, 0.4591164613639005), (884, 0.4591164613639005), (886, 0.4591164613639005), (933, 0.4591164613639005), (941, 0.4591164613639005), (984, 0.4591164613639005), (1006, 0.4591164613639005), (1021, 0.4591164613639005), (1100, 0.4591164613639005), (1112, 0.4591164613639005), (1117, 0.4591164613639005), (1124, 0.4591164613639005), (1169, 0.4591164613639005), (1203, 0.4591164613639005), (1204, 0.4591164613639005), (1243, 0.4591164613639005), (1284, 0.4591164613639005), (1298, 0.4591164613639005), (1304, 0.4591164613639005), (1312, 0.4591164613639005), (1318, 0.4591164613639005), (1359, 0.4591164613639005), (1367, 0.4591164613639005), (1409, 0.4591164613639005), (1411, 0.4591164613639005), (1422, 0.4591164613639005), (1446, 0.4591164613639005), (1465, 0.4591164613639005), (1494, 0.4591164613639005), (1528, 0.4591164613639005), (1571, 0.4591164613639005), (1597, 0.4591164613639005), (1637, 0.4591164613639005), (1642, 0.4591164613639005), (1660, 0.4591164613639005), (1663, 0.4591164613639005), (1688, 0.4591164613639005), (1733, 0.4591164613639005), (1759, 0.4591164613639005), (1765, 0.4591164613639005), (1792, 0.4591164613639005), (1848, 0.4591164613639005), (1877, 0.4591164613639005), (1919, 0.4591164613639005), (1929, 0.4591164613639005), (1947, 0.4591164613639005), (1954, 0.4591164613639005), (1980, 0.4591164613639005), (2060, 0.4591164613639005), (2137, 0.4591164613639005), (2146, 0.4591164613639005), (2148, 0.4591164613639005), (2151, 0.4591164613639005), (2192, 0.4591164613639005), (2209, 0.4591164613639005), (2236, 0.4591164613639005), (2270, 0.4591164613639005), (2292, 0.4591164613639005), (2303, 0.4591164613639005), (2309, 0.4591164613639005), (2340, 0.4591164613639005), (2387, 0.4591164613639005), (2396, 0.4591164613639005), (2403, 0.4591164613639005), (2404, 0.4591164613639005), (2436, 0.4591164613639005), (2440, 0.4591164613639005), (2446, 0.4591164613639005), (2490, 0.4591164613639005), (2495, 0.4591164613639005), (2507, 0.4591164613639005), (2537, 0.4591164613639005), (2561, 0.4591164613639005), (2587, 0.4591164613639005), (2619, 0.4591164613639005), (2653, 0.4591164613639005), (2712, 0.4591164613639005), (2722, 0.4591164613639005), (2728, 0.4591164613639005), (2731, 0.4591164613639005), (2738, 0.4591164613639005), (2786, 0.4591164613639005), (2846, 0.4591164613639005), (2858, 0.4591164613639005), (2882, 0.4591164613639005), (2884, 0.4591164613639005), (2914, 0.4591164613639005), (2954, 0.4591164613639005), (2970, 0.4591164613639005), (2976, 0.4591164613639005), (3003, 0.4591164613639005), (3016, 0.4591164613639005), (3020, 0.4591164613639005), (3026, 0.4591164613639005), (3037, 0.4591164613639005), (3040, 0.4591164613639005), (3042, 0.4591164613639005), (3074, 0.4591164613639005), (3084, 0.4591164613639005), (3113, 0.4591164613639005), (3139, 0.4591164613639005), (3150, 0.4591164613639005), (3224, 0.4591164613639005), (3238, 0.4591164613639005), (3239, 0.4591164613639005), (3249, 0.4591164613639005), (3257, 0.4591164613639005), (3260, 0.4591164613639005), (3283, 0.4591164613639005), (3289, 0.4591164613639005), (3290, 0.4591164613639005), (3329, 0.4591164613639005), (3337, 0.4591164613639005), (3348, 0.4591164613639005), (3351, 0.4591164613639005), (3410, 0.4591164613639005), (3430, 0.4591164613639005), (3537, 0.4591164613639005), (3538, 0.4591164613639005), (3544, 0.4591164613639005), (3565, 0.4591164613639005), (3606, 0.4591164613639005), (3616, 0.4591164613639005), (3621, 0.4591164613639005), (3665, 0.4591164613639005), (3733, 0.4591164613639005), (3739, 0.4591164613639005), (3754, 0.4591164613639005), (3755, 0.4591164613639005), (3765, 0.4591164613639005), (3772, 0.4591164613639005), (3811, 0.4591164613639005), (3832, 0.4591164613639005), (3855, 0.4591164613639005), (3890, 0.4591164613639005), (3922, 0.4591164613639005), (3962, 0.4591164613639005), (3967, 0.4591164613639005), (3973, 0.4591164613639005), (4023, 0.4591164613639005), (4049, 0.4591164613639005), (4052, 0.4591164613639005), (4102, 0.4591164613639005), (4111, 0.4591164613639005), (4132, 0.4591164613639005), (4140, 0.4591164613639005), (4147, 0.4591164613639005), (4174, 0.4591164613639005), (4182, 0.4591164613639005), (4200, 0.4591164613639005), (4206, 0.4591164613639005), (4213, 0.4591164613639005), (4254, 0.4591164613639005), (4257, 0.4591164613639005), (4304, 0.4591164613639005), (4308, 0.4591164613639005), (4356, 0.4591164613639005), (4371, 0.4591164613639005), (4382, 0.4591164613639005), (4395, 0.4591164613639005), (4484, 0.4591164613639005), (4507, 0.4591164613639005), (4530, 0.4591164613639005), (4571, 0.4591164613639005), (4627, 0.4591164613639005), (4633, 0.4591164613639005), (4650, 0.4591164613639005), (4706, 0.4591164613639005), (4734, 0.4591164613639005), (4744, 0.4591164613639005), (2065, 0.45767996092056107), (81, 0.45655376675280757), (833, 0.45655376675280757), (266, 0.453409753862414), (4591, 0.453409753862414), (4733, 0.453409753862414), (580, 0.45320442654918003), (617, 0.45320442654918003), (744, 0.45320442654918003), (1177, 0.45320442654918003), (1498, 0.45320442654918003), (3122, 0.45320442654918003), (3330, 0.45320442654918003), (4593, 0.45320442654918003), (4614, 0.45320442654918003), (4699, 0.45320442654918003), (4701, 0.45320442654918003), (4514, 0.45304627108562595), (85, 0.4525773912307209), (2777, 0.45204789618693036), (3645, 0.45204789618693036), (367, 0.44980725813231326), (369, 0.44980725813231326), (1797, 0.44735664657660573), (644, 0.44481609960753676), (1400, 0.44445798665561387), (1414, 0.44445798665561387), (282, 0.4424440086924065), (4261, 0.43932542539692765), (1705, 0.4367076321405793), (3586, 0.4367076321405793), (800, 0.4362957329724029), (804, 0.4362957329724029), (1044, 0.4362957329724029), (2540, 0.4362957329724029), (4255, 0.4362957329724029), (981, 0.4360523884611756), (1413, 0.4360523884611756), (1653, 0.4360523884611756), (2061, 0.4360523884611756), (2091, 0.4360523884611756), (3623, 0.4360523884611756), (3692, 0.4360523884611756), (4046, 0.4360523884611756), (4490, 0.4360523884611756), (3161, 0.4346206688770935), (30, 0.43404109111602796), (250, 0.43404109111602796), (523, 0.43404109111602796), (765, 0.43404109111602796), (927, 0.43404109111602796), (1761, 0.43404109111602796), (1829, 0.43404109111602796), (1952, 0.43404109111602796), (2231, 0.43404109111602796), (3011, 0.43404109111602796), (4043, 0.43404109111602796), (4219, 0.43404109111602796), (4275, 0.43404109111602796), (4464, 0.43404109111602796), (4664, 0.43404109111602796), (4691, 0.43404109111602796), (1050, 0.43026315176081376), (217, 0.42956225045934276), (733, 0.4288765671507364), (118, 0.4283064344424885), (284, 0.4283064344424885), (288, 0.4283064344424885), (289, 0.4283064344424885), (290, 0.4283064344424885), (294, 0.4283064344424885), (295, 0.4283064344424885), (305, 0.4283064344424885), (306, 0.4283064344424885), (310, 0.4283064344424885), (315, 0.4283064344424885), (316, 0.4283064344424885), (320, 0.4283064344424885), (321, 0.4283064344424885), (322, 0.4283064344424885), (323, 0.4283064344424885), (327, 0.4283064344424885), (424, 0.4283064344424885), (425, 0.4283064344424885), (426, 0.4283064344424885), (540, 0.4283064344424885), (550, 0.4283064344424885), (919, 0.4283064344424885), (1012, 0.4283064344424885), (1210, 0.4283064344424885), (1266, 0.4283064344424885), (1380, 0.4283064344424885), (1458, 0.4283064344424885), (1713, 0.4283064344424885), (1809, 0.4283064344424885), (1846, 0.4283064344424885), (1901, 0.4283064344424885), (2013, 0.4283064344424885), (2015, 0.4283064344424885), (2506, 0.4283064344424885), (2960, 0.4283064344424885), (3124, 0.4283064344424885), (3129, 0.4283064344424885), (3135, 0.4283064344424885), (3136, 0.4283064344424885), (3156, 0.4283064344424885), (3163, 0.4283064344424885), (3215, 0.4283064344424885), (3448, 0.4283064344424885), (3486, 0.4283064344424885), (3520, 0.4283064344424885), (3555, 0.4283064344424885), (3782, 0.4283064344424885), (4103, 0.4283064344424885), (4211, 0.4283064344424885), (4703, 0.4283064344424885), (1510, 0.4269439779203559), (1627, 0.4269439779203559), (1968, 0.4269439779203559), (159, 0.42595503959828285), (848, 0.42595503959828285), (1096, 0.42595503959828285), (1102, 0.42595503959828285), (1708, 0.42595503959828285), (2989, 0.42595503959828285), (3336, 0.42595503959828285), (3441, 0.42595503959828285), (3593, 0.42595503959828285), (3668, 0.42595503959828285), (3707, 0.42595503959828285), (3953, 0.42595503959828285), (4020, 0.42595503959828285), (4221, 0.42595503959828285), (4573, 0.42595503959828285), (4606, 0.42595503959828285), (4608, 0.42595503959828285), (4649, 0.42595503959828285), (4705, 0.42595503959828285), (4743, 0.42595503959828285), (898, 0.42174269187594), (970, 0.42174269187594), (1211, 0.42174269187594), (1914, 0.42174269187594), (3844, 0.42174269187594), (4426, 0.42174269187594), (4537, 0.42174269187594), (4746, 0.42174269187594), (3303, 0.41962107900769013), (4557, 0.41572376215677864), (509, 0.4127903558165141), (952, 0.4127903558165141), (1864, 0.4127903558165141), (2496, 0.4127903558165141), (271, 0.4109236096065755), (4283, 0.4107304289062772), (4071, 0.409678406292377), (368, 0.40868645184396557), (116, 0.4070607656990726), (880, 0.4070607656990726), (3828, 0.40699644825579906), (3440, 0.4067582448305178), (4044, 0.4067582448305178), (4392, 0.4067582448305178), (4534, 0.4067582448305178), (4630, 0.4067582448305178), (4646, 0.4067582448305178), (4698, 0.4067582448305178), (4708, 0.4067582448305178), (8, 0.40581718644558207), (29, 0.40581718644558207), (33, 0.40581718644558207), (62, 0.40581718644558207), (121, 0.40581718644558207), (132, 0.40581718644558207), (192, 0.40581718644558207), (193, 0.40581718644558207), (194, 0.40581718644558207), (198, 0.40581718644558207), (224, 0.40581718644558207), (227, 0.40581718644558207), (309, 0.40581718644558207), (326, 0.40581718644558207), (358, 0.40581718644558207), (388, 0.40581718644558207), (448, 0.40581718644558207), (455, 0.40581718644558207), (464, 0.40581718644558207), (465, 0.40581718644558207), (475, 0.40581718644558207), (489, 0.40581718644558207), (490, 0.40581718644558207), (524, 0.40581718644558207), (587, 0.40581718644558207), (612, 0.40581718644558207), (623, 0.40581718644558207), (638, 0.40581718644558207), (698, 0.40581718644558207), (705, 0.40581718644558207), (774, 0.40581718644558207), (813, 0.40581718644558207), (830, 0.40581718644558207), (838, 0.40581718644558207), (843, 0.40581718644558207), (844, 0.40581718644558207), (865, 0.40581718644558207), (897, 0.40581718644558207), (944, 0.40581718644558207), (959, 0.40581718644558207), (975, 0.40581718644558207), (1026, 0.40581718644558207), (1027, 0.40581718644558207), (1034, 0.40581718644558207), (1052, 0.40581718644558207), (1075, 0.40581718644558207), (1077, 0.40581718644558207), (1145, 0.40581718644558207), (1247, 0.40581718644558207), (1305, 0.40581718644558207), (1365, 0.40581718644558207), (1415, 0.40581718644558207), (1423, 0.40581718644558207), (1558, 0.40581718644558207), (1612, 0.40581718644558207), (1619, 0.40581718644558207), (1624, 0.40581718644558207), (1648, 0.40581718644558207), (1655, 0.40581718644558207), (1666, 0.40581718644558207), (1682, 0.40581718644558207), (1685, 0.40581718644558207), (1743, 0.40581718644558207), (1747, 0.40581718644558207), (1762, 0.40581718644558207), (1763, 0.40581718644558207), (1768, 0.40581718644558207), (1782, 0.40581718644558207), (1860, 0.40581718644558207), (1869, 0.40581718644558207), (1885, 0.40581718644558207), (1909, 0.40581718644558207), (2004, 0.40581718644558207), (2035, 0.40581718644558207), (2051, 0.40581718644558207), (2105, 0.40581718644558207), (2132, 0.40581718644558207), (2144, 0.40581718644558207), (2149, 0.40581718644558207), (2155, 0.40581718644558207), (2195, 0.40581718644558207), (2230, 0.40581718644558207), (2266, 0.40581718644558207), (2319, 0.40581718644558207), (2338, 0.40581718644558207), (2349, 0.40581718644558207), (2362, 0.40581718644558207), (2405, 0.40581718644558207), (2407, 0.40581718644558207), (2453, 0.40581718644558207), (2457, 0.40581718644558207), (2475, 0.40581718644558207), (2528, 0.40581718644558207), (2560, 0.40581718644558207), (2650, 0.40581718644558207), (2664, 0.40581718644558207), (2761, 0.40581718644558207), (2775, 0.40581718644558207), (2798, 0.40581718644558207), (2809, 0.40581718644558207), (2859, 0.40581718644558207), (2863, 0.40581718644558207), (2870, 0.40581718644558207), (2883, 0.40581718644558207), (2890, 0.40581718644558207), (2892, 0.40581718644558207), (2894, 0.40581718644558207), (2904, 0.40581718644558207), (2907, 0.40581718644558207), (2911, 0.40581718644558207), (2915, 0.40581718644558207), (2975, 0.40581718644558207), (3013, 0.40581718644558207), (3015, 0.40581718644558207), (3030, 0.40581718644558207), (3056, 0.40581718644558207), (3067, 0.40581718644558207), (3072, 0.40581718644558207), (3075, 0.40581718644558207), (3094, 0.40581718644558207), (3116, 0.40581718644558207), (3140, 0.40581718644558207), (3148, 0.40581718644558207), (3170, 0.40581718644558207), (3200, 0.40581718644558207), (3237, 0.40581718644558207), (3248, 0.40581718644558207), (3254, 0.40581718644558207), (3268, 0.40581718644558207), (3273, 0.40581718644558207), (3274, 0.40581718644558207), (3291, 0.40581718644558207), (3296, 0.40581718644558207), (3300, 0.40581718644558207), (3302, 0.40581718644558207), (3335, 0.40581718644558207), (3359, 0.40581718644558207), (3380, 0.40581718644558207), (3391, 0.40581718644558207), (3406, 0.40581718644558207), (3425, 0.40581718644558207), (3434, 0.40581718644558207), (3506, 0.40581718644558207), (3511, 0.40581718644558207), (3524, 0.40581718644558207), (3551, 0.40581718644558207), (3614, 0.40581718644558207), (3654, 0.40581718644558207), (3655, 0.40581718644558207), (3745, 0.40581718644558207), (3804, 0.40581718644558207), (3809, 0.40581718644558207), (3829, 0.40581718644558207), (3893, 0.40581718644558207), (3898, 0.40581718644558207), (3904, 0.40581718644558207), (3913, 0.40581718644558207), (3915, 0.40581718644558207), (3925, 0.40581718644558207), (3932, 0.40581718644558207), (3954, 0.40581718644558207), (3999, 0.40581718644558207), (4079, 0.40581718644558207), (4080, 0.40581718644558207), (4082, 0.40581718644558207), (4138, 0.40581718644558207), (4175, 0.40581718644558207), (4183, 0.40581718644558207), (4197, 0.40581718644558207), (4243, 0.40581718644558207), (4306, 0.40581718644558207), (4320, 0.40581718644558207), (4333, 0.40581718644558207), (4350, 0.40581718644558207), (4369, 0.40581718644558207), (4381, 0.40581718644558207), (4411, 0.40581718644558207), (4458, 0.40581718644558207), (4479, 0.40581718644558207), (4575, 0.40581718644558207), (4605, 0.40581718644558207), (4625, 0.40581718644558207), (4632, 0.40581718644558207), (4657, 0.40581718644558207), (4712, 0.40581718644558207), (2082, 0.4037891638346528), (1760, 0.4005005870311142), (750, 0.40031233256108867), (1083, 0.40031233256108867), (1140, 0.40031233256108867), (3123, 0.40031233256108867), (4154, 0.40031233256108867), (4523, 0.40023427442266624), (1302, 0.39989718917961703), (1881, 0.39989718917961703), (2992, 0.39989718917961703), (3168, 0.39989718917961703), (1900, 0.3994455840457396), (4721, 0.3994455840457396), (2803, 0.3978795572181292), (935, 0.3965834797435125), (1087, 0.3965834797435125), (1503, 0.3965834797435125), (1650, 0.3965834797435125), (2285, 0.3965834797435125), (2324, 0.3965834797435125), (2725, 0.3965834797435125), (3629, 0.3965834797435125), (3877, 0.3965834797435125), (3903, 0.3965834797435125), (4016, 0.3965834797435125), (4074, 0.3965834797435125), (4428, 0.3965834797435125), (125, 0.39590252545539845), (332, 0.39590252545539845), (779, 0.39590252545539845), (1332, 0.39590252545539845), (2819, 0.39590252545539845), (3723, 0.39590252545539845), (3018, 0.39580945858235794), (793, 0.394962243287461), (1099, 0.394962243287461), (1309, 0.394962243287461), (1587, 0.394962243287461), (1788, 0.394962243287461), (1939, 0.394962243287461), (2208, 0.394962243287461), (632, 0.39446438042846615), (239, 0.3919481797240909), (1272, 0.3919481797240909), (2316, 0.38821576521900714), (963, 0.38737320187183427), (2899, 0.38737320187183427), (3516, 0.38737320187183427), (3734, 0.38737320187183427), (2181, 0.3866449009039665), (2959, 0.3866449009039665), (3432, 0.3866449009039665), (3604, 0.3866449009039665), (4328, 0.3866449009039665), (4642, 0.3866449009039665), (696, 0.38237554658117917), (4282, 0.38237554658117917), (3387, 0.3822079424089763), (2344, 0.3806068106965542), (1153, 0.3778751321162639), (389, 0.3767693137687599), (460, 0.3767693137687599), (625, 0.3767693137687599), (877, 0.3767693137687599), (1120, 0.3767693137687599), (1701, 0.3767693137687599), (2326, 0.3767693137687599), (2790, 0.3767693137687599), (3897, 0.3767693137687599), (4339, 0.3767693137687599), (4383, 0.3767693137687599), (4468, 0.3767693137687599), (2130, 0.3738583956475672), (3426, 0.3738583956475672), (606, 0.37233895048618043), (672, 0.37122154887184156), (1516, 0.37122154887184156), (2166, 0.37122154887184156), (2720, 0.37122154887184156), (3297, 0.37122154887184156), (3373, 0.37122154887184156), (3584, 0.36982651650649817), (1732, 0.36912403452895737), (745, 0.3681332645979207), (1163, 0.3667002823386262), (1813, 0.3667002823386262), (1882, 0.3667002823386262), (1891, 0.3667002823386262), (1916, 0.3667002823386262), (2400, 0.3667002823386262), (4085, 0.3667002823386262), (4607, 0.3667002823386262), (1633, 0.36666009095912633), (1990, 0.36666009095912633), (2074, 0.36666009095912633), (2733, 0.36666009095912633), (3398, 0.36666009095912633), (3470, 0.36666009095912633), (2443, 0.3659532158453298), (437, 0.3657767348484995), (1182, 0.3657767348484995), (2176, 0.3657767348484995), (2257, 0.3657767348484995), (2393, 0.3657767348484995), (2448, 0.3657767348484995), (2568, 0.3657767348484995), (2579, 0.3657767348484995), (2612, 0.3657767348484995), (2901, 0.3657767348484995), (2980, 0.3657767348484995), (3151, 0.3657767348484995), (3219, 0.3657767348484995), (3557, 0.3657767348484995), (3620, 0.3657767348484995), (3643, 0.3657767348484995), (3813, 0.3657767348484995), (3990, 0.3657767348484995), (4330, 0.3657767348484995), (4340, 0.3657767348484995), (4604, 0.3657767348484995), (1536, 0.36473815628256395), (2714, 0.36338357710880953), (4590, 0.3619097433969105), (4629, 0.3619097433969105), (273, 0.3592694433924497), (341, 0.3592694433924497), (633, 0.3592694433924497), (810, 0.3592694433924497), (811, 0.3592694433924497), (979, 0.3592694433924497), (1197, 0.3592694433924497), (1391, 0.3592694433924497), (1622, 0.3592694433924497), (1623, 0.3592694433924497), (1817, 0.3592694433924497), (1852, 0.3592694433924497), (1857, 0.3592694433924497), (1859, 0.3592694433924497), (1873, 0.3592694433924497), (1940, 0.3592694433924497), (1975, 0.3592694433924497), (1996, 0.3592694433924497), (2246, 0.3592694433924497), (2273, 0.3592694433924497), (2314, 0.3592694433924497), (2683, 0.3592694433924497), (2736, 0.3592694433924497), (2929, 0.3592694433924497), (2984, 0.3592694433924497), (3338, 0.3592694433924497), (3488, 0.3592694433924497), (3619, 0.3592694433924497), (3769, 0.3592694433924497), (3853, 0.3592694433924497), (3975, 0.3592694433924497), (4377, 0.3592694433924497), (4639, 0.3592694433924497), (4581, 0.35815103401442505), (3, 0.3576638379410599), (103, 0.3576638379410599), (114, 0.3576638379410599), (129, 0.3576638379410599), (156, 0.3576638379410599), (161, 0.3576638379410599), (169, 0.3576638379410599), (174, 0.3576638379410599), (195, 0.3576638379410599), (202, 0.3576638379410599), (211, 0.3576638379410599), (212, 0.3576638379410599), (278, 0.3576638379410599), (279, 0.3576638379410599), (318, 0.3576638379410599), (325, 0.3576638379410599), (431, 0.3576638379410599), (471, 0.3576638379410599), (504, 0.3576638379410599), (510, 0.3576638379410599), (579, 0.3576638379410599), (589, 0.3576638379410599), (605, 0.3576638379410599), (609, 0.3576638379410599), (697, 0.3576638379410599), (735, 0.3576638379410599), (737, 0.3576638379410599), (847, 0.3576638379410599), (867, 0.3576638379410599), (883, 0.3576638379410599), (885, 0.3576638379410599), (890, 0.3576638379410599), (907, 0.3576638379410599), (973, 0.3576638379410599), (985, 0.3576638379410599), (998, 0.3576638379410599), (999, 0.3576638379410599), (1002, 0.3576638379410599), (1040, 0.3576638379410599), (1049, 0.3576638379410599), (1084, 0.3576638379410599), (1109, 0.3576638379410599), (1170, 0.3576638379410599), (1187, 0.3576638379410599), (1208, 0.3576638379410599), (1216, 0.3576638379410599), (1217, 0.3576638379410599), (1286, 0.3576638379410599), (1313, 0.3576638379410599), (1364, 0.3576638379410599), (1372, 0.3576638379410599), (1382, 0.3576638379410599), (1403, 0.3576638379410599), (1410, 0.3576638379410599), (1427, 0.3576638379410599), (1476, 0.3576638379410599), (1479, 0.3576638379410599), (1518, 0.3576638379410599), (1543, 0.3576638379410599), (1594, 0.3576638379410599), (1693, 0.3576638379410599), (1719, 0.3576638379410599), (1722, 0.3576638379410599), (1827, 0.3576638379410599), (1851, 0.3576638379410599), (1871, 0.3576638379410599), (1893, 0.3576638379410599), (1905, 0.3576638379410599), (1951, 0.3576638379410599), (2068, 0.3576638379410599), (2108, 0.3576638379410599), (2111, 0.3576638379410599), (2116, 0.3576638379410599), (2122, 0.3576638379410599), (2131, 0.3576638379410599), (2187, 0.3576638379410599), (2193, 0.3576638379410599), (2201, 0.3576638379410599), (2302, 0.3576638379410599), (2320, 0.3576638379410599), (2375, 0.3576638379410599), (2385, 0.3576638379410599), (2391, 0.3576638379410599), (2397, 0.3576638379410599), (2402, 0.3576638379410599), (2410, 0.3576638379410599), (2422, 0.3576638379410599), (2434, 0.3576638379410599), (2441, 0.3576638379410599), (2467, 0.3576638379410599), (2488, 0.3576638379410599), (2492, 0.3576638379410599), (2494, 0.3576638379410599), (2509, 0.3576638379410599), (2529, 0.3576638379410599), (2535, 0.3576638379410599), (2553, 0.3576638379410599), (2570, 0.3576638379410599), (2610, 0.3576638379410599), (2633, 0.3576638379410599), (2661, 0.3576638379410599), (2678, 0.3576638379410599), (2687, 0.3576638379410599), (2696, 0.3576638379410599), (2702, 0.3576638379410599), (2744, 0.3576638379410599), (2746, 0.3576638379410599), (2747, 0.3576638379410599), (2748, 0.3576638379410599), (2764, 0.3576638379410599), (2769, 0.3576638379410599), (2776, 0.3576638379410599), (2797, 0.3576638379410599), (2832, 0.3576638379410599), (2834, 0.3576638379410599), (2838, 0.3576638379410599), (2857, 0.3576638379410599), (2872, 0.3576638379410599), (2876, 0.3576638379410599), (2893, 0.3576638379410599), (2924, 0.3576638379410599), (2933, 0.3576638379410599), (2945, 0.3576638379410599), (2999, 0.3576638379410599), (3050, 0.3576638379410599), (3071, 0.3576638379410599), (3137, 0.3576638379410599), (3147, 0.3576638379410599), (3166, 0.3576638379410599), (3178, 0.3576638379410599), (3182, 0.3576638379410599), (3183, 0.3576638379410599), (3194, 0.3576638379410599), (3214, 0.3576638379410599), (3218, 0.3576638379410599), (3220, 0.3576638379410599), (3246, 0.3576638379410599), (3258, 0.3576638379410599), (3271, 0.3576638379410599), (3282, 0.3576638379410599), (3308, 0.3576638379410599), (3315, 0.3576638379410599), (3352, 0.3576638379410599), (3364, 0.3576638379410599), (3388, 0.3576638379410599), (3413, 0.3576638379410599), (3421, 0.3576638379410599), (3447, 0.3576638379410599), (3449, 0.3576638379410599), (3477, 0.3576638379410599), (3479, 0.3576638379410599), (3493, 0.3576638379410599), (3496, 0.3576638379410599), (3500, 0.3576638379410599), (3526, 0.3576638379410599), (3541, 0.3576638379410599), (3552, 0.3576638379410599), (3599, 0.3576638379410599), (3601, 0.3576638379410599), (3626, 0.3576638379410599), (3646, 0.3576638379410599), (3678, 0.3576638379410599), (3767, 0.3576638379410599), (3792, 0.3576638379410599), (3839, 0.3576638379410599), (3866, 0.3576638379410599), (3868, 0.3576638379410599), (3875, 0.3576638379410599), (3882, 0.3576638379410599), (3952, 0.3576638379410599), (4025, 0.3576638379410599), (4051, 0.3576638379410599), (4104, 0.3576638379410599), (4117, 0.3576638379410599), (4156, 0.3576638379410599), (4222, 0.3576638379410599), (4295, 0.3576638379410599), (4311, 0.3576638379410599), (4321, 0.3576638379410599), (4422, 0.3576638379410599), (4652, 0.3576638379410599), (4719, 0.3576638379410599), (1207, 0.3559969100791259), (2139, 0.3559969100791259), (4193, 0.3559969100791259), (936, 0.3557198413279878), (434, 0.35249976392931137), (887, 0.35249976392931137), (1043, 0.35249976392931137), (1176, 0.35249976392931137), (2437, 0.35249976392931137), (3093, 0.35249976392931137), (3353, 0.35249976392931137), (3355, 0.35249976392931137), (3880, 0.35249976392931137), (3983, 0.35249976392931137), (4611, 0.35249976392931137), (182, 0.3512942857639538), (594, 0.3512942857639538), (2569, 0.3512942857639538), (635, 0.34865103470234526), (639, 0.34865103470234526), (640, 0.34865103470234526), (2847, 0.34865103470234526), (2044, 0.34547530882139205), (4552, 0.345083014471362), (3776, 0.3447164220251139), (4586, 0.3447164220251139), (76, 0.34450803013496983), (102, 0.34450803013496983), (128, 0.34450803013496983), (135, 0.34450803013496983), (220, 0.34450803013496983), (762, 0.34450803013496983), (891, 0.34450803013496983), (992, 0.34450803013496983), (997, 0.34450803013496983), (1154, 0.34450803013496983), (1164, 0.34450803013496983), (1281, 0.34450803013496983), (1502, 0.34450803013496983), (1546, 0.34450803013496983), (1696, 0.34450803013496983), (1799, 0.34450803013496983), (1976, 0.34450803013496983), (2078, 0.34450803013496983), (2232, 0.34450803013496983), (2622, 0.34450803013496983), (2689, 0.34450803013496983), (2711, 0.34450803013496983), (3022, 0.34450803013496983), (3247, 0.34450803013496983), (3468, 0.34450803013496983), (3605, 0.34450803013496983), (3850, 0.34450803013496983), (3908, 0.34450803013496983), (4312, 0.34450803013496983), (661, 0.3422784385794593), (1812, 0.3422784385794593), (929, 0.3413027748180781), (1023, 0.3413027748180781), (1122, 0.3413027748180781), (1977, 0.3413027748180781), (2943, 0.3413027748180781), (3165, 0.3413027748180781), (3560, 0.3413027748180781), (104, 0.34079230902503704), (158, 0.34079230902503704), (1920, 0.34079230902503704), (2359, 0.34079230902503704), (2698, 0.34079230902503704), (2889, 0.34079230902503704), (3027, 0.34079230902503704), (3180, 0.3383759536327736), (451, 0.33672873670931036), (2094, 0.33672873670931036), (3126, 0.33672873670931036), (41, 0.33575478425716265), (119, 0.33575478425716265), (292, 0.33575478425716265), (1254, 0.33575478425716265), (1301, 0.33575478425716265), (1936, 0.33575478425716265), (2034, 0.33575478425716265), (2127, 0.33575478425716265), (2356, 0.33575478425716265), (2640, 0.33575478425716265), (2707, 0.33575478425716265), (2826, 0.33575478425716265), (2895, 0.33575478425716265), (2937, 0.33575478425716265), (3206, 0.33575478425716265), (3419, 0.33575478425716265), (3917, 0.33575478425716265), (4130, 0.33575478425716265), (4142, 0.33575478425716265), (4550, 0.33575478425716265), (4589, 0.33575478425716265), (27, 0.3353704519243936), (4076, 0.3353704519243936), (4466, 0.3353704519243936), (925, 0.3300181449486483), (1907, 0.3300181449486483), (849, 0.3299444689838345), (351, 0.3293444695981306), (824, 0.3293444695981306), (1088, 0.3293444695981306), (1251, 0.3293444695981306), (2099, 0.3293444695981306), (2199, 0.3293444695981306), (2223, 0.3293444695981306), (2379, 0.3293444695981306), (2423, 0.3293444695981306), (2591, 0.3293444695981306), (2592, 0.3293444695981306), (2721, 0.3293444695981306), (2741, 0.3293444695981306), (2782, 0.3293444695981306), (2972, 0.3293444695981306), (3187, 0.3293444695981306), (3234, 0.3293444695981306), (3673, 0.3293444695981306), (3763, 0.3293444695981306), (3822, 0.3293444695981306), (3892, 0.3293444695981306), (4259, 0.3293444695981306), (4756, 0.3293444695981306), (1791, 0.32642666854752855), (4285, 0.32642666854752855), (921, 0.32562370813905783), (2287, 0.32562370813905783), (2740, 0.32562370813905783), (3327, 0.32562370813905783), (3546, 0.32562370813905783), (3826, 0.32562370813905783), (4418, 0.32562370813905783), (77, 0.3247189447150259), (511, 0.3247189447150259), (932, 0.3247189447150259), (1003, 0.3247189447150259), (1146, 0.3247189447150259), (1590, 0.3247189447150259), (1662, 0.3247189447150259), (1925, 0.3247189447150259), (2278, 0.3247189447150259), (2599, 0.3247189447150259), (2618, 0.3247189447150259), (3160, 0.3247189447150259), (3484, 0.3247189447150259), (3502, 0.3247189447150259), (3576, 0.3247189447150259), (4165, 0.3247189447150259), (4240, 0.3247189447150259), (4697, 0.3247189447150259), (204, 0.319552926072337), (957, 0.319552926072337), (1392, 0.319552926072337), (2411, 0.319552926072337), (646, 0.3178415518220633), (2595, 0.3178415518220633), (4292, 0.317340743707742), (4322, 0.3166076414755141), (187, 0.31420713206026873), (380, 0.31420713206026873), (438, 0.31420713206026873), (1575, 0.31420713206026873), (1991, 0.31420713206026873), (2789, 0.31420713206026873), (3079, 0.31420713206026873), (3158, 0.31420713206026873), (3385, 0.31420713206026873), (3966, 0.31420713206026873), (4365, 0.31420713206026873), (467, 0.3121657490926757), (468, 0.3121657490926757), (469, 0.3121657490926757), (2567, 0.3121657490926757), (39, 0.31201096671970374), (46, 0.31201096671970374), (67, 0.31201096671970374), (69, 0.31201096671970374), (78, 0.31201096671970374), (80, 0.31201096671970374), (90, 0.31201096671970374), (93, 0.31201096671970374), (94, 0.31201096671970374), (95, 0.31201096671970374), (152, 0.31201096671970374), (189, 0.31201096671970374), (234, 0.31201096671970374), (260, 0.31201096671970374), (261, 0.31201096671970374), (314, 0.31201096671970374), (397, 0.31201096671970374), (537, 0.31201096671970374), (666, 0.31201096671970374), (756, 0.31201096671970374), (1134, 0.31201096671970374), (1262, 0.31201096671970374), (1280, 0.31201096671970374), (1396, 0.31201096671970374), (1554, 0.31201096671970374), (1566, 0.31201096671970374), (1772, 0.31201096671970374), (2413, 0.31201096671970374), (2442, 0.31201096671970374), (2501, 0.31201096671970374), (3100, 0.31201096671970374), (3133, 0.31201096671970374), (3134, 0.31201096671970374), (3361, 0.31201096671970374), (3367, 0.31201096671970374), (3405, 0.31201096671970374), (3744, 0.31201096671970374), (3787, 0.31201096671970374), (3907, 0.31201096671970374), (4091, 0.31201096671970374), (2399, 0.31114051927818076), (3357, 0.31075363466315664), (4420, 0.31075363466315664), (4489, 0.31075363466315664), (3886, 0.3094459538872651), (3679, 0.30922509667064235), (2966, 0.3084638857039771), (3235, 0.3084638857039771), (228, 0.3082907043434548), (330, 0.3082907043434548), (348, 0.3082907043434548), (372, 0.3082907043434548), (400, 0.3082907043434548), (593, 0.3082907043434548), (596, 0.3082907043434548), (598, 0.3082907043434548), (626, 0.3082907043434548), (721, 0.3082907043434548), (722, 0.3082907043434548), (798, 0.3082907043434548), (850, 0.3082907043434548), (858, 0.3082907043434548), (1209, 0.3082907043434548), (1306, 0.3082907043434548), (1349, 0.3082907043434548), (1580, 0.3082907043434548), (1703, 0.3082907043434548), (1780, 0.3082907043434548), (1808, 0.3082907043434548), (1884, 0.3082907043434548), (1969, 0.3082907043434548), (2251, 0.3082907043434548), (2347, 0.3082907043434548), (2563, 0.3082907043434548), (2611, 0.3082907043434548), (2800, 0.3082907043434548), (2868, 0.3082907043434548), (2977, 0.3082907043434548), (3028, 0.3082907043434548), (3046, 0.3082907043434548), (3301, 0.3082907043434548), (3379, 0.3082907043434548), (3399, 0.3082907043434548), (3590, 0.3082907043434548), (3725, 0.3082907043434548), (3751, 0.3082907043434548), (3784, 0.3082907043434548), (3951, 0.3082907043434548), (4069, 0.3082907043434548), (4137, 0.3082907043434548), (4247, 0.3082907043434548), (4400, 0.3082907043434548), (4504, 0.3082907043434548), (4520, 0.3082907043434548), (4563, 0.3082907043434548), (4640, 0.3082907043434548), (1993, 0.30827167824681295), (1998, 0.30827167824681295), (2301, 0.30791356210803467), (2390, 0.30791356210803467), (3111, 0.30791356210803467), (4718, 0.30791356210803467), (495, 0.3077229199237533), (3174, 0.3077229199237533), (205, 0.30727150565679506), (366, 0.30727150565679506), (393, 0.30727150565679506), (422, 0.30727150565679506), (454, 0.30727150565679506), (525, 0.30727150565679506), (535, 0.30727150565679506), (536, 0.30727150565679506), (577, 0.30727150565679506), (585, 0.30727150565679506), (648, 0.30727150565679506), (679, 0.30727150565679506), (708, 0.30727150565679506), (710, 0.30727150565679506), (711, 0.30727150565679506), (730, 0.30727150565679506), (771, 0.30727150565679506), (772, 0.30727150565679506), (814, 0.30727150565679506), (837, 0.30727150565679506), (839, 0.30727150565679506), (840, 0.30727150565679506), (841, 0.30727150565679506), (892, 0.30727150565679506), (943, 0.30727150565679506), (955, 0.30727150565679506), (958, 0.30727150565679506), (978, 0.30727150565679506), (995, 0.30727150565679506), (1028, 0.30727150565679506), (1029, 0.30727150565679506), (1062, 0.30727150565679506), (1070, 0.30727150565679506), (1089, 0.30727150565679506), (1093, 0.30727150565679506), (1103, 0.30727150565679506), (1105, 0.30727150565679506), (1106, 0.30727150565679506), (1125, 0.30727150565679506), (1130, 0.30727150565679506), (1133, 0.30727150565679506), (1139, 0.30727150565679506), (1149, 0.30727150565679506), (1152, 0.30727150565679506), (1178, 0.30727150565679506), (1180, 0.30727150565679506), (1227, 0.30727150565679506), (1267, 0.30727150565679506), (1289, 0.30727150565679506), (1297, 0.30727150565679506), (1299, 0.30727150565679506), (1311, 0.30727150565679506), (1322, 0.30727150565679506), (1331, 0.30727150565679506), (1353, 0.30727150565679506), (1376, 0.30727150565679506), (1389, 0.30727150565679506), (1390, 0.30727150565679506), (1425, 0.30727150565679506), (1444, 0.30727150565679506), (1492, 0.30727150565679506), (1508, 0.30727150565679506), (1517, 0.30727150565679506), (1526, 0.30727150565679506), (1561, 0.30727150565679506), (1563, 0.30727150565679506), (1583, 0.30727150565679506), (1586, 0.30727150565679506), (1609, 0.30727150565679506), (1626, 0.30727150565679506), (1644, 0.30727150565679506), (1646, 0.30727150565679506), (1654, 0.30727150565679506), (1668, 0.30727150565679506), (1673, 0.30727150565679506), (1679, 0.30727150565679506), (1689, 0.30727150565679506), (1698, 0.30727150565679506), (1702, 0.30727150565679506), (1715, 0.30727150565679506), (1729, 0.30727150565679506), (1737, 0.30727150565679506), (1741, 0.30727150565679506), (1752, 0.30727150565679506), (1757, 0.30727150565679506), (1767, 0.30727150565679506), (1777, 0.30727150565679506), (1785, 0.30727150565679506), (1786, 0.30727150565679506), (1790, 0.30727150565679506), (1834, 0.30727150565679506), (1849, 0.30727150565679506), (1856, 0.30727150565679506), (1879, 0.30727150565679506), (1906, 0.30727150565679506), (1915, 0.30727150565679506), (1917, 0.30727150565679506), (1928, 0.30727150565679506), (1938, 0.30727150565679506), (1944, 0.30727150565679506), (1957, 0.30727150565679506), (1978, 0.30727150565679506), (1994, 0.30727150565679506), (2002, 0.30727150565679506), (2005, 0.30727150565679506), (2042, 0.30727150565679506), (2063, 0.30727150565679506), (2064, 0.30727150565679506), (2071, 0.30727150565679506), (2079, 0.30727150565679506), (2092, 0.30727150565679506), (2098, 0.30727150565679506), (2128, 0.30727150565679506), (2138, 0.30727150565679506), (2147, 0.30727150565679506), (2202, 0.30727150565679506), (2203, 0.30727150565679506), (2204, 0.30727150565679506), (2215, 0.30727150565679506), (2219, 0.30727150565679506), (2271, 0.30727150565679506), (2272, 0.30727150565679506), (2282, 0.30727150565679506), (2305, 0.30727150565679506), (2307, 0.30727150565679506), (2311, 0.30727150565679506), (2312, 0.30727150565679506), (2325, 0.30727150565679506), (2339, 0.30727150565679506), (2360, 0.30727150565679506), (2366, 0.30727150565679506), (2377, 0.30727150565679506), (2380, 0.30727150565679506), (2384, 0.30727150565679506), (2445, 0.30727150565679506), (2452, 0.30727150565679506), (2455, 0.30727150565679506), (2458, 0.30727150565679506), (2460, 0.30727150565679506), (2465, 0.30727150565679506), (2483, 0.30727150565679506), (2491, 0.30727150565679506), (2508, 0.30727150565679506), (2510, 0.30727150565679506), (2515, 0.30727150565679506), (2518, 0.30727150565679506), (2523, 0.30727150565679506), (2536, 0.30727150565679506), (2542, 0.30727150565679506), (2548, 0.30727150565679506), (2551, 0.30727150565679506), (2620, 0.30727150565679506), (2631, 0.30727150565679506), (2639, 0.30727150565679506), (2648, 0.30727150565679506), (2669, 0.30727150565679506), (2675, 0.30727150565679506), (2684, 0.30727150565679506), (2703, 0.30727150565679506), (2726, 0.30727150565679506), (2734, 0.30727150565679506), (2818, 0.30727150565679506), (2823, 0.30727150565679506), (2852, 0.30727150565679506), (2875, 0.30727150565679506), (2896, 0.30727150565679506), (2930, 0.30727150565679506), (2941, 0.30727150565679506), (2951, 0.30727150565679506), (2968, 0.30727150565679506), (3038, 0.30727150565679506), (3041, 0.30727150565679506), (3054, 0.30727150565679506), (3060, 0.30727150565679506), (3073, 0.30727150565679506), (3082, 0.30727150565679506), (3087, 0.30727150565679506), (3088, 0.30727150565679506), (3090, 0.30727150565679506), (3104, 0.30727150565679506), (3106, 0.30727150565679506), (3164, 0.30727150565679506), (3190, 0.30727150565679506), (3197, 0.30727150565679506), (3203, 0.30727150565679506), (3207, 0.30727150565679506), (3209, 0.30727150565679506), (3266, 0.30727150565679506), (3277, 0.30727150565679506), (3309, 0.30727150565679506), (3321, 0.30727150565679506), (3324, 0.30727150565679506), (3350, 0.30727150565679506), (3378, 0.30727150565679506), (3415, 0.30727150565679506), (3422, 0.30727150565679506), (3428, 0.30727150565679506), (3442, 0.30727150565679506), (3462, 0.30727150565679506), (3475, 0.30727150565679506), (3494, 0.30727150565679506), (3509, 0.30727150565679506), (3510, 0.30727150565679506), (3518, 0.30727150565679506), (3519, 0.30727150565679506), (3543, 0.30727150565679506), (3563, 0.30727150565679506), (3572, 0.30727150565679506), (3622, 0.30727150565679506), (3662, 0.30727150565679506), (3683, 0.30727150565679506), (3712, 0.30727150565679506), (3722, 0.30727150565679506), (3730, 0.30727150565679506), (3736, 0.30727150565679506), (3740, 0.30727150565679506), (3759, 0.30727150565679506), (3789, 0.30727150565679506), (3791, 0.30727150565679506), (3818, 0.30727150565679506), (3820, 0.30727150565679506), (3836, 0.30727150565679506), (3837, 0.30727150565679506), (3861, 0.30727150565679506), (3864, 0.30727150565679506), (3885, 0.30727150565679506), (3896, 0.30727150565679506), (3909, 0.30727150565679506), (3912, 0.30727150565679506), (3914, 0.30727150565679506), (3916, 0.30727150565679506), (3921, 0.30727150565679506), (3926, 0.30727150565679506), (3930, 0.30727150565679506), (3931, 0.30727150565679506), (3934, 0.30727150565679506), (3969, 0.30727150565679506), (3988, 0.30727150565679506), (3996, 0.30727150565679506), (4003, 0.30727150565679506), (4008, 0.30727150565679506), (4035, 0.30727150565679506), (4058, 0.30727150565679506), (4097, 0.30727150565679506), (4115, 0.30727150565679506), (4125, 0.30727150565679506), (4127, 0.30727150565679506), (4149, 0.30727150565679506), (4184, 0.30727150565679506), (4204, 0.30727150565679506), (4214, 0.30727150565679506), (4256, 0.30727150565679506), (4258, 0.30727150565679506), (4260, 0.30727150565679506), (4291, 0.30727150565679506), (4297, 0.30727150565679506), (4305, 0.30727150565679506), (4317, 0.30727150565679506), (4329, 0.30727150565679506), (4332, 0.30727150565679506), (4335, 0.30727150565679506), (4358, 0.30727150565679506), (4367, 0.30727150565679506), (4370, 0.30727150565679506), (4388, 0.30727150565679506), (4413, 0.30727150565679506), (4421, 0.30727150565679506), (4451, 0.30727150565679506), (4452, 0.30727150565679506), (4480, 0.30727150565679506), (4496, 0.30727150565679506), (4506, 0.30727150565679506), (4556, 0.30727150565679506), (4558, 0.30727150565679506), (4560, 0.30727150565679506), (4577, 0.30727150565679506), (4592, 0.30727150565679506), (4596, 0.30727150565679506), (4648, 0.30727150565679506), (4655, 0.30727150565679506), (4667, 0.30727150565679506), (4737, 0.30727150565679506), (349, 0.3044315391294435), (551, 0.3044315391294435), (578, 0.3044315391294435), (616, 0.3044315391294435), (818, 0.3044315391294435), (962, 0.3044315391294435), (1710, 0.3044315391294435), (1717, 0.3044315391294435), (2438, 0.3044315391294435), (2469, 0.3044315391294435), (2526, 0.3044315391294435), (2534, 0.3044315391294435), (2538, 0.3044315391294435), (2845, 0.3044315391294435), (2965, 0.3044315391294435), (3264, 0.3044315391294435), (3639, 0.3044315391294435), (3677, 0.3044315391294435), (3778, 0.3044315391294435), (3902, 0.3044315391294435), (3920, 0.3044315391294435), (4002, 0.3044315391294435), (4151, 0.3044315391294435), (4205, 0.3044315391294435), (4286, 0.3044315391294435), (4298, 0.3044315391294435), (4368, 0.3044315391294435), (4511, 0.3044315391294435), (457, 0.3038212571040355), (641, 0.3038212571040355), (1206, 0.3038212571040355), (2473, 0.3038212571040355), (2887, 0.3038212571040355), (3360, 0.3038212571040355), (4160, 0.3038212571040355), (4501, 0.3038212571040355), (802, 0.30376689151199876), (160, 0.3033790084483862), (303, 0.3033790084483862), (619, 0.3033790084483862), (1082, 0.3033790084483862), (2432, 0.3033790084483862), (2573, 0.3033790084483862), (3720, 0.3033790084483862), (3802, 0.3033790084483862), (3513, 0.3005001522082398), (71, 0.2998670239757553), (355, 0.2998670239757553), (2102, 0.2998670239757553), (2848, 0.2998670239757553), (3184, 0.2998670239757553), (4011, 0.2998670239757553), (4566, 0.2998670239757553), (1408, 0.29912386038042077), (2755, 0.29912386038042077), (375, 0.29879405421154237), (1129, 0.29879405421154237), (2544, 0.29879405421154237), (2421, 0.2968125359872721), (247, 0.29608335997396873), (3587, 0.29608335997396873), (1420, 0.2951136015064988), (1784, 0.29484833768038476), (84, 0.2947537324589387), (4264, 0.2947537324589387), (3512, 0.29305754701071135), (3517, 0.29305754701071135), (588, 0.2925601067357096), (655, 0.2925601067357096), (2629, 0.2925601067357096), (2931, 0.2925601067357096), (4536, 0.2925601067357096), (1614, 0.29253543545856003), (11, 0.29172256125015494), (12, 0.29172256125015494), (183, 0.29172256125015494), (734, 0.29172256125015494), (1186, 0.29172256125015494), (1730, 0.29172256125015494), (1995, 0.29172256125015494), (2027, 0.29172256125015494), (2134, 0.29172256125015494), (2226, 0.29172256125015494), (2382, 0.29172256125015494), (2505, 0.29172256125015494), (2623, 0.29172256125015494), (3036, 0.29172256125015494), (3285, 0.29172256125015494), (3491, 0.29172256125015494), (3527, 0.29172256125015494), (3569, 0.29172256125015494), (4336, 0.29172256125015494), (4445, 0.29172256125015494), (4528, 0.29172256125015494), (7, 0.29149286277339803), (74, 0.29149286277339803), (378, 0.29149286277339803), (2221, 0.29149286277339803), (2571, 0.29149286277339803), (3542, 0.29149286277339803), (3634, 0.29149286277339803), (3714, 0.29149286277339803), (3873, 0.29149286277339803), (4014, 0.29149286277339803), (4334, 0.29149286277339803), (4391, 0.29149286277339803), (4472, 0.29149286277339803), (4638, 0.29149286277339803), (347, 0.29088570212769854), (1469, 0.29081256664902744), (63, 0.2893544097541062), (966, 0.2893544097541062), (1324, 0.2893544097541062), (1350, 0.2893544097541062), (1798, 0.2893544097541062), (2237, 0.2893544097541062), (2559, 0.2893544097541062), (3276, 0.2893544097541062), (1530, 0.28914054734308436), (3747, 0.28914054734308436), (627, 0.2890431582232762), (1634, 0.2856583398863515), (2062, 0.28560677226429165), (215, 0.2855207834326321), (707, 0.2855207834326321), (969, 0.2855207834326321), (2478, 0.2855207834326321), (3393, 0.2855207834326321), (4113, 0.2855207834326321), (4636, 0.2855207834326321), (1394, 0.2852211085074159), (1690, 0.2852211085074159), (1744, 0.2852211085074159), (1878, 0.2852211085074159), (2367, 0.2852211085074159), (2461, 0.2852211085074159), (2531, 0.2852211085074159), (2073, 0.28300670409861617), (522, 0.28258151787370384), (3613, 0.28258151787370384), (25, 0.2824469353088492), (1340, 0.2824469353088492), (2087, 0.2824469353088492), (2143, 0.2824469353088492), (2601, 0.2824469353088492), (2912, 0.2824469353088492), (3146, 0.2824469353088492), (3402, 0.2824469353088492), (4394, 0.2824469353088492), (4446, 0.2824469353088492), (4473, 0.2824469353088492), (4603, 0.2824469353088492), (4717, 0.2824469353088492), (1079, 0.2819593462201688), (1598, 0.2819593462201688), (487, 0.28058888994388304), (2248, 0.28058888994388304), (3928, 0.28058888994388304), (4301, 0.28058888994388304), (1904, 0.2804798504488143), (3131, 0.2804798504488143), (60, 0.27879021383104813), (456, 0.27879021383104813), (940, 0.27879021383104813), (1261, 0.27879021383104813), (1533, 0.27879021383104813), (1616, 0.27879021383104813), (2211, 0.27879021383104813), (3577, 0.27879021383104813), (223, 0.2779777042354511), (484, 0.2779777042354511), (1548, 0.2779777042354511), (1692, 0.2779777042354511), (1770, 0.2779777042354511), (1823, 0.2779777042354511), (2020, 0.2779777042354511), (2182, 0.2779777042354511), (2238, 0.2779777042354511), (2470, 0.2779777042354511), (2547, 0.2779777042354511), (2842, 0.2779777042354511), (2958, 0.2779777042354511), (3958, 0.2779777042354511), (4185, 0.2779777042354511), (4393, 0.2779777042354511), (4410, 0.2779777042354511), (4568, 0.2779777042354511), (4597, 0.2779777042354511), (4659, 0.2779777042354511), (4682, 0.2779777042354511), (749, 0.27698770748760076), (2361, 0.27698770748760076), (2378, 0.27698770748760076), (2674, 0.27698770748760076), (2767, 0.27698770748760076), (2969, 0.27698770748760076), (3024, 0.27698770748760076), (3064, 0.27698770748760076), (3365, 0.27698770748760076), (4429, 0.27698770748760076), (4723, 0.27698770748760076), (6, 0.2768448102385988), (1150, 0.2768448102385988), (2136, 0.2768448102385988), (2330, 0.2768448102385988), (359, 0.2768398572587637), (739, 0.2768398572587637), (3278, 0.2768398572587637), (4668, 0.2768398572587637), (4036, 0.27574182097319916), (2117, 0.2737325622987961), (2530, 0.2737325622987961), (2998, 0.2737325622987961), (3096, 0.2737325622987961), (902, 0.27362186846558306), (1381, 0.27362186846558306), (2944, 0.27362186846558306), (357, 0.27220916764545056), (416, 0.27220916764545056), (1656, 0.27220916764545056), (1658, 0.27220916764545056), (4448, 0.27220916764545056), (4054, 0.2720225199556624), (403, 0.27121684321353084), (410, 0.27121684321353084), (488, 0.27121684321353084), (564, 0.27121684321353084), (607, 0.27121684321353084), (693, 0.27121684321353084), (857, 0.27121684321353084), (1060, 0.27121684321353084), (1707, 0.27121684321353084), (1946, 0.27121684321353084), (2000, 0.27121684321353084), (2169, 0.27121684321353084), (2614, 0.27121684321353084), (2974, 0.27121684321353084), (4713, 0.27121684321353084), (191, 0.2707616739296186), (2682, 0.2707616739296186), (3191, 0.2707616739296186), (61, 0.27057474123617387), (136, 0.27057474123617387), (2642, 0.27028212962596143), (23, 0.26857806743842627), (221, 0.26857806743842627), (373, 0.26857806743842627), (924, 0.26857806743842627), (1080, 0.26857806743842627), (1605, 0.26857806743842627), (1628, 0.26857806743842627), (2159, 0.26857806743842627), (2313, 0.26857806743842627), (2502, 0.26857806743842627), (2821, 0.26857806743842627), (2878, 0.26857806743842627), (3004, 0.26857806743842627), (3326, 0.26857806743842627), (3667, 0.26857806743842627), (3867, 0.26857806743842627), (3895, 0.26857806743842627), (4594, 0.26857806743842627), (428, 0.26840773230598897), (2474, 0.26840773230598897), (2920, 0.26840773230598897), (715, 0.26803277869985076), (3657, 0.26803277869985076), (4419, 0.26803277869985076), (2680, 0.2677442706066254), (3564, 0.26698480367073396), (3689, 0.26698480367073396), (4471, 0.26698480367073396), (4704, 0.26698480367073396), (2283, 0.2660627677429875), (353, 0.26478478411239365), (1357, 0.26478478411239365), (4345, 0.26478478411239365), (1370, 0.26473753543327366), (1683, 0.26473753543327366), (1943, 0.26473753543327366), (2758, 0.26473753543327366), (3728, 0.26473753543327366), (614, 0.2646129863594115), (3225, 0.2646129863594115), (4015, 0.2646129863594115), (3404, 0.26453767309268333), (794, 0.2637619683082465), (1114, 0.2637619683082465), (1711, 0.2637619683082465), (1277, 0.263096936344874), (218, 0.26279337899351646), (1175, 0.26279337899351646), (2609, 0.26279337899351646), (2830, 0.26279337899351646), (3492, 0.26279337899351646), (272, 0.26119490088809655), (2253, 0.26119490088809655), (3761, 0.26119490088809655), (4022, 0.26119490088809655), (4229, 0.26119490088809655), (4555, 0.2606708472454479), (3044, 0.26012124331153214), (178, 0.25973000988105666), (343, 0.25973000988105666), (407, 0.25973000988105666), (783, 0.25973000988105666), (796, 0.25973000988105666), (1950, 0.25973000988105666), (2550, 0.25973000988105666), (2779, 0.25973000988105666), (2802, 0.25973000988105666), (3314, 0.25973000988105666), (3835, 0.25973000988105666), (15, 0.2595678584515598), (2995, 0.2595678584515598), (3298, 0.2595678584515598), (4139, 0.2595678584515598), (1397, 0.25817389969764803), (2554, 0.2574196628712301), (286, 0.257259746572226), (1514, 0.257259746572226), (79, 0.2571021750988782), (283, 0.2571021750988782), (364, 0.2571021750988782), (4152, 0.2571021750988782), (4401, 0.2571021750988782), (4535, 0.2571021750988782), (657, 0.2559461986028658), (2593, 0.2559461986028658), (3081, 0.2559461986028658), (1199, 0.2553241092406733), (677, 0.25372413601828575), (914, 0.25372413601828575), (1090, 0.25372413601828575), (1118, 0.25372413601828575), (1221, 0.25372413601828575), (1228, 0.25372413601828575), (1686, 0.25372413601828575), (1725, 0.25372413601828575), (2028, 0.25372413601828575), (2172, 0.25372413601828575), (3567, 0.25372413601828575), (3578, 0.25372413601828575), (4745, 0.25372413601828575), (1565, 0.2535215527191442), (4136, 0.25321576014001396), (113, 0.25311891209322196), (197, 0.25311891209322196), (2240, 0.25311891209322196), (2986, 0.25311891209322196), (3304, 0.25311891209322196), (3575, 0.25311891209322196), (3845, 0.25311891209322196), (4263, 0.25311891209322196), (4287, 0.25311891209322196), (2940, 0.25266231148432144), (3091, 0.25092512930727573), (4516, 0.25092512930727573), (4269, 0.24952683681265078), (3503, 0.2490754051331004), (4066, 0.2490754051331004), (4135, 0.2490754051331004), (2039, 0.24896854770831514), (453, 0.24840028168945785), (1007, 0.24824492023968106), (32, 0.246983926945853), (826, 0.246983926945853), (856, 0.246983926945853), (1352, 0.246983926945853), (854, 0.24587390161476608), (2103, 0.24587390161476608), (2862, 0.24587390161476608), (4202, 0.24587390161476608), (1677, 0.24553450999011456), (3889, 0.24553450999011456), (3919, 0.24553450999011456), (4101, 0.244468240405529), (1833, 0.2440650529316623), (480, 0.24397892028690443), (2286, 0.24384450176171585), (3051, 0.24384450176171585), (903, 0.24344438746827596), (2260, 0.242462337358551), (2812, 0.242462337358551), (2745, 0.24181072126238312), (3363, 0.24181072126238312), (871, 0.24096614428230556), (703, 0.2401372978688642), (1539, 0.2401372978688642), (3409, 0.23999448181596864), (307, 0.23986653849940837), (3900, 0.23986653849940837), (4087, 0.23986653849940837), (4266, 0.23986653849940837), (242, 0.23981349497614568), (3346, 0.23981349497614568), (4643, 0.23981349497614568), (4056, 0.23867071397805087), (452, 0.23821532322863345), (2888, 0.23821532322863345), (3328, 0.23821532322863345), (1308, 0.2381809166223546), (1706, 0.2374697216550154), (2289, 0.23584008869096734), (3262, 0.23584008869096734), (3347, 0.23584008869096734), (3827, 0.23584008869096734), (3927, 0.23584008869096734), (1477, 0.23577155474146153), (3389, 0.23577155474146153), (2643, 0.23524638426091615), (852, 0.2345145279923613), (1219, 0.2345145279923613), (1475, 0.2345145279923613), (2048, 0.2345145279923613), (472, 0.23439514601483286), (1010, 0.23385887808755573), (1545, 0.23385887808755573), (1564, 0.23385887808755573), (1599, 0.23385887808755573), (1709, 0.23385887808755573), (1734, 0.23385887808755573), (1751, 0.23385887808755573), (1818, 0.23385887808755573), (1870, 0.23385887808755573), (2025, 0.23385887808755573), (2052, 0.23385887808755573), (2113, 0.23385887808755573), (2124, 0.23385887808755573), (2227, 0.23385887808755573), (2241, 0.23385887808755573), (2274, 0.23385887808755573), (2315, 0.23385887808755573), (2657, 0.23385887808755573), (2659, 0.23385887808755573), (2667, 0.23385887808755573), (2676, 0.23385887808755573), (2922, 0.23385887808755573), (2990, 0.23385887808755573), (3115, 0.23385887808755573), (3169, 0.23385887808755573), (3253, 0.23385887808755573), (3343, 0.23385887808755573), (3383, 0.23385887808755573), (3591, 0.23385887808755573), (4001, 0.23385887808755573), (4131, 0.23385887808755573), (4186, 0.23385887808755573), (4353, 0.23385887808755573), (4600, 0.23385887808755573), (4631, 0.23385887808755573), (4647, 0.23385887808755573), (4690, 0.23385887808755573), (1822, 0.23384803091896067), (3311, 0.23384803091896067), (127, 0.23368257964629513), (1136, 0.23368257964629513), (2350, 0.23368257964629513), (576, 0.23351820229851009), (1463, 0.23351820229851009), (1875, 0.23351820229851009), (2430, 0.23351820229851009), (1161, 0.23155669549641672), (100, 0.23041109959965103), (163, 0.23041109959965103), (265, 0.23041109959965103), (337, 0.23041109959965103), (352, 0.23041109959965103), (552, 0.23041109959965103), (556, 0.23041109959965103), (557, 0.23041109959965103), (746, 0.23041109959965103), (960, 0.23041109959965103), (1189, 0.23041109959965103), (1342, 0.23041109959965103), (1534, 0.23041109959965103), (1556, 0.23041109959965103), (1636, 0.23041109959965103), (1647, 0.23041109959965103), (1795, 0.23041109959965103), (1825, 0.23041109959965103), (1863, 0.23041109959965103), (2017, 0.23041109959965103), (2115, 0.23041109959965103), (2498, 0.23041109959965103), (2503, 0.23041109959965103), (2596, 0.23041109959965103), (2660, 0.23041109959965103), (2773, 0.23041109959965103), (2793, 0.23041109959965103), (2839, 0.23041109959965103), (2921, 0.23041109959965103), (2952, 0.23041109959965103), (3023, 0.23041109959965103), (3092, 0.23041109959965103), (3401, 0.23041109959965103), (3530, 0.23041109959965103), (3547, 0.23041109959965103), (3702, 0.23041109959965103), (3746, 0.23041109959965103), (3831, 0.23041109959965103), (3872, 0.23041109959965103), (3985, 0.23041109959965103), (4006, 0.23041109959965103), (4028, 0.23041109959965103), (4029, 0.23041109959965103), (4078, 0.23041109959965103), (4150, 0.23041109959965103), (4157, 0.23041109959965103), (4159, 0.23041109959965103), (4316, 0.23041109959965103), (4352, 0.23041109959965103), (4385, 0.23041109959965103), (4414, 0.23041109959965103), (4449, 0.23041109959965103), (4459, 0.23041109959965103), (4525, 0.23041109959965103), (4538, 0.23041109959965103), (4539, 0.23041109959965103), (4583, 0.23041109959965103), (4618, 0.23041109959965103), (4645, 0.23041109959965103), (4654, 0.23041109959965103), (4672, 0.23041109959965103), (4750, 0.23041109959965103), (4751, 0.23041109959965103), (4755, 0.23041109959965103), (2485, 0.22971011708578323), (2577, 0.22971011708578323), (2851, 0.22971011708578323), (4021, 0.22971011708578323), (4500, 0.22971011708578323), (4740, 0.22971011708578323), (4758, 0.22971011708578323), (97, 0.2277845066340535), (184, 0.2277845066340535), (267, 0.2277845066340535), (374, 0.2277845066340535), (387, 0.2277845066340535), (441, 0.2277845066340535), (815, 0.2277845066340535), (934, 0.2277845066340535), (1131, 0.2277845066340535), (1748, 0.2277845066340535), (1896, 0.2277845066340535), (2482, 0.2277845066340535), (2520, 0.2277845066340535), (2743, 0.2277845066340535), (3316, 0.2277845066340535), (3749, 0.2277845066340535), (3799, 0.2277845066340535), (4024, 0.2277845066340535), (4228, 0.2277845066340535), (4521, 0.2277845066340535), (872, 0.2271213247090512), (1273, 0.2266517504491562), (1398, 0.2266517504491562), (3795, 0.2266517504491562), (4487, 0.22610738136476732), (2394, 0.22516560505177652), (2796, 0.22516560505177652), (2926, 0.22516560505177652), (3386, 0.2244958607882379), (1245, 0.22421828401292448), (2527, 0.22421828401292448), (49, 0.22359906332596213), (110, 0.22359906332596213), (146, 0.22359906332596213), (225, 0.22359906332596213), (312, 0.22359906332596213), (520, 0.22359906332596213), (529, 0.22359906332596213), (531, 0.22359906332596213), (582, 0.22359906332596213), (583, 0.22359906332596213), (649, 0.22359906332596213), (665, 0.22359906332596213), (671, 0.22359906332596213), (709, 0.22359906332596213), (741, 0.22359906332596213), (754, 0.22359906332596213), (758, 0.22359906332596213), (764, 0.22359906332596213), (768, 0.22359906332596213), (785, 0.22359906332596213), (820, 0.22359906332596213), (846, 0.22359906332596213), (873, 0.22359906332596213), (938, 0.22359906332596213), (971, 0.22359906332596213), (982, 0.22359906332596213), (983, 0.22359906332596213), (1038, 0.22359906332596213), (1073, 0.22359906332596213), (1094, 0.22359906332596213), (1157, 0.22359906332596213), (1200, 0.22359906332596213), (1201, 0.22359906332596213), (1329, 0.22359906332596213), (1345, 0.22359906332596213), (1362, 0.22359906332596213), (1363, 0.22359906332596213), (1441, 0.22359906332596213), (1445, 0.22359906332596213), (1453, 0.22359906332596213), (1457, 0.22359906332596213), (1485, 0.22359906332596213), (1501, 0.22359906332596213), (1549, 0.22359906332596213), (1589, 0.22359906332596213), (1618, 0.22359906332596213), (1639, 0.22359906332596213), (1718, 0.22359906332596213), (1746, 0.22359906332596213), (1778, 0.22359906332596213), (1787, 0.22359906332596213), (1803, 0.22359906332596213), (1867, 0.22359906332596213), (1880, 0.22359906332596213), (1935, 0.22359906332596213), (1956, 0.22359906332596213), (1963, 0.22359906332596213), (1974, 0.22359906332596213), (2001, 0.22359906332596213), (2003, 0.22359906332596213), (2007, 0.22359906332596213), (2009, 0.22359906332596213), (2032, 0.22359906332596213), (2036, 0.22359906332596213), (2106, 0.22359906332596213), (2156, 0.22359906332596213), (2160, 0.22359906332596213), (2161, 0.22359906332596213), (2167, 0.22359906332596213), (2168, 0.22359906332596213), (2186, 0.22359906332596213), (2234, 0.22359906332596213), (2258, 0.22359906332596213), (2333, 0.22359906332596213), (2368, 0.22359906332596213), (2409, 0.22359906332596213), (2420, 0.22359906332596213), (2431, 0.22359906332596213), (2511, 0.22359906332596213), (2543, 0.22359906332596213), (2566, 0.22359906332596213), (2588, 0.22359906332596213), (2594, 0.22359906332596213), (2662, 0.22359906332596213), (2663, 0.22359906332596213), (2671, 0.22359906332596213), (2677, 0.22359906332596213), (2681, 0.22359906332596213), (2693, 0.22359906332596213), (2699, 0.22359906332596213), (2701, 0.22359906332596213), (2730, 0.22359906332596213), (2732, 0.22359906332596213), (2737, 0.22359906332596213), (2794, 0.22359906332596213), (2805, 0.22359906332596213), (2816, 0.22359906332596213), (2817, 0.22359906332596213), (2836, 0.22359906332596213), (2855, 0.22359906332596213), (2866, 0.22359906332596213), (2877, 0.22359906332596213), (2891, 0.22359906332596213), (2928, 0.22359906332596213), (2973, 0.22359906332596213), (2983, 0.22359906332596213), (3009, 0.22359906332596213), (3017, 0.22359906332596213), (3039, 0.22359906332596213), (3061, 0.22359906332596213), (3077, 0.22359906332596213), (3083, 0.22359906332596213), (3098, 0.22359906332596213), (3109, 0.22359906332596213), (3175, 0.22359906332596213), (3177, 0.22359906332596213), (3188, 0.22359906332596213), (3217, 0.22359906332596213), (3229, 0.22359906332596213), (3288, 0.22359906332596213), (3295, 0.22359906332596213), (3371, 0.22359906332596213), (3375, 0.22359906332596213), (3400, 0.22359906332596213), (3489, 0.22359906332596213), (3490, 0.22359906332596213), (3529, 0.22359906332596213), (3549, 0.22359906332596213), (3589, 0.22359906332596213), (3644, 0.22359906332596213), (3648, 0.22359906332596213), (3681, 0.22359906332596213), (3686, 0.22359906332596213), (3716, 0.22359906332596213), (3748, 0.22359906332596213), (3800, 0.22359906332596213), (3808, 0.22359906332596213), (3851, 0.22359906332596213), (3856, 0.22359906332596213), (3879, 0.22359906332596213), (3933, 0.22359906332596213), (3936, 0.22359906332596213), (3950, 0.22359906332596213), (3964, 0.22359906332596213), (4018, 0.22359906332596213), (4061, 0.22359906332596213), (4064, 0.22359906332596213), (4073, 0.22359906332596213), (4084, 0.22359906332596213), (4223, 0.22359906332596213), (4252, 0.22359906332596213), (4315, 0.22359906332596213), (4319, 0.22359906332596213), (4327, 0.22359906332596213), (4408, 0.22359906332596213), (4437, 0.22359906332596213), (4460, 0.22359906332596213), (4463, 0.22359906332596213), (4498, 0.22359906332596213), (4628, 0.22359906332596213), (4688, 0.22359906332596213), (4702, 0.22359906332596213), (4738, 0.22359906332596213), (2049, 0.22314230517737652), (2603, 0.22314230517737652), (4171, 0.22236434337959707), (2242, 0.22002217554964743), (381, 0.21975177990042366), (1143, 0.21975177990042366), (1669, 0.21975177990042366), (2376, 0.21975177990042366), (4279, 0.21975177990042366), (4378, 0.21975177990042366), (252, 0.2195837941058396), (1238, 0.21885832786238832), (1242, 0.21885832786238832), (1288, 0.21885832786238832), (1401, 0.21885832786238832), (1490, 0.21885832786238832), (1912, 0.21885832786238832), (2218, 0.21885832786238832), (2575, 0.21885832786238832), (4300, 0.21885832786238832), (951, 0.2185144420484703), (1020, 0.21794801308456926), (2388, 0.21794801308456926), (2705, 0.21794801308456926), (3417, 0.21794801308456926), (3558, 0.21794801308456926), (3669, 0.21794801308456926), (712, 0.21735087482192939), (1378, 0.21734046070819804), (430, 0.21690182362671184), (3152, 0.2164822372691919), (3408, 0.21498599025731457), (92, 0.21424721266559527), (269, 0.21424721266559527), (651, 0.21424721266559527), (1241, 0.21424721266559527), (2083, 0.21424721266559527), (2634, 0.21424721266559527), (4143, 0.21424721266559527), (4752, 0.21424721266559527), (3641, 0.21357878542373773), (4626, 0.21282199761409118), (2831, 0.21240623395744487), (2386, 0.21154287565204807), (3014, 0.21154287565204807), (4741, 0.21151862953968184), (2466, 0.21103345162918685), (2916, 0.21103345162918685), (2652, 0.21083785751180942), (419, 0.210201787675401), (3198, 0.20944021403338411), (3579, 0.20944021403338411), (1366, 0.208633730761682), (2265, 0.20834108413764743), (2484, 0.20786459912472552), (35, 0.20749214135139132), (36, 0.20749214135139132), (37, 0.20749214135139132), (101, 0.20749214135139132), (477, 0.20749214135139132), (548, 0.20749214135139132), (1263, 0.20749214135139132), (1459, 0.20749214135139132), (1470, 0.20749214135139132), (2718, 0.20749214135139132), (3600, 0.20749214135139132), (4224, 0.20749214135139132), (4236, 0.20749214135139132), (4456, 0.20749214135139132), (4491, 0.20749214135139132), (1645, 0.20738116202245635), (2277, 0.20738116202245635), (3445, 0.20519745249983273), (1828, 0.2038524624218245), (3706, 0.2038524624218245), (2844, 0.2037433132727724), (331, 0.20336414250433205), (506, 0.20336414250433205), (630, 0.20336414250433205), (964, 0.20336414250433205), (1532, 0.20336414250433205), (1824, 0.20336414250433205), (1899, 0.20336414250433205), (2056, 0.20336414250433205), (2059, 0.20336414250433205), (2194, 0.20336414250433205), (2373, 0.20336414250433205), (2564, 0.20336414250433205), (2608, 0.20336414250433205), (2685, 0.20336414250433205), (2690, 0.20336414250433205), (2829, 0.20336414250433205), (3244, 0.20336414250433205), (3250, 0.20336414250433205), (3320, 0.20336414250433205), (3411, 0.20336414250433205), (3580, 0.20336414250433205), (3971, 0.20336414250433205), (4040, 0.20336414250433205), (4108, 0.20336414250433205), (4109, 0.20336414250433205), (4180, 0.20336414250433205), (4226, 0.20336414250433205), (4239, 0.20336414250433205), (4404, 0.20336414250433205), (4434, 0.20336414250433205), (4720, 0.20336414250433205), (344, 0.2028816862494748), (383, 0.2028816862494748), (459, 0.2028816862494748), (1222, 0.2028816862494748), (1235, 0.2028816862494748), (1268, 0.2028816862494748), (1487, 0.2028816862494748), (1520, 0.2028816862494748), (1557, 0.2028816862494748), (1676, 0.2028816862494748), (1695, 0.2028816862494748), (1766, 0.2028816862494748), (1839, 0.2028816862494748), (1842, 0.2028816862494748), (1850, 0.2028816862494748), (2046, 0.2028816862494748), (2261, 0.2028816862494748), (2262, 0.2028816862494748), (2281, 0.2028816862494748), (2290, 0.2028816862494748), (2327, 0.2028816862494748), (2351, 0.2028816862494748), (2435, 0.2028816862494748), (2449, 0.2028816862494748), (2604, 0.2028816862494748), (2637, 0.2028816862494748), (2656, 0.2028816862494748), (2799, 0.2028816862494748), (2814, 0.2028816862494748), (2873, 0.2028816862494748), (3033, 0.2028816862494748), (3066, 0.2028816862494748), (3204, 0.2028816862494748), (3212, 0.2028816862494748), (3236, 0.2028816862494748), (3581, 0.2028816862494748), (3610, 0.2028816862494748), (3796, 0.2028816862494748), (3858, 0.2028816862494748), (4031, 0.2028816862494748), (4190, 0.2028816862494748), (4314, 0.2028816862494748), (4675, 0.2028816862494748), (4711, 0.2028816862494748), (2269, 0.20258409676655387), (1764, 0.20056769700958), (165, 0.19942360278492544), (496, 0.19942360278492544), (631, 0.19942360278492544), (1547, 0.19942360278492544), (1570, 0.19942360278492544), (1886, 0.19942360278492544), (2010, 0.19942360278492544), (3742, 0.19942360278492544), (2556, 0.19802379253344496), (3199, 0.19802379253344496), (1474, 0.19793636865813383), (3062, 0.1976590979531213), (2766, 0.19667044748796922), (141, 0.19592263977429356), (822, 0.19592263977429356), (1278, 0.19592263977429356), (1652, 0.19592263977429356), (2297, 0.19592263977429356), (3102, 0.19592263977429356), (3162, 0.19592263977429356), (3632, 0.19592263977429356), (3732, 0.19592263977429356), (2706, 0.1958243706547828), (4342, 0.19471633069021793), (4372, 0.19471633069021793), (1274, 0.19414865168855144), (3130, 0.19414865168855144), (4549, 0.19414865168855144), (4716, 0.19414865168855144), (2415, 0.1919633817146778), (3241, 0.19102089666932973), (2067, 0.19095958552644232), (3424, 0.19002061681524599), (3603, 0.19002061681524599), (4012, 0.19002061681524599), (214, 0.18975083498584525), (780, 0.18975083498584525), (275, 0.18815706255397033), (950, 0.18815706255397033), (2120, 0.1880367218302339), (122, 0.1876423760366753), (162, 0.1876423760366753), (230, 0.1876423760366753), (1172, 0.1876423760366753), (1253, 0.1876423760366753), (1512, 0.1876423760366753), (2513, 0.1876423760366753), (2864, 0.1876423760366753), (59, 0.18708521078998225), (956, 0.18708521078998225), (965, 0.18708521078998225), (1244, 0.18708521078998225), (1293, 0.18708521078998225), (1321, 0.18708521078998225), (1326, 0.18708521078998225), (1379, 0.18708521078998225), (1437, 0.18708521078998225), (1577, 0.18708521078998225), (1611, 0.18708521078998225), (1895, 0.18708521078998225), (2014, 0.18708521078998225), (2164, 0.18708521078998225), (2185, 0.18708521078998225), (2296, 0.18708521078998225), (2298, 0.18708521078998225), (2774, 0.18708521078998225), (3172, 0.18708521078998225), (3630, 0.18708521078998225), (4272, 0.18708521078998225), (4564, 0.18708521078998225), (2165, 0.18536232552710183), (3617, 0.18536232552710183), (4253, 0.18536232552710183), (1287, 0.18530589300900707), (2562, 0.18494066450496752), (3121, 0.18494066450496752), (3726, 0.18494066450496752), (4194, 0.18494066450496752), (4405, 0.18494066450496752), (2011, 0.1821583505228625), (1126, 0.18170645844696837), (1883, 0.18170645844696837), (2249, 0.18170645844696837), (2472, 0.18170645844696837), (3598, 0.18170645844696837), (699, 0.1796235970270272), (2956, 0.1796235970270272), (3566, 0.1796235970270272), (3698, 0.1796235970270272), (797, 0.17755886999618145), (1473, 0.17755886999618145), (2200, 0.17755886999618145), (4562, 0.17755886999618145), (1560, 0.177128102819213), (2493, 0.177128102819213), (2979, 0.177128102819213), (2810, 0.17680904444007864), (3221, 0.17680904444007864), (3554, 0.17680904444007864), (4447, 0.17680904444007864), (384, 0.17665044012719155), (1399, 0.17665044012719155), (663, 0.1764942897342443), (812, 0.1764942897342443), (1055, 0.1764942897342443), (1101, 0.1764942897342443), (1584, 0.1764942897342443), (2578, 0.1764942897342443), (3047, 0.1764942897342443), (3201, 0.1764942897342443), (3294, 0.1764942897342443), (3305, 0.1764942897342443), (3625, 0.1764942897342443), (4406, 0.1764942897342443), (4547, 0.1764942897342443), (4714, 0.1764942897342443), (2835, 0.17530483251041676), (2101, 0.17254296125350047), (3758, 0.17254296125350047), (3859, 0.17254296125350047), (1482, 0.172248003771445), (1523, 0.172248003771445), (2331, 0.172248003771445), (2582, 0.172248003771445), (3078, 0.172248003771445), (3189, 0.172248003771445), (3753, 0.172248003771445), (4483, 0.172248003771445), (4599, 0.172248003771445), (2033, 0.17214580967483317), (3310, 0.17214580967483317), (4114, 0.17132582101448102), (2946, 0.17086395110136657), (1218, 0.1707565841605188), (3394, 0.1707565841605188), (4167, 0.1707565841605188), (117, 0.1704706783522149), (2517, 0.1704706783522149), (3948, 0.1704706783522149), (319, 0.17038021244339496), (521, 0.17038021244339496), (972, 0.17038021244339496), (1156, 0.17038021244339496), (1447, 0.17038021244339496), (1491, 0.17038021244339496), (1596, 0.17038021244339496), (2145, 0.17038021244339496), (2157, 0.17038021244339496), (2222, 0.17038021244339496), (2225, 0.17038021244339496), (2395, 0.17038021244339496), (2514, 0.17038021244339496), (2586, 0.17038021244339496), (2665, 0.17038021244339496), (3265, 0.17038021244339496), (3319, 0.17038021244339496), (3649, 0.17038021244339496), (4026, 0.17038021244339496), (4433, 0.17038021244339496), (3439, 0.1703363842822038), (4454, 0.1703363842822038), (1889, 0.1700525804638725), (1961, 0.1700525804638725), (2050, 0.1700525804638725), (2364, 0.1700525804638725), (2615, 0.1700525804638725), (2763, 0.1700525804638725), (133, 0.1691327460931872), (462, 0.1691327460931872), (486, 0.1691327460931872), (573, 0.1691327460931872), (575, 0.1691327460931872), (704, 0.1691327460931872), (718, 0.1691327460931872), (1086, 0.1691327460931872), (1147, 0.1691327460931872), (1972, 0.1691327460931872), (2175, 0.1691327460931872), (2220, 0.1691327460931872), (2244, 0.1691327460931872), (2247, 0.1691327460931872), (2341, 0.1691327460931872), (2342, 0.1691327460931872), (2343, 0.1691327460931872), (2345, 0.1691327460931872), (2471, 0.1691327460931872), (2627, 0.1691327460931872), (2658, 0.1691327460931872), (2762, 0.1691327460931872), (2869, 0.1691327460931872), (2905, 0.1691327460931872), (3006, 0.1691327460931872), (3029, 0.1691327460931872), (3107, 0.1691327460931872), (3176, 0.1691327460931872), (3222, 0.1691327460931872), (3251, 0.1691327460931872), (3261, 0.1691327460931872), (3333, 0.1691327460931872), (3345, 0.1691327460931872), (3356, 0.1691327460931872), (3420, 0.1691327460931872), (3573, 0.1691327460931872), (3663, 0.1691327460931872), (3717, 0.1691327460931872), (3750, 0.1691327460931872), (3760, 0.1691327460931872), (3825, 0.1691327460931872), (3830, 0.1691327460931872), (3838, 0.1691327460931872), (3887, 0.1691327460931872), (3891, 0.1691327460931872), (3918, 0.1691327460931872), (3929, 0.1691327460931872), (3981, 0.1691327460931872), (4057, 0.1691327460931872), (4065, 0.1691327460931872), (4067, 0.1691327460931872), (4072, 0.1691327460931872), (4201, 0.1691327460931872), (4212, 0.1691327460931872), (4215, 0.1691327460931872), (4415, 0.1691327460931872), (4417, 0.1691327460931872), (4424, 0.1691327460931872), (4425, 0.1691327460931872), (4508, 0.1691327460931872), (4541, 0.1691327460931872), (4561, 0.1691327460931872), (4578, 0.1691327460931872), (4644, 0.1691327460931872), (4671, 0.1691327460931872), (4681, 0.1691327460931872), (4728, 0.1691327460931872), (4759, 0.1691327460931872), (538, 0.16792779426448132), (736, 0.16792779426448132), (1190, 0.16792779426448132), (1405, 0.16792779426448132), (1569, 0.16792779426448132), (2170, 0.16792779426448132), (2807, 0.16792779426448132), (3592, 0.16792779426448132), (3340, 0.1667228701444556), (248, 0.1666241508970162), (748, 0.1666241508970162), (834, 0.1666241508970162), (835, 0.1666241508970162), (1081, 0.1666241508970162), (1239, 0.1666241508970162), (1271, 0.1666241508970162), (1835, 0.1666241508970162), (2369, 0.1666241508970162), (2686, 0.1666241508970162), (2785, 0.1666241508970162), (2827, 0.1666241508970162), (2865, 0.1666241508970162), (2906, 0.1666241508970162), (3281, 0.1666241508970162), (3550, 0.1666241508970162), (3940, 0.1666241508970162), (4565, 0.1666241508970162), (4615, 0.1666241508970162), (336, 0.16589153441041044), (586, 0.16589153441041044), (1965, 0.16589153441041044), (1135, 0.1648105036988375), (1328, 0.16455339316517587), (1522, 0.16455339316517587), (2549, 0.16455339316517587), (2710, 0.16455339316517587), (1638, 0.1635409235867997), (2043, 0.1635409235867997), (22, 0.1634169981293903), (427, 0.1634169981293903), (702, 0.1634169981293903), (778, 0.1634169981293903), (2090, 0.1634169981293903), (3063, 0.1634169981293903), (4622, 0.1634169981293903), (618, 0.16288237315997184), (946, 0.16226274576508318), (2353, 0.16226274576508318), (1388, 0.16209466522625643), (2589, 0.1611348231302914), (2967, 0.1611348231302914), (3103, 0.1611348231302914), (2806, 0.1608576001419115), (9, 0.1607743591221443), (17, 0.1607743591221443), (54, 0.1607743591221443), (55, 0.1607743591221443), (56, 0.1607743591221443), (130, 0.1607743591221443), (231, 0.1607743591221443), (232, 0.1607743591221443), (382, 0.1607743591221443), (568, 0.1607743591221443), (569, 0.1607743591221443), (570, 0.1607743591221443), (592, 0.1607743591221443), (610, 0.1607743591221443), (615, 0.1607743591221443), (954, 0.1607743591221443), (1045, 0.1607743591221443), (1240, 0.1607743591221443), (1258, 0.1607743591221443), (1283, 0.1607743591221443), (1374, 0.1607743591221443), (1386, 0.1607743591221443), (1603, 0.1607743591221443), (2641, 0.1607743591221443), (3454, 0.1607743591221443), (3697, 0.1607743591221443), (3786, 0.1607743591221443), (3979, 0.1607743591221443), (4055, 0.1607743591221443), (4294, 0.1607743591221443), (4509, 0.1607743591221443), (4742, 0.1607743591221443), (13, 0.16008222106639874), (131, 0.16008222106639874), (155, 0.16008222106639874), (168, 0.16008222106639874), (186, 0.16008222106639874), (658, 0.16008222106639874), (789, 0.16008222106639874), (881, 0.16008222106639874), (906, 0.16008222106639874), (1988, 0.16008222106639874), (2022, 0.16008222106639874), (2054, 0.16008222106639874), (2291, 0.16008222106639874), (3053, 0.16008222106639874), (3223, 0.16008222106639874), (4313, 0.16008222106639874), (4499, 0.16008222106639874), (4736, 0.16008222106639874), (338, 0.15883093657515635), (339, 0.15883093657515635), (414, 0.15883093657515635), (415, 0.15883093657515635), (770, 0.15883093657515635), (2497, 0.15883093657515635), (4542, 0.15883093657515635), (3525, 0.15863187854618097), (4241, 0.15863187854618097), (188, 0.15860076967123563), (404, 0.15860076967123563), (752, 0.15860076967123563), (781, 0.15860076967123563), (807, 0.15860076967123563), (836, 0.15860076967123563), (1142, 0.15860076967123563), (1155, 0.15860076967123563), (1196, 0.15860076967123563), (1525, 0.15860076967123563), (1684, 0.15860076967123563), (1726, 0.15860076967123563), (1771, 0.15860076967123563), (1913, 0.15860076967123563), (2322, 0.15860076967123563), (2371, 0.15860076967123563), (2456, 0.15860076967123563), (259, 0.15851877355284183), (394, 0.15851877355284183), (440, 0.15851877355284183), (554, 0.15851877355284183), (555, 0.15851877355284183), (561, 0.15851877355284183), (656, 0.15851877355284183), (763, 0.15851877355284183), (1066, 0.15851877355284183), (1651, 0.15851877355284183), (1657, 0.15851877355284183), (3059, 0.15851877355284183), (3368, 0.15851877355284183), (3453, 0.15851877355284183), (3955, 0.15851877355284183), (4100, 0.15851877355284183), (4276, 0.15851877355284183), (4373, 0.15851877355284183), (2, 0.1579588169861995), (423, 0.1579588169861995), (1307, 0.1579588169861995), (1704, 0.1579588169861995), (1720, 0.1579588169861995), (1758, 0.1579588169861995), (1800, 0.1579588169861995), (1820, 0.1579588169861995), (1979, 0.1579588169861995), (2030, 0.1579588169861995), (2135, 0.1579588169861995), (2171, 0.1579588169861995), (2263, 0.1579588169861995), (2267, 0.1579588169861995), (2372, 0.1579588169861995), (2408, 0.1579588169861995), (2462, 0.1579588169861995), (2583, 0.1579588169861995), (2704, 0.1579588169861995), (2719, 0.1579588169861995), (3138, 0.1579588169861995), (3208, 0.1579588169861995), (3457, 0.1579588169861995), (3476, 0.1579588169861995), (3505, 0.1579588169861995), (3631, 0.1579588169861995), (3816, 0.1579588169861995), (3843, 0.1579588169861995), (4146, 0.1579588169861995), (4559, 0.1579588169861995), (4662, 0.1579588169861995), (1193, 0.15752160674772606), (2140, 0.15752160674772606), (2179, 0.15752160674772606), (2597, 0.15752160674772606), (3585, 0.15752160674772606), (3764, 0.15752160674772606), (4217, 0.15752160674772606), (3594, 0.1552068803720693), (4177, 0.15460715745972428), (411, 0.1543225237431612), (3522, 0.1543225237431612), (3609, 0.1543225237431612), (3738, 0.1543225237431612), (4519, 0.154295052192017), (3459, 0.15411137993676727), (3472, 0.15411137993676727), (3846, 0.15411137993676727), (2754, 0.15404452966563836), (153, 0.15380226153821258), (1552, 0.15380226153821258), (1898, 0.15380226153821258), (2381, 0.15380226153821258), (2646, 0.15380226153821258), (75, 0.15359494732499762), (150, 0.15359494732499762), (2177, 0.15359494732499762), (4467, 0.15359494732499762), (4588, 0.15359494732499762), (4532, 0.15304667243394057), (3002, 0.15125181753421485), (398, 0.15099995909686276), (784, 0.15099995909686276), (786, 0.15099995909686276), (1424, 0.15099995909686276), (1888, 0.15099995909686276), (2107, 0.15099995909686276), (2308, 0.15099995909686276), (4027, 0.15099995909686276), (4198, 0.15099995909686276), (4580, 0.15099995909686276), (1731, 0.15077175259748674), (2006, 0.15077175259748674), (990, 0.15070320163922404), (4609, 0.15070320163922404), (714, 0.15015212704317257), (1868, 0.15013270928701225), (3842, 0.15013270928701225), (4234, 0.15013270928701225), (4700, 0.15013270928701225), (179, 0.14957546926195867), (277, 0.14957546926195867), (297, 0.14957546926195867), (298, 0.14957546926195867), (299, 0.14957546926195867), (300, 0.14957546926195867), (340, 0.14957546926195867), (713, 0.14957546926195867), (724, 0.14957546926195867), (1067, 0.14957546926195867), (1581, 0.14957546926195867), (1932, 0.14957546926195867), (2100, 0.14957546926195867), (2198, 0.14957546926195867), (2259, 0.14957546926195867), (3058, 0.14957546926195867), (3695, 0.14957546926195867), (3785, 0.14957546926195867), (4338, 0.14957546926195867), (4478, 0.14957546926195867), (4482, 0.14957546926195867), (4569, 0.14957546926195867), (1486, 0.14884076262022553), (1592, 0.14884076262022553), (2021, 0.14884076262022553), (2058, 0.14884076262022553), (2217, 0.14884076262022553), (3270, 0.14884076262022553), (3323, 0.14884076262022553), (3595, 0.14884076262022553), (3998, 0.14884076262022553), (4453, 0.14884076262022553), (4725, 0.14884076262022553), (14, 0.14837694196736156), (245, 0.14837694196736156), (391, 0.14837694196736156), (392, 0.14837694196736156), (1008, 0.14837694196736156), (1025, 0.14837694196736156), (1166, 0.14837694196736156), (1291, 0.14837694196736156), (1336, 0.14837694196736156), (1496, 0.14837694196736156), (1524, 0.14837694196736156), (1602, 0.14837694196736156), (1769, 0.14837694196736156), (1837, 0.14837694196736156), (2041, 0.14837694196736156), (2516, 0.14837694196736156), (2781, 0.14837694196736156), (3256, 0.14837694196736156), (3481, 0.14837694196736156), (3485, 0.14837694196736156), (3562, 0.14837694196736156), (3633, 0.14837694196736156), (3671, 0.14837694196736156), (3943, 0.14837694196736156), (4010, 0.14837694196736156), (4173, 0.14837694196736156), (4207, 0.14837694196736156), (1095, 0.14794007329031442), (1966, 0.14794007329031442), (2824, 0.14794007329031442), (3001, 0.14794007329031442), (3021, 0.14794007329031442), (3048, 0.14794007329031442), (3068, 0.14794007329031442), (3994, 0.14794007329031442), (4063, 0.14794007329031442), (4302, 0.14794007329031442), (4683, 0.14794007329031442), (4730, 0.14775402740964116), (4144, 0.14732841469685587), (2085, 0.14630797812603838), (2239, 0.14630797812603838), (2243, 0.14630797812603838), (3703, 0.14630797812603838), (1984, 0.14608904778251988), (545, 0.14474245341341693), (1022, 0.14474245341341693), (2605, 0.14474245341341693), (2804, 0.14474245341341693), (3231, 0.14474245341341693), (2081, 0.14434538665221427), (2499, 0.14434538665221427), (1794, 0.14428334476989374), (1346, 0.14419186318874466), (3545, 0.14411074064953874), (3650, 0.14411074064953874), (1051, 0.1440738786382356), (1159, 0.14369192887740181), (549, 0.1433535293418951), (2358, 0.1433535293418951), (3144, 0.1433535293418951), (328, 0.14264024918175755), (859, 0.14261763069071842), (1610, 0.14261763069071842), (1804, 0.14261763069071842), (2335, 0.14261763069071842), (747, 0.1424439788713262), (237, 0.14240996485133864), (650, 0.14240996485133864), (4237, 0.14155200280059702), (4324, 0.14155200280059702), (1926, 0.14152686682485033), (53, 0.14136395646137015), (401, 0.14136395646137015), (720, 0.14136395646137015), (1373, 0.14136395646137015), (1615, 0.14136395646137015), (1697, 0.14136395646137015), (2590, 0.14136395646137015), (4218, 0.14136395646137015), (1, 0.14130588500477448), (151, 0.14130588500477448), (171, 0.14130588500477448), (258, 0.14130588500477448), (379, 0.14130588500477448), (390, 0.14130588500477448), (565, 0.14130588500477448), (567, 0.14130588500477448), (572, 0.14130588500477448), (591, 0.14130588500477448), (599, 0.14130588500477448), (600, 0.14130588500477448), (601, 0.14130588500477448), (602, 0.14130588500477448), (603, 0.14130588500477448), (681, 0.14130588500477448), (1091, 0.14130588500477448), (1151, 0.14130588500477448), (1269, 0.14130588500477448), (1354, 0.14130588500477448), (1579, 0.14130588500477448), (1948, 0.14130588500477448), (2233, 0.14130588500477448), (2713, 0.14130588500477448), (2749, 0.14130588500477448), (2850, 0.14130588500477448), (2860, 0.14130588500477448), (2898, 0.14130588500477448), (2950, 0.14130588500477448), (3132, 0.14130588500477448), (3193, 0.14130588500477448), (3427, 0.14130588500477448), (3467, 0.14130588500477448), (3469, 0.14130588500477448), (3532, 0.14130588500477448), (3690, 0.14130588500477448), (3693, 0.14130588500477448), (3743, 0.14130588500477448), (3840, 0.14130588500477448), (3869, 0.14130588500477448), (3937, 0.14130588500477448), (3968, 0.14130588500477448), (3972, 0.14130588500477448), (3977, 0.14130588500477448), (3982, 0.14130588500477448), (4041, 0.14130588500477448), (4077, 0.14130588500477448), (4128, 0.14130588500477448), (4153, 0.14130588500477448), (4181, 0.14130588500477448), (4238, 0.14130588500477448), (4493, 0.14130588500477448), (1016, 0.1409088165797575), (1607, 0.1409088165797575), (1755, 0.1409088165797575), (2095, 0.1409088165797575), (2332, 0.1409088165797575), (2352, 0.1409088165797575), (2365, 0.1409088165797575), (2414, 0.1409088165797575), (2885, 0.1409088165797575), (3482, 0.1409088165797575), (3817, 0.1409088165797575), (3871, 0.1409088165797575), (3991, 0.1409088165797575), (4009, 0.1409088165797575), (4196, 0.1409088165797575), (4526, 0.1409088165797575), (776, 0.13998097458365774), (1205, 0.13998097458365774), (2644, 0.13998097458365774), (3688, 0.13998097458365774), (413, 0.13982333860009344), (1361, 0.13982333860009344), (1783, 0.13982333860009344), (2756, 0.13982333860009344), (2770, 0.13982333860009344), (3080, 0.13982333860009344), (4145, 0.13951531660357577), (2811, 0.13859598807839074), (57, 0.1385140848438108), (882, 0.1385140848438108), (4613, 0.1385140848438108), (4726, 0.1385140848438108), (1541, 0.13838576346473608), (4188, 0.13830929143241597), (725, 0.1381572297460495), (1466, 0.1381572297460495), (1604, 0.1381572297460495), (28, 0.1374826137678041), (751, 0.1374826137678041), (1249, 0.1374826137678041), (1750, 0.1374826137678041), (1836, 0.1374826137678041), (2018, 0.1374826137678041), (3559, 0.1374826137678041), (1894, 0.13744214051270282), (1714, 0.13721109506064919), (4037, 0.13721109506064919), (4357, 0.13720455940456128), (64, 0.1370638340429739), (2038, 0.1370638340429739), (3515, 0.1370638340429739), (4250, 0.1370638340429739), (926, 0.1369457324379671), (516, 0.1368653969522434), (517, 0.1368653969522434), (1031, 0.1368653969522434), (1056, 0.1368653969522434), (1057, 0.1368653969522434), (1265, 0.1368653969522434), (1535, 0.1368653969522434), (2180, 0.1368653969522434), (3528, 0.1368653969522434), (3724, 0.1368653969522434), (1014, 0.1367180430680673), (1855, 0.13669242292689052), (2574, 0.13628080113994606), (700, 0.13594811081805505), (492, 0.13452743077000665), (1046, 0.13452743077000665), (1467, 0.13452743077000665), (2114, 0.13452743077000665), (2772, 0.13448567487693908), (263, 0.13432166923420846), (264, 0.13432166923420846), (177, 0.13418467210678842), (2654, 0.13418467210678842), (2938, 0.13418467210678842), (3847, 0.13418467210678842), (1323, 0.13414053781910748), (3202, 0.13402430615096272), (185, 0.1339804769463195), (219, 0.1339804769463195), (409, 0.1339804769463195), (421, 0.1339804769463195), (461, 0.1339804769463195), (920, 0.1339804769463195), (1085, 0.1339804769463195), (1165, 0.1339804769463195), (1327, 0.1339804769463195), (1333, 0.1339804769463195), (1521, 0.1339804769463195), (1640, 0.1339804769463195), (1700, 0.1339804769463195), (1844, 0.1339804769463195), (1999, 0.1339804769463195), (2183, 0.1339804769463195), (2329, 0.1339804769463195), (2504, 0.1339804769463195), (3287, 0.1339804769463195), (3395, 0.1339804769463195), (3397, 0.1339804769463195), (3444, 0.1339804769463195), (3574, 0.1339804769463195), (3735, 0.1339804769463195), (3803, 0.1339804769463195), (3865, 0.1339804769463195), (4086, 0.1339804769463195), (4195, 0.1339804769463195), (4303, 0.1339804769463195), (4341, 0.1339804769463195), (4347, 0.1339804769463195), (4457, 0.1339804769463195), (4492, 0.1339804769463195), (4570, 0.1339804769463195), (3105, 0.13365857011569546), (686, 0.13352132291109028), (2337, 0.13352132291109028), (4364, 0.13352132291109028), (2709, 0.13308404729192927), (2205, 0.1324786861639953), (3568, 0.13245132184062358), (3700, 0.13245132184062358), (4323, 0.13191688212230118), (773, 0.13180602223118004), (498, 0.13160851562164844), (528, 0.13160851562164844), (1310, 0.13160851562164844), (1368, 0.13160851562164844), (2389, 0.13160851562164844), (2616, 0.13160851562164844), (2672, 0.13160851562164844), (1069, 0.13147855014820073), (1908, 0.13147855014820073), (3709, 0.13147855014820073), (574, 0.13131525332088015), (2118, 0.13131525332088015), (4635, 0.13131525332088015), (1460, 0.1312410132956222), (3752, 0.13100453370147502), (2439, 0.13049036608523196), (1039, 0.13039438170649992), (2256, 0.13039438170649992), (2300, 0.13039438170649992), (2750, 0.13039438170649992), (3025, 0.13039438170649992), (3145, 0.13039438170649992), (3976, 0.13039438170649992), (4170, 0.13039438170649992), (4179, 0.13039438170649992), (4485, 0.13039438170649992), (4651, 0.13039438170649992), (2152, 0.13013076033984725), (1511, 0.12999984178843924), (726, 0.12969465431262295), (1955, 0.12969465431262295), (1802, 0.12964980505830329), (3834, 0.12964980505830329), (19, 0.12956401823871008), (65, 0.12956401823871008), (553, 0.12956401823871008), (3718, 0.12956401823871008), (2982, 0.1286241867123072), (405, 0.12850185742929882), (1212, 0.12845940888230234), (662, 0.12816087067782467), (1246, 0.12816087067782467), (1578, 0.12816087067782467), (3790, 0.12816087067782467), (3812, 0.12816087067782467), (4191, 0.12816087067782467), (1285, 0.12811759332953596), (1250, 0.12787902919334002), (2837, 0.12787902919334002), (3480, 0.12787902919334002), (45, 0.12758253214920692), (73, 0.12758253214920692), (91, 0.12758253214920692), (1013, 0.12758253214920692), (1911, 0.12758253214920692), (3980, 0.12720498879890832), (301, 0.1271239611019201), (2398, 0.12694204207990217), (1830, 0.12668005682176656), (1256, 0.12667784137277716), (1903, 0.12667784137277716), (2086, 0.12667784137277716), (2500, 0.12667784137277716), (945, 0.12664807556954774), (1113, 0.12664807556954774), (2426, 0.12664807556954774), (386, 0.12621518576123342), (1728, 0.12621518576123342), (2294, 0.12621518576123342), (2670, 0.12621518576123342), (2935, 0.12621518576123342), (376, 0.12611540498270837), (439, 0.12611540498270837), (1097, 0.12611540498270837), (1233, 0.12611540498270837), (1295, 0.12611540498270837), (1756, 0.12611540498270837), (2828, 0.12611540498270837), (2150, 0.12558874378392645), (2153, 0.12558874378392645), (2433, 0.12558874378392645), (2584, 0.12558874378392645), (3628, 0.12558874378392645), (4112, 0.12558874378392645), (4199, 0.12558874378392645), (4210, 0.12558874378392645), (1315, 0.1253234985382669), (1745, 0.1253234985382669), (3114, 0.1253234985382669), (1358, 0.1252103389348734), (335, 0.12506358450692168), (3473, 0.12506358450692168), (3607, 0.12506358450692168), (3676, 0.12484952683481595), (134, 0.12484625227448906), (302, 0.12452415710518708), (4351, 0.12392243941718889), (2822, 0.1238843679566299), (3870, 0.1238843679566299), (1418, 0.1235746078575374), (491, 0.12352111685766987), (613, 0.12352111685766987), (1111, 0.12352111685766987), (2691, 0.12352111685766987), (2955, 0.12352111685766987), (3463, 0.12352111685766987), (3783, 0.12352111685766987), (3798, 0.12352111685766987), (4070, 0.12352111685766987), (4271, 0.12334565168973559), (3008, 0.12325948642298551), (58, 0.12325563192382069), (909, 0.12325563192382069), (1529, 0.12325563192382069), (1600, 0.12325563192382069), (2532, 0.12325563192382069), (3272, 0.12325563192382069), (4034, 0.12325563192382069), (4270, 0.12325563192382069), (4455, 0.12325563192382069), (3034, 0.12321209246935137), (3205, 0.12270947298424212), (913, 0.12254151628580802), (1296, 0.12254151628580802), (1613, 0.12252717413877086), (3089, 0.12252717413877086), (3773, 0.12192952638084655), (2867, 0.12077730185898669), (1171, 0.1206574990646967), (497, 0.12027375650197368), (2125, 0.12027375650197368), (3923, 0.12027375650197368), (2856, 0.1201436669948557), (1341, 0.11877422450706457), (1468, 0.11877422450706457), (1982, 0.11877422450706457), (2843, 0.11877422450706457), (3965, 0.11877422450706457), (361, 0.11853812865975578), (362, 0.11853812865975578), (363, 0.11853812865975578), (365, 0.11853812865975578), (1495, 0.11853812865975578), (1601, 0.11853812865975578), (2019, 0.11853812865975578), (2688, 0.11853812865975578), (3286, 0.11853812865975578), (3461, 0.11853812865975578), (3805, 0.11853812865975578), (4099, 0.11853812865975578), (257, 0.11821978749917517), (977, 0.11821978749917517), (1505, 0.11762536313038877), (2666, 0.11762536313038877), (3533, 0.11742978219178365), (3682, 0.11742978219178365), (4439, 0.11699356661044975), (4168, 0.11682219378854788), (1606, 0.11676565516017659), (1841, 0.11662827270923572), (4754, 0.11662827270923572), (821, 0.11659929051101048), (2521, 0.11575859863505093), (2357, 0.11555432863330443), (819, 0.11539207590990193), (3332, 0.1147759279185542), (2479, 0.11429316835427743), (546, 0.11403822893073125), (2729, 0.11403822893073125), (3141, 0.11403822893073125), (1810, 0.11379889037533251), (2451, 0.11379889037533251), (1515, 0.11241636910737939), (1649, 0.11241636910737939), (3181, 0.11182430368884916), (3963, 0.11177824108498909), (3255, 0.11122973900828269), (4110, 0.11122973900828269), (1316, 0.11053363205213958), (2708, 0.11016779911410146), (2450, 0.11005470921244818), (2539, 0.11005470921244818), (3685, 0.11005470921244818), (2715, 0.10890235106247904), (961, 0.10863252887759527), (2813, 0.10863252887759527), (3539, 0.10863252887759527), (1011, 0.10852116605390283), (2880, 0.10825805430376051), (2717, 0.10786535732283437), (674, 0.10741583313977104), (4676, 0.10741583313977104), (912, 0.10676026275270302), (4346, 0.10676026275270302), (1775, 0.10608649124240252), (1108, 0.10588104836379152), (1198, 0.10571369199972992), (3366, 0.10571369199972992), (1195, 0.10387465320830426), (1664, 0.10387465320830426), (2927, 0.10387465320830426), (4278, 0.07966723658655649), (4166, 0.07937427926055521), (2207, 0.0736921652799127)]\n"
          ]
        }
      ]
    },
    {
      "cell_type": "markdown",
      "source": [
        "# Model Evaluation and Result Display"
      ],
      "metadata": {
        "id": "XtA5Qta69sqi"
      }
    },
    {
      "cell_type": "code",
      "source": [
        "#print the name of similar movies based on the index\n",
        "print('Top 30 Movies Suggested for You: \\n')\n",
        "i=1\n",
        "for movie in Sorted_Similar_Movies:\n",
        "  index = movie[0]\n",
        "  title_from_index =df[df.index==index]['Movie_Title'].values[0]\n",
        "  if (i<31):\n",
        "    print(i, '.', title_from_index )\n",
        "    i+=1"
      ],
      "metadata": {
        "colab": {
          "base_uri": "https://localhost:8080/"
        },
        "id": "DpfFZCb2u--A",
        "outputId": "a85c9368-80ca-442b-ecf1-7f5d307b61ca"
      },
      "execution_count": null,
      "outputs": [
        {
          "output_type": "stream",
          "name": "stdout",
          "text": [
            "Top 30 Movies Suggested for You: \n",
            "\n",
            "1 . A History of Violence\n",
            "2 . Absolute Power\n",
            "3 . The Godfather: Part III\n",
            "4 . The Silence of the Lambs\n",
            "5 . Brother\n",
            "6 . Inside Man\n",
            "7 . Maria Full of Grace\n",
            "8 . 21 Grams\n",
            "9 . The Usual Suspects\n",
            "10 . Sleepers\n",
            "11 . The Talented Mr. Ripley\n",
            "12 . Hannibal Rising\n",
            "13 . American Psycho\n",
            "14 . The Departed\n",
            "15 . Collateral\n",
            "16 . A Time to Kill\n",
            "17 . Lord of War\n",
            "18 . Traffic\n",
            "19 . We Own the Night\n",
            "20 . Out of Time\n",
            "21 . Dirty Pretty Things\n",
            "22 . Road to Perdition\n",
            "23 . The Devil's Own\n",
            "24 . Panic Room\n",
            "25 . Layer Cake\n",
            "26 . The International\n",
            "27 . The Good Thief\n",
            "28 . No Country for Old Men\n",
            "29 . John Q\n",
            "30 . Albino Alligator\n"
          ]
        }
      ]
    },
    {
      "cell_type": "markdown",
      "source": [
        "# Additional Prediction"
      ],
      "metadata": {
        "id": "xol0xHhH99s1"
      }
    },
    {
      "cell_type": "code",
      "source": [
        "Movie_Name = input('Enter your favourite movie name : ')\n",
        "list_of_all_titles = df['Movie_Title'].tolist()\n",
        "Find_Close_Match = difflib.get_close_matches(Movie_Name, list_of_all_titles)\n",
        "Close_Match = Find_Close_Match[0]\n",
        "Index_of_Movie = df[df.Movie_Title == Close_Match]['Movie_ID'].values[0]\n",
        "Recommendation_Score = list(enumerate(similarity_score[Index_of_Movie]))\n",
        "sorted_similar_movies = sorted( Recommendation_Score, key = lambda x:x[1], reverse = True)\n",
        "print('Top 10 Movies suggested for you : \\n')\n",
        "i = 1\n",
        "for movie in sorted_similar_movies:\n",
        "  index = movie[0]\n",
        "  title_from_index = df[df.Movie_ID==index]['Movie_Title'].values\n",
        "  if (i<11):\n",
        "    print(i, '.',title_from_index)\n",
        "    i+=1"
      ],
      "metadata": {
        "colab": {
          "base_uri": "https://localhost:8080/"
        },
        "id": "Nhd9fFZ1wVY1",
        "outputId": "17a56b73-9b43-49e9-c6c9-ad3f3f6b7d46"
      },
      "execution_count": null,
      "outputs": [
        {
          "output_type": "stream",
          "name": "stdout",
          "text": [
            "Enter your favourite movie name : avtaar\n",
            "Top 10 Movies suggested for you : \n",
            "\n",
            "1 . [\"Pirates of the Caribbean: Dead Man's Chest\"]\n",
            "2 . ['8 Mile']\n",
            "3 . ['The Godfather: Part II']\n",
            "4 . ['Batman Begins']\n",
            "5 . ['Snakes on a Plane']\n",
            "6 . ['Das Boot']\n",
            "7 . ['The Day After Tomorrow']\n",
            "8 . ['My Own Private Idaho']\n",
            "9 . ['Interview with the Vampire']\n",
            "10 . ['Austin Powers in Goldmember']\n"
          ]
        }
      ]
    },
    {
      "cell_type": "markdown",
      "source": [
        "# Explanation\n",
        "This code builds a movie recommendation system using Python, pandas, and machine learning. It reads movie data, preprocesses it by combining features, and uses TF-IDF vectorization to transform the text data. The system then calculates cosine similarity scores to find movies similar to a user's favorite movie, providing recommendations based on similarity scores. The final part of the code allows for additional movie recommendations based on user input."
      ],
      "metadata": {
        "id": "CwUmWSod-Kh4"
      }
    }
  ]
}